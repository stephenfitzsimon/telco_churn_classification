{
 "cells": [
  {
   "cell_type": "markdown",
   "id": "32681b1e",
   "metadata": {},
   "source": [
    "# Telco Churn Final Report\n",
    "\n",
    "Understanding the predictors of churn among telecommuncations customers at Telco\n",
    "\n",
    "## Key Take-Aways From This Report <a name='keytakeaways'></a>\n",
    "- $\\approx 0.27$ of customers are churning per month\n",
    "- Customers with month-to-month, fiber optic service, and electronic check are high predictors of churn; in addition, churned customers tend to pay more per-month.\n",
    "- A decision tree model is $\\approx 0.77$ accurate\n",
    "- Recommendation: \n",
    "    1. Promote longer contracts, and services that correctly meet customer needs (perhaps through additional services). \n",
    "    2. Reduce monthly charges early on in a customer relationship by offering discounts\n",
    "    \n",
    "<a href='#conclusion'>Last Slide: Conclusion</a> - <a href='#introduction'>Next: Introduction</a>"
   ]
  },
  {
   "cell_type": "markdown",
   "id": "87a855d7",
   "metadata": {},
   "source": [
    "## Final Reports Contents <a name='contents'></a>\n",
    "\n",
    "1. <a href='#introduction'>Introduction</a>\n",
    "    1. <a href='#goals'>Goals and Deliverables</a>\n",
    "    2. <a href='#hypothesis'>Initial Hypothesis/Questions</a>\n",
    "2. <a href='#dataintro'>Introduction to the Data</a>\n",
    "3. <a href='#acquire'>Acquire Data</a>\n",
    "4. <a href='#prepare'>Prepare Data</a>\n",
    "5. <a href='#explore'>Explore Data</a>\n",
    "    1. <a href='#churn'>How bad is churn?</a>\n",
    "    1. <a href='#tenure'>How long have churned customers been with the company?</a>\n",
    "    2. <a href='#permonth'>Are churned customers paying more per month?</a>\n",
    "    3. <a href='#churncontract'>Is churn associated with a contract type?</a>\n",
    "    4. <a href='#churninternettype'>Is churn associated with internet service type?</a>\n",
    "    5. <a href='#electroniccheck'>Is churn associated with electronic (non-automatic) payments </a>\n",
    "    6. <a href='#explorediscussion'>Exploration discussion </a>\n",
    "6. <a href='#modeling'>Machine Learning Model of Churn</a>\n",
    "    1. <a href='#encode'>Encode Variables</a>\n",
    "    2. <a href='#baseline'>Baseline Model</a>\n",
    "    3. <a href='#xysets'>Subset into X and y subsets</a>\n",
    "    4. <a href='#models'>Candidate Models</a>\n",
    "        4. <a href='#knneighbors'>K Nearest Neighbors Model</a>\n",
    "        5. <a href='#decisiontree'>Decision Tree Model</a>\n",
    "        6. <a href='#randomforest'>Random Forest Model</a>\n",
    "        7. <a href='#logisticreg'>Logistic Regression Model</a>\n",
    "    5. <a href='#comparing'>Comparing Models</a>\n",
    "    6. <a href='#modeldiscussion'>Machine Learning Model Discussion</a>\n",
    "7. <a href='#test'>Testing the Model</a>\n",
    "8. <a href= '#recommendations'>Recommendations</a>\n",
    "9. <a href='#conclusion'>Conclusion</a>"
   ]
  },
  {
   "cell_type": "markdown",
   "id": "2a0580be",
   "metadata": {},
   "source": [
    "The following Python modules and constants are used in this project:"
   ]
  },
  {
   "cell_type": "code",
   "execution_count": 1,
   "id": "a6843c0a",
   "metadata": {},
   "outputs": [],
   "source": [
    "import pandas as pd\n",
    "import itertools\n",
    "from scipy import stats\n",
    "import matplotlib.pyplot as plt\n",
    "import seaborn as sns\n",
    "from sklearn import metrics\n",
    "\n",
    "from sklearn.tree import DecisionTreeClassifier, plot_tree\n",
    "from sklearn.ensemble import RandomForestClassifier\n",
    "from sklearn.neighbors import KNeighborsClassifier\n",
    "from sklearn.linear_model import LogisticRegression\n",
    "\n",
    "import acquire\n",
    "import prepare\n",
    "\n",
    "rand_seed = prepare.RAND_SEED #to use for the model building\n",
    "alpha = 0.05 #used for hypothesis testing"
   ]
  },
  {
   "cell_type": "markdown",
   "id": "3325f73f",
   "metadata": {},
   "source": [
    "## Introduction <a name='introduction'></a>\n",
    "\n",
    "This project explores the Telco data set to determine the variables of customer churn. It includes the full data science pipline: acquiring and cleaning the data, exploring and visualizing the data, and finally using a model to predict churn.\n",
    "\n",
    "### Goals and Deliverables <a name='goals'></a>\n",
    "\n",
    "- Goals\n",
    "\t- Identify at least 3 variables that predict churn\n",
    "\t- A model that is at least 0.75 accurate\n",
    "\t- A report communicating the data science pipeline process\n",
    "- Deliverables\n",
    "\t- A final report Jupyter Notebook with clean code\n",
    "\t- Python modules automating the acquire and preparation of the data\n",
    "\t- A CSV of data predictions\n",
    "\n",
    "### Initial Hypothesis/Questions <a name='hypothesis'></a>\n",
    "\n",
    "- I expect that contract and payment types are the most important predictors of churn\n",
    "\t- People who pay more and see it every month are reminded of the money they are spending and can make a value judgement on whether or not they want to spend their money\n",
    "- Are additional services important parts of churn?\n",
    "\t- Are people more reluctant to leave the company if they have certain services?\n",
    "\n",
    "<a href='#keytakeaways'>Prev: Key Takeaways</a> - <a href='#churn'>Next: Churn</a>\n",
    "\n",
    "<a href='#contents'>To Top</a>"
   ]
  },
  {
   "cell_type": "markdown",
   "id": "ddd2b9df",
   "metadata": {},
   "source": [
    "## Introduction to the Data <a name='dataintro'></a>\n",
    "\n",
    "Every row in the data represents an individual customer, and includes data on their relationship with the Telco company.  Each customer has a unique ID consisting of numerics and alphabetic chars.  Basic demographic information is available, consisting of gender, partner status, dependent status, and senior citizen status.  The rest of the columns contain information on the customer's relationship with the company.  \n",
    "\n",
    "#### Customer Identification and Demographic Data:\n",
    "- Customer ID (String)\n",
    "- Gender (Male/Female)\n",
    "- Partner status (Bool)\n",
    "- Dependent status (Bool)\n",
    "- Senior citizen status (Bool)\n",
    "\n",
    "#### Customer Relationship information:\n",
    "- Tenure in months (float)\n",
    "- Monthly charges (\\$USD) (float)\n",
    "- Total charges (\\$USD) (float)\n",
    "- Paperless Billing (Bool)\n",
    "- Payment type (categorical)\n",
    "- Phone Service, with service option columns:\n",
    "    - Multiple lines : One Line, Multiple Lines, No Phone Service (categorical)\n",
    "- Internet Service Type: Fiber Optic, DSL, None (categorical)\n",
    "- Internet Service Option columns (all bool):\n",
    "    - Online security\n",
    "    - Online backup\n",
    "    - Device protection\n",
    "    - Tech support\n",
    "    - Streaming TV\n",
    "    - Streaming movies\n",
    "- Churn status (bool)\n",
    "\n",
    "\n",
    "<a href='#contents'>To Top</a>"
   ]
  },
  {
   "cell_type": "markdown",
   "id": "e49ab9b1",
   "metadata": {},
   "source": [
    "## Acquire the Data <a name='acquire'></a>\n",
    "\n",
    "A custom acquire module is used to retrieve the data from the CodeUp MySQL database.  This module includes the following function signature:\n",
    "- `get_telco_data(query_db=False)` : Queries the database, or-if a `telco.csv` is present-opens a file to retrieve the data needed for this project.  The data is then cast to a DataFrame and returned to the call location.\n",
    "    - `query_db=True` will force a database query even if a `telco.csv` file is present, and the existing `telco.csv` file will be overwritten.\n",
    "    \n",
    "The following MySQL command is used:\n",
    "\n",
    "`SELECT c.*, ct.contract_type, pt.payment_type, iso.internet_service_type\n",
    "    FROM customers AS c\n",
    "        JOIN contract_types AS ct USING (contract_type_id)\n",
    "        JOIN payment_types AS pt USING (payment_type_id)\n",
    "        JOIN internet_service_types AS iso USING (internet_service_type_id);`"
   ]
  },
  {
   "cell_type": "code",
   "execution_count": 2,
   "id": "ac34497e",
   "metadata": {},
   "outputs": [
    {
     "name": "stdout",
     "output_type": "stream",
     "text": [
      "Returning saved csv file.\n"
     ]
    },
    {
     "data": {
      "text/html": [
       "<div>\n",
       "<style scoped>\n",
       "    .dataframe tbody tr th:only-of-type {\n",
       "        vertical-align: middle;\n",
       "    }\n",
       "\n",
       "    .dataframe tbody tr th {\n",
       "        vertical-align: top;\n",
       "    }\n",
       "\n",
       "    .dataframe thead th {\n",
       "        text-align: right;\n",
       "    }\n",
       "</style>\n",
       "<table border=\"1\" class=\"dataframe\">\n",
       "  <thead>\n",
       "    <tr style=\"text-align: right;\">\n",
       "      <th></th>\n",
       "      <th>Unnamed: 0</th>\n",
       "      <th>customer_id</th>\n",
       "      <th>gender</th>\n",
       "      <th>senior_citizen</th>\n",
       "      <th>partner</th>\n",
       "      <th>dependents</th>\n",
       "      <th>tenure</th>\n",
       "      <th>phone_service</th>\n",
       "      <th>multiple_lines</th>\n",
       "      <th>internet_service_type_id</th>\n",
       "      <th>...</th>\n",
       "      <th>streaming_movies</th>\n",
       "      <th>contract_type_id</th>\n",
       "      <th>paperless_billing</th>\n",
       "      <th>payment_type_id</th>\n",
       "      <th>monthly_charges</th>\n",
       "      <th>total_charges</th>\n",
       "      <th>churn</th>\n",
       "      <th>contract_type</th>\n",
       "      <th>payment_type</th>\n",
       "      <th>internet_service_type</th>\n",
       "    </tr>\n",
       "  </thead>\n",
       "  <tbody>\n",
       "    <tr>\n",
       "      <th>0</th>\n",
       "      <td>0</td>\n",
       "      <td>0002-ORFBO</td>\n",
       "      <td>Female</td>\n",
       "      <td>0</td>\n",
       "      <td>Yes</td>\n",
       "      <td>Yes</td>\n",
       "      <td>9</td>\n",
       "      <td>Yes</td>\n",
       "      <td>No</td>\n",
       "      <td>1</td>\n",
       "      <td>...</td>\n",
       "      <td>No</td>\n",
       "      <td>2</td>\n",
       "      <td>Yes</td>\n",
       "      <td>2</td>\n",
       "      <td>65.6</td>\n",
       "      <td>593.3</td>\n",
       "      <td>No</td>\n",
       "      <td>One year</td>\n",
       "      <td>Mailed check</td>\n",
       "      <td>DSL</td>\n",
       "    </tr>\n",
       "    <tr>\n",
       "      <th>1</th>\n",
       "      <td>1</td>\n",
       "      <td>0003-MKNFE</td>\n",
       "      <td>Male</td>\n",
       "      <td>0</td>\n",
       "      <td>No</td>\n",
       "      <td>No</td>\n",
       "      <td>9</td>\n",
       "      <td>Yes</td>\n",
       "      <td>Yes</td>\n",
       "      <td>1</td>\n",
       "      <td>...</td>\n",
       "      <td>Yes</td>\n",
       "      <td>1</td>\n",
       "      <td>No</td>\n",
       "      <td>2</td>\n",
       "      <td>59.9</td>\n",
       "      <td>542.4</td>\n",
       "      <td>No</td>\n",
       "      <td>Month-to-month</td>\n",
       "      <td>Mailed check</td>\n",
       "      <td>DSL</td>\n",
       "    </tr>\n",
       "    <tr>\n",
       "      <th>2</th>\n",
       "      <td>2</td>\n",
       "      <td>0004-TLHLJ</td>\n",
       "      <td>Male</td>\n",
       "      <td>0</td>\n",
       "      <td>No</td>\n",
       "      <td>No</td>\n",
       "      <td>4</td>\n",
       "      <td>Yes</td>\n",
       "      <td>No</td>\n",
       "      <td>2</td>\n",
       "      <td>...</td>\n",
       "      <td>No</td>\n",
       "      <td>1</td>\n",
       "      <td>Yes</td>\n",
       "      <td>1</td>\n",
       "      <td>73.9</td>\n",
       "      <td>280.85</td>\n",
       "      <td>Yes</td>\n",
       "      <td>Month-to-month</td>\n",
       "      <td>Electronic check</td>\n",
       "      <td>Fiber optic</td>\n",
       "    </tr>\n",
       "  </tbody>\n",
       "</table>\n",
       "<p>3 rows × 25 columns</p>\n",
       "</div>"
      ],
      "text/plain": [
       "   Unnamed: 0 customer_id  gender  senior_citizen partner dependents  tenure  \\\n",
       "0           0  0002-ORFBO  Female               0     Yes        Yes       9   \n",
       "1           1  0003-MKNFE    Male               0      No         No       9   \n",
       "2           2  0004-TLHLJ    Male               0      No         No       4   \n",
       "\n",
       "  phone_service multiple_lines  internet_service_type_id  ...  \\\n",
       "0           Yes             No                         1  ...   \n",
       "1           Yes            Yes                         1  ...   \n",
       "2           Yes             No                         2  ...   \n",
       "\n",
       "  streaming_movies contract_type_id paperless_billing payment_type_id  \\\n",
       "0               No                2               Yes               2   \n",
       "1              Yes                1                No               2   \n",
       "2               No                1               Yes               1   \n",
       "\n",
       "  monthly_charges total_charges  churn   contract_type      payment_type  \\\n",
       "0            65.6         593.3     No        One year      Mailed check   \n",
       "1            59.9         542.4     No  Month-to-month      Mailed check   \n",
       "2            73.9        280.85    Yes  Month-to-month  Electronic check   \n",
       "\n",
       "   internet_service_type  \n",
       "0                    DSL  \n",
       "1                    DSL  \n",
       "2            Fiber optic  \n",
       "\n",
       "[3 rows x 25 columns]"
      ]
     },
     "execution_count": 2,
     "metadata": {},
     "output_type": "execute_result"
    }
   ],
   "source": [
    "df = acquire.get_telco_data() # call the custom function and store returned dataframe in the df variable\n",
    "df.head(3) # display the first three rows of the dataframe variable"
   ]
  },
  {
   "cell_type": "code",
   "execution_count": 3,
   "id": "7fae882b",
   "metadata": {
    "scrolled": false
   },
   "outputs": [
    {
     "name": "stdout",
     "output_type": "stream",
     "text": [
      "<class 'pandas.core.frame.DataFrame'>\n",
      "RangeIndex: 7043 entries, 0 to 7042\n",
      "Data columns (total 25 columns):\n",
      " #   Column                    Non-Null Count  Dtype  \n",
      "---  ------                    --------------  -----  \n",
      " 0   Unnamed: 0                7043 non-null   int64  \n",
      " 1   customer_id               7043 non-null   object \n",
      " 2   gender                    7043 non-null   object \n",
      " 3   senior_citizen            7043 non-null   int64  \n",
      " 4   partner                   7043 non-null   object \n",
      " 5   dependents                7043 non-null   object \n",
      " 6   tenure                    7043 non-null   int64  \n",
      " 7   phone_service             7043 non-null   object \n",
      " 8   multiple_lines            7043 non-null   object \n",
      " 9   internet_service_type_id  7043 non-null   int64  \n",
      " 10  online_security           7043 non-null   object \n",
      " 11  online_backup             7043 non-null   object \n",
      " 12  device_protection         7043 non-null   object \n",
      " 13  tech_support              7043 non-null   object \n",
      " 14  streaming_tv              7043 non-null   object \n",
      " 15  streaming_movies          7043 non-null   object \n",
      " 16  contract_type_id          7043 non-null   int64  \n",
      " 17  paperless_billing         7043 non-null   object \n",
      " 18  payment_type_id           7043 non-null   int64  \n",
      " 19  monthly_charges           7043 non-null   float64\n",
      " 20  total_charges             7043 non-null   object \n",
      " 21  churn                     7043 non-null   object \n",
      " 22  contract_type             7043 non-null   object \n",
      " 23  payment_type              7043 non-null   object \n",
      " 24  internet_service_type     7043 non-null   object \n",
      "dtypes: float64(1), int64(6), object(18)\n",
      "memory usage: 1.3+ MB\n"
     ]
    }
   ],
   "source": [
    "df.info() #display the column and type information"
   ]
  },
  {
   "cell_type": "markdown",
   "id": "f415c7ec",
   "metadata": {},
   "source": [
    "Key acquire take-aways:\n",
    "- 7043 rows are retrieved and 24 columns are retrieved\n",
    "\n",
    "<a href='#contents'>To Top</a>"
   ]
  },
  {
   "cell_type": "markdown",
   "id": "889f009e",
   "metadata": {},
   "source": [
    "## Prepare the Data <a name='prepare'></a>\n"
   ]
  },
  {
   "cell_type": "markdown",
   "id": "8c416815",
   "metadata": {},
   "source": [
    "A custom module is used to prepare the data acquired from the database.  It contains the following relevant function signature:\n",
    "- `prep_telco(df)` : Given the acquired dataframe, this drops the foreign keys from the SQL. It also drops the rows without a `total_charges` value; `total_charges` are then cast to `float` data type. Returns a prepared dataframe object.\n",
    "    - The rows dropped in `total_charges` are rows that have `tenure=0`; a `total_charges` of $0$ could be infered--however, there are only $11$ rows where this happens and therefore it represents only $0.0016$ of the original date, i.e. not enough rows to make a difference.\n",
    "- `split_telco_data(df)` : Given a prepared dataframe, this will return train, validate and test subsets of the dataframe.\n",
    "    - The `statify` parameter is used for `sklearn.model_selection.test_train_split()` to ensure that churned customers are equally distributed over the subsets\n",
    "\n",
    "(More information on the code that these functions are made of can be seen in the `prepare.py` comments, and in the `README.md` appendices."
   ]
  },
  {
   "cell_type": "code",
   "execution_count": 4,
   "id": "7045c133",
   "metadata": {
    "scrolled": true
   },
   "outputs": [
    {
     "data": {
      "text/html": [
       "<div>\n",
       "<style scoped>\n",
       "    .dataframe tbody tr th:only-of-type {\n",
       "        vertical-align: middle;\n",
       "    }\n",
       "\n",
       "    .dataframe tbody tr th {\n",
       "        vertical-align: top;\n",
       "    }\n",
       "\n",
       "    .dataframe thead th {\n",
       "        text-align: right;\n",
       "    }\n",
       "</style>\n",
       "<table border=\"1\" class=\"dataframe\">\n",
       "  <thead>\n",
       "    <tr style=\"text-align: right;\">\n",
       "      <th></th>\n",
       "      <th>customer_id</th>\n",
       "      <th>tenure</th>\n",
       "      <th>monthly_charges</th>\n",
       "      <th>total_charges</th>\n",
       "    </tr>\n",
       "  </thead>\n",
       "  <tbody>\n",
       "    <tr>\n",
       "      <th>945</th>\n",
       "      <td>1371-DWPAZ</td>\n",
       "      <td>0</td>\n",
       "      <td>56.05</td>\n",
       "      <td></td>\n",
       "    </tr>\n",
       "    <tr>\n",
       "      <th>1731</th>\n",
       "      <td>2520-SGTTA</td>\n",
       "      <td>0</td>\n",
       "      <td>20.00</td>\n",
       "      <td></td>\n",
       "    </tr>\n",
       "    <tr>\n",
       "      <th>1906</th>\n",
       "      <td>2775-SEFEE</td>\n",
       "      <td>0</td>\n",
       "      <td>61.90</td>\n",
       "      <td></td>\n",
       "    </tr>\n",
       "    <tr>\n",
       "      <th>2025</th>\n",
       "      <td>2923-ARZLG</td>\n",
       "      <td>0</td>\n",
       "      <td>19.70</td>\n",
       "      <td></td>\n",
       "    </tr>\n",
       "    <tr>\n",
       "      <th>2176</th>\n",
       "      <td>3115-CZMZD</td>\n",
       "      <td>0</td>\n",
       "      <td>20.25</td>\n",
       "      <td></td>\n",
       "    </tr>\n",
       "    <tr>\n",
       "      <th>2250</th>\n",
       "      <td>3213-VVOLG</td>\n",
       "      <td>0</td>\n",
       "      <td>25.35</td>\n",
       "      <td></td>\n",
       "    </tr>\n",
       "    <tr>\n",
       "      <th>2855</th>\n",
       "      <td>4075-WKNIU</td>\n",
       "      <td>0</td>\n",
       "      <td>73.35</td>\n",
       "      <td></td>\n",
       "    </tr>\n",
       "    <tr>\n",
       "      <th>3052</th>\n",
       "      <td>4367-NUYAO</td>\n",
       "      <td>0</td>\n",
       "      <td>25.75</td>\n",
       "      <td></td>\n",
       "    </tr>\n",
       "    <tr>\n",
       "      <th>3118</th>\n",
       "      <td>4472-LVYGI</td>\n",
       "      <td>0</td>\n",
       "      <td>52.55</td>\n",
       "      <td></td>\n",
       "    </tr>\n",
       "    <tr>\n",
       "      <th>4054</th>\n",
       "      <td>5709-LVOEQ</td>\n",
       "      <td>0</td>\n",
       "      <td>80.85</td>\n",
       "      <td></td>\n",
       "    </tr>\n",
       "    <tr>\n",
       "      <th>5433</th>\n",
       "      <td>7644-OMVMY</td>\n",
       "      <td>0</td>\n",
       "      <td>19.85</td>\n",
       "      <td></td>\n",
       "    </tr>\n",
       "  </tbody>\n",
       "</table>\n",
       "</div>"
      ],
      "text/plain": [
       "     customer_id  tenure  monthly_charges total_charges\n",
       "945   1371-DWPAZ       0            56.05              \n",
       "1731  2520-SGTTA       0            20.00              \n",
       "1906  2775-SEFEE       0            61.90              \n",
       "2025  2923-ARZLG       0            19.70              \n",
       "2176  3115-CZMZD       0            20.25              \n",
       "2250  3213-VVOLG       0            25.35              \n",
       "2855  4075-WKNIU       0            73.35              \n",
       "3052  4367-NUYAO       0            25.75              \n",
       "3118  4472-LVYGI       0            52.55              \n",
       "4054  5709-LVOEQ       0            80.85              \n",
       "5433  7644-OMVMY       0            19.85              "
      ]
     },
     "execution_count": 4,
     "metadata": {},
     "output_type": "execute_result"
    }
   ],
   "source": [
    "#display the rows that will be dropped\n",
    "df[df.total_charges == ' '][['customer_id', 'tenure', 'monthly_charges', 'total_charges']]"
   ]
  },
  {
   "cell_type": "markdown",
   "id": "c658eb84",
   "metadata": {},
   "source": [
    "These are the eleven rows that have a single space char for total charges."
   ]
  },
  {
   "cell_type": "code",
   "execution_count": 5,
   "id": "80ec4d1d",
   "metadata": {
    "scrolled": true
   },
   "outputs": [
    {
     "name": "stderr",
     "output_type": "stream",
     "text": [
      "/opt/homebrew/anaconda3/lib/python3.9/site-packages/pandas/core/generic.py:5516: SettingWithCopyWarning: \n",
      "A value is trying to be set on a copy of a slice from a DataFrame.\n",
      "Try using .loc[row_indexer,col_indexer] = value instead\n",
      "\n",
      "See the caveats in the documentation: https://pandas.pydata.org/pandas-docs/stable/user_guide/indexing.html#returning-a-view-versus-a-copy\n",
      "  self[name] = value\n"
     ]
    },
    {
     "data": {
      "text/html": [
       "<div>\n",
       "<style scoped>\n",
       "    .dataframe tbody tr th:only-of-type {\n",
       "        vertical-align: middle;\n",
       "    }\n",
       "\n",
       "    .dataframe tbody tr th {\n",
       "        vertical-align: top;\n",
       "    }\n",
       "\n",
       "    .dataframe thead th {\n",
       "        text-align: right;\n",
       "    }\n",
       "</style>\n",
       "<table border=\"1\" class=\"dataframe\">\n",
       "  <thead>\n",
       "    <tr style=\"text-align: right;\">\n",
       "      <th></th>\n",
       "      <th>customer_id</th>\n",
       "      <th>gender</th>\n",
       "      <th>senior_citizen</th>\n",
       "      <th>partner</th>\n",
       "      <th>dependents</th>\n",
       "      <th>tenure</th>\n",
       "      <th>phone_service</th>\n",
       "      <th>multiple_lines</th>\n",
       "      <th>online_security</th>\n",
       "      <th>online_backup</th>\n",
       "      <th>...</th>\n",
       "      <th>tech_support</th>\n",
       "      <th>streaming_tv</th>\n",
       "      <th>streaming_movies</th>\n",
       "      <th>paperless_billing</th>\n",
       "      <th>monthly_charges</th>\n",
       "      <th>total_charges</th>\n",
       "      <th>churn</th>\n",
       "      <th>contract_type</th>\n",
       "      <th>payment_type</th>\n",
       "      <th>internet_service_type</th>\n",
       "    </tr>\n",
       "  </thead>\n",
       "  <tbody>\n",
       "    <tr>\n",
       "      <th>5919</th>\n",
       "      <td>8331-ZXFOE</td>\n",
       "      <td>Female</td>\n",
       "      <td>0</td>\n",
       "      <td>No</td>\n",
       "      <td>No</td>\n",
       "      <td>58</td>\n",
       "      <td>Yes</td>\n",
       "      <td>Yes</td>\n",
       "      <td>Yes</td>\n",
       "      <td>Yes</td>\n",
       "      <td>...</td>\n",
       "      <td>Yes</td>\n",
       "      <td>No</td>\n",
       "      <td>No</td>\n",
       "      <td>Yes</td>\n",
       "      <td>71.10</td>\n",
       "      <td>4299.20</td>\n",
       "      <td>No</td>\n",
       "      <td>One year</td>\n",
       "      <td>Credit card (automatic)</td>\n",
       "      <td>DSL</td>\n",
       "    </tr>\n",
       "    <tr>\n",
       "      <th>1915</th>\n",
       "      <td>2790-XUYMV</td>\n",
       "      <td>Male</td>\n",
       "      <td>0</td>\n",
       "      <td>No</td>\n",
       "      <td>Yes</td>\n",
       "      <td>71</td>\n",
       "      <td>Yes</td>\n",
       "      <td>Yes</td>\n",
       "      <td>Yes</td>\n",
       "      <td>Yes</td>\n",
       "      <td>...</td>\n",
       "      <td>No</td>\n",
       "      <td>No</td>\n",
       "      <td>No</td>\n",
       "      <td>Yes</td>\n",
       "      <td>85.45</td>\n",
       "      <td>6028.95</td>\n",
       "      <td>No</td>\n",
       "      <td>One year</td>\n",
       "      <td>Credit card (automatic)</td>\n",
       "      <td>Fiber optic</td>\n",
       "    </tr>\n",
       "    <tr>\n",
       "      <th>5054</th>\n",
       "      <td>7107-UBYKY</td>\n",
       "      <td>Female</td>\n",
       "      <td>0</td>\n",
       "      <td>Yes</td>\n",
       "      <td>Yes</td>\n",
       "      <td>35</td>\n",
       "      <td>Yes</td>\n",
       "      <td>Yes</td>\n",
       "      <td>No internet service</td>\n",
       "      <td>No internet service</td>\n",
       "      <td>...</td>\n",
       "      <td>No internet service</td>\n",
       "      <td>No internet service</td>\n",
       "      <td>No internet service</td>\n",
       "      <td>Yes</td>\n",
       "      <td>25.75</td>\n",
       "      <td>882.55</td>\n",
       "      <td>No</td>\n",
       "      <td>Month-to-month</td>\n",
       "      <td>Electronic check</td>\n",
       "      <td>None</td>\n",
       "    </tr>\n",
       "  </tbody>\n",
       "</table>\n",
       "<p>3 rows × 21 columns</p>\n",
       "</div>"
      ],
      "text/plain": [
       "     customer_id  gender  senior_citizen partner dependents  tenure  \\\n",
       "5919  8331-ZXFOE  Female               0      No         No      58   \n",
       "1915  2790-XUYMV    Male               0      No        Yes      71   \n",
       "5054  7107-UBYKY  Female               0     Yes        Yes      35   \n",
       "\n",
       "     phone_service multiple_lines      online_security        online_backup  \\\n",
       "5919           Yes            Yes                  Yes                  Yes   \n",
       "1915           Yes            Yes                  Yes                  Yes   \n",
       "5054           Yes            Yes  No internet service  No internet service   \n",
       "\n",
       "      ...         tech_support         streaming_tv     streaming_movies  \\\n",
       "5919  ...                  Yes                   No                   No   \n",
       "1915  ...                   No                   No                   No   \n",
       "5054  ...  No internet service  No internet service  No internet service   \n",
       "\n",
       "     paperless_billing monthly_charges  total_charges  churn   contract_type  \\\n",
       "5919               Yes           71.10        4299.20     No        One year   \n",
       "1915               Yes           85.45        6028.95     No        One year   \n",
       "5054               Yes           25.75         882.55     No  Month-to-month   \n",
       "\n",
       "                 payment_type internet_service_type  \n",
       "5919  Credit card (automatic)                   DSL  \n",
       "1915  Credit card (automatic)           Fiber optic  \n",
       "5054         Electronic check                  None  \n",
       "\n",
       "[3 rows x 21 columns]"
      ]
     },
     "execution_count": 5,
     "metadata": {},
     "output_type": "execute_result"
    }
   ],
   "source": [
    "df_prep = prepare.prep_telco(df) #split the dataframe into three subsets\n",
    "train, validate, test = prepare.split_telco_data(df_prep)\n",
    "train.head(3)"
   ]
  },
  {
   "cell_type": "code",
   "execution_count": 6,
   "id": "a637ba44",
   "metadata": {},
   "outputs": [
    {
     "data": {
      "text/plain": [
       "(3937, 21)"
      ]
     },
     "execution_count": 6,
     "metadata": {},
     "output_type": "execute_result"
    }
   ],
   "source": [
    "train.shape #there are 3943 rows and 25 columns"
   ]
  },
  {
   "cell_type": "code",
   "execution_count": 7,
   "id": "9881f368",
   "metadata": {
    "scrolled": false
   },
   "outputs": [
    {
     "name": "stdout",
     "output_type": "stream",
     "text": [
      "<class 'pandas.core.frame.DataFrame'>\n",
      "Int64Index: 3937 entries, 5919 to 4192\n",
      "Data columns (total 21 columns):\n",
      " #   Column                 Non-Null Count  Dtype  \n",
      "---  ------                 --------------  -----  \n",
      " 0   customer_id            3937 non-null   object \n",
      " 1   gender                 3937 non-null   object \n",
      " 2   senior_citizen         3937 non-null   int64  \n",
      " 3   partner                3937 non-null   object \n",
      " 4   dependents             3937 non-null   object \n",
      " 5   tenure                 3937 non-null   int64  \n",
      " 6   phone_service          3937 non-null   object \n",
      " 7   multiple_lines         3937 non-null   object \n",
      " 8   online_security        3937 non-null   object \n",
      " 9   online_backup          3937 non-null   object \n",
      " 10  device_protection      3937 non-null   object \n",
      " 11  tech_support           3937 non-null   object \n",
      " 12  streaming_tv           3937 non-null   object \n",
      " 13  streaming_movies       3937 non-null   object \n",
      " 14  paperless_billing      3937 non-null   object \n",
      " 15  monthly_charges        3937 non-null   float64\n",
      " 16  total_charges          3937 non-null   float64\n",
      " 17  churn                  3937 non-null   object \n",
      " 18  contract_type          3937 non-null   object \n",
      " 19  payment_type           3937 non-null   object \n",
      " 20  internet_service_type  3937 non-null   object \n",
      "dtypes: float64(2), int64(2), object(17)\n",
      "memory usage: 676.7+ KB\n"
     ]
    }
   ],
   "source": [
    "train.info()"
   ]
  },
  {
   "cell_type": "markdown",
   "id": "3ce782a2",
   "metadata": {},
   "source": [
    "Key prepare take-aways:\n",
    "- 11 rows are dropped due to lack of data in the `total_charges` column\n",
    "- Data is split into train, validate, and test subsets\n",
    "\n",
    "<a href='#contents'>To Top</a>"
   ]
  },
  {
   "cell_type": "markdown",
   "id": "96303eb5",
   "metadata": {},
   "source": [
    "## Exploring the Data <a name='explore'></a>\n",
    "\n",
    "*Notes*: Only `monthly_charges` and `tenure` are used to illustrate the exploration of numeric data, and hypothesis testing is performed only on `monthly_charges`. Only `contract_type`, `internet_service_type`, and `payment_type` categories are used to illustrate the exploration of categorical data.  See <a href='#appendix'>appendix</a> for more details on other categories."
   ]
  },
  {
   "cell_type": "markdown",
   "id": "c6f1123c",
   "metadata": {},
   "source": [
    "### How bad is churn? <a name='churn'></a>\n",
    "\n",
    "The `train` data set is used to explore the data. \n",
    "\n",
    "The first to understand is the extent of churn within the data.\n",
    "\n",
    "Key take-aways:\n",
    "- Churn rate for the overall sample is $\\approx0.27$\n",
    "- This represents $\\approx1000$ customers\n",
    "\n",
    "<a href='#introduction'>Prev: Introduction</a> - <a href='#tenure'>Next: How long have churned customers been with the company?</a>\n",
    "\n",
    "<a href='#contents'>To Top</a>"
   ]
  },
  {
   "cell_type": "code",
   "execution_count": 77,
   "id": "5e56aafd",
   "metadata": {},
   "outputs": [
    {
     "data": {
      "text/plain": [
       "No     2891\n",
       "Yes    1046\n",
       "Name: churn, dtype: int64"
      ]
     },
     "execution_count": 77,
     "metadata": {},
     "output_type": "execute_result"
    }
   ],
   "source": [
    "train.churn.value_counts() #get the values of the churn column"
   ]
  },
  {
   "cell_type": "code",
   "execution_count": 9,
   "id": "005cb098",
   "metadata": {},
   "outputs": [
    {
     "data": {
      "text/plain": [
       "0.2656845313690627"
      ]
     },
     "execution_count": 9,
     "metadata": {},
     "output_type": "execute_result"
    }
   ],
   "source": [
    "proportion_churn = (train.churn == 'Yes').mean() #get the proportion of customers who churn\n",
    "proportion_churn"
   ]
  },
  {
   "cell_type": "code",
   "execution_count": 10,
   "id": "dd5a3ade",
   "metadata": {},
   "outputs": [
    {
     "data": {
      "text/plain": [
       "Text(0, 0.5, 'Customer count')"
      ]
     },
     "execution_count": 10,
     "metadata": {},
     "output_type": "execute_result"
    },
    {
     "data": {
      "image/png": "[encoded data removed]",
      "text/plain": [
       "<Figure size 720x504 with 1 Axes>"
      ]
     },
     "metadata": {
      "needs_background": "light"
     },
     "output_type": "display_data"
    }
   ],
   "source": [
    "# plot the churn proortions\n",
    "plt.figure(figsize=(10,7)) # make figure larger\n",
    "train.churn.value_counts().plot.bar() # make the bar plot with the data\n",
    "plt.title(f'Overall churn is {proportion_churn:.2}') # set the plot title\n",
    "plt.xlabel('Churn') # Set the x-axis label\n",
    "plt.ylabel('Customer count') # set y-axis label"
   ]
  },
  {
   "cell_type": "markdown",
   "id": "4c5f46d8",
   "metadata": {},
   "source": [
    "About $0.27$ of customers are churning.\n",
    "\n",
    "### How long have churned customers been with the company? <a name='tenure'></a>\n",
    "\n",
    "#### Visualize\n",
    "\n",
    "<a href='#churn'>Prev: How bad is churn?</a> - <a href='#permonth'>Next: Are churned customers paying more per month?</a>\n",
    "\n",
    "<a href='#contents'>To Top</a>"
   ]
  },
  {
   "cell_type": "code",
   "execution_count": 11,
   "id": "11a1a957",
   "metadata": {},
   "outputs": [],
   "source": [
    "#make a dataframe of just the numeric columns and churn\n",
    "train_numerics = train[['tenure', 'monthly_charges', 'total_charges', 'churn']]"
   ]
  },
  {
   "cell_type": "code",
   "execution_count": 12,
   "id": "fe855a8c",
   "metadata": {
    "scrolled": false
   },
   "outputs": [
    {
     "data": {
      "text/plain": [
       "Text(0.5, 0, 'Churn')"
      ]
     },
     "execution_count": 12,
     "metadata": {},
     "output_type": "execute_result"
    },
    {
     "data": {
      "image/png": "[encoded data removed]",
      "text/plain": [
       "<Figure size 720x504 with 1 Axes>"
      ]
     },
     "metadata": {
      "needs_background": "light"
     },
     "output_type": "display_data"
    }
   ],
   "source": [
    "plt.figure(figsize=(10,7)) # make figure larger\n",
    "sns.boxplot(data=train_numerics, x='churn', y='tenure') #plot monthly charges\n",
    "plt.title(f'Tenure Length: Churn vs. Not-Churn') # set the plot title\n",
    "plt.ylabel('Tenure (Months)') #set ylabel\n",
    "plt.xlabel('Churn') #set x label"
   ]
  },
  {
   "cell_type": "markdown",
   "id": "8edf0637",
   "metadata": {},
   "source": [
    "As can be seen from the box plot, churning customers have not been with the company for as long as non-churning customers.\n",
    "\n",
    "\n",
    "<a href='#contents'>To Top</a>"
   ]
  },
  {
   "cell_type": "code",
   "execution_count": 13,
   "id": "bf1c1cb9",
   "metadata": {},
   "outputs": [
    {
     "data": {
      "text/html": [
       "<div>\n",
       "<style scoped>\n",
       "    .dataframe tbody tr th:only-of-type {\n",
       "        vertical-align: middle;\n",
       "    }\n",
       "\n",
       "    .dataframe tbody tr th {\n",
       "        vertical-align: top;\n",
       "    }\n",
       "\n",
       "    .dataframe thead th {\n",
       "        text-align: right;\n",
       "    }\n",
       "</style>\n",
       "<table border=\"1\" class=\"dataframe\">\n",
       "  <thead>\n",
       "    <tr style=\"text-align: right;\">\n",
       "      <th>churn</th>\n",
       "      <th>No</th>\n",
       "      <th>Yes</th>\n",
       "    </tr>\n",
       "  </thead>\n",
       "  <tbody>\n",
       "    <tr>\n",
       "      <th>count</th>\n",
       "      <td>2891.000000</td>\n",
       "      <td>1046.000000</td>\n",
       "    </tr>\n",
       "    <tr>\n",
       "      <th>mean</th>\n",
       "      <td>38.003459</td>\n",
       "      <td>18.325048</td>\n",
       "    </tr>\n",
       "    <tr>\n",
       "      <th>std</th>\n",
       "      <td>24.177715</td>\n",
       "      <td>19.960763</td>\n",
       "    </tr>\n",
       "    <tr>\n",
       "      <th>min</th>\n",
       "      <td>1.000000</td>\n",
       "      <td>1.000000</td>\n",
       "    </tr>\n",
       "    <tr>\n",
       "      <th>25%</th>\n",
       "      <td>15.000000</td>\n",
       "      <td>2.000000</td>\n",
       "    </tr>\n",
       "    <tr>\n",
       "      <th>50%</th>\n",
       "      <td>39.000000</td>\n",
       "      <td>10.000000</td>\n",
       "    </tr>\n",
       "    <tr>\n",
       "      <th>75%</th>\n",
       "      <td>61.000000</td>\n",
       "      <td>31.000000</td>\n",
       "    </tr>\n",
       "    <tr>\n",
       "      <th>max</th>\n",
       "      <td>72.000000</td>\n",
       "      <td>72.000000</td>\n",
       "    </tr>\n",
       "  </tbody>\n",
       "</table>\n",
       "</div>"
      ],
      "text/plain": [
       "churn           No          Yes\n",
       "count  2891.000000  1046.000000\n",
       "mean     38.003459    18.325048\n",
       "std      24.177715    19.960763\n",
       "min       1.000000     1.000000\n",
       "25%      15.000000     2.000000\n",
       "50%      39.000000    10.000000\n",
       "75%      61.000000    31.000000\n",
       "max      72.000000    72.000000"
      ]
     },
     "execution_count": 13,
     "metadata": {},
     "output_type": "execute_result"
    }
   ],
   "source": [
    "#same data numerically\n",
    "train_numerics.groupby('churn')['tenure'].describe().T"
   ]
  },
  {
   "cell_type": "markdown",
   "id": "afe250d0",
   "metadata": {},
   "source": [
    "### Are churned customers paying more per month? <a name = 'permonth'></a>\n",
    "\n",
    "\n",
    "#### Visualize\n",
    "\n",
    "<a href='#tenure'>Prev: How long have churned customers been with the company?</a> - <a href='#churncontract'>Next:Is churn associated with a contract type?</a>\n",
    "\n",
    "<a href='#contents'>To Top</a>"
   ]
  },
  {
   "cell_type": "code",
   "execution_count": 14,
   "id": "c47b2503",
   "metadata": {
    "scrolled": false
   },
   "outputs": [
    {
     "data": {
      "text/plain": [
       "Text(0.5, 0, 'Churn')"
      ]
     },
     "execution_count": 14,
     "metadata": {},
     "output_type": "execute_result"
    },
    {
     "data": {
      "image/png": "[encoded data removed]",
      "text/plain": [
       "<Figure size 720x504 with 1 Axes>"
      ]
     },
     "metadata": {
      "needs_background": "light"
     },
     "output_type": "display_data"
    }
   ],
   "source": [
    "plt.figure(figsize=(10,7)) # make figure larger\n",
    "sns.boxplot(data=train_numerics, x='churn', y='monthly_charges') #plot monthly charges\n",
    "plt.title(f'Monthly Charges: Churn vs. Not-Churn') # set the plot title\n",
    "plt.ylabel('Monthly Charges (USD)') #set ylabel\n",
    "plt.xlabel('Churn') #set x label"
   ]
  },
  {
   "cell_type": "markdown",
   "id": "7d9f64c5",
   "metadata": {},
   "source": [
    "The monthly charges for churning customers are higher than for non-churning customers.\n"
   ]
  },
  {
   "cell_type": "code",
   "execution_count": 15,
   "id": "88312069",
   "metadata": {
    "scrolled": true
   },
   "outputs": [
    {
     "data": {
      "text/html": [
       "<div>\n",
       "<style scoped>\n",
       "    .dataframe tbody tr th:only-of-type {\n",
       "        vertical-align: middle;\n",
       "    }\n",
       "\n",
       "    .dataframe tbody tr th {\n",
       "        vertical-align: top;\n",
       "    }\n",
       "\n",
       "    .dataframe thead th {\n",
       "        text-align: right;\n",
       "    }\n",
       "</style>\n",
       "<table border=\"1\" class=\"dataframe\">\n",
       "  <thead>\n",
       "    <tr style=\"text-align: right;\">\n",
       "      <th>churn</th>\n",
       "      <th>No</th>\n",
       "      <th>Yes</th>\n",
       "    </tr>\n",
       "  </thead>\n",
       "  <tbody>\n",
       "    <tr>\n",
       "      <th>count</th>\n",
       "      <td>2891.000000</td>\n",
       "      <td>1046.000000</td>\n",
       "    </tr>\n",
       "    <tr>\n",
       "      <th>mean</th>\n",
       "      <td>61.218091</td>\n",
       "      <td>74.719216</td>\n",
       "    </tr>\n",
       "    <tr>\n",
       "      <th>std</th>\n",
       "      <td>31.349533</td>\n",
       "      <td>24.593969</td>\n",
       "    </tr>\n",
       "    <tr>\n",
       "      <th>min</th>\n",
       "      <td>18.250000</td>\n",
       "      <td>18.850000</td>\n",
       "    </tr>\n",
       "    <tr>\n",
       "      <th>25%</th>\n",
       "      <td>25.000000</td>\n",
       "      <td>59.525000</td>\n",
       "    </tr>\n",
       "    <tr>\n",
       "      <th>50%</th>\n",
       "      <td>64.500000</td>\n",
       "      <td>79.850000</td>\n",
       "    </tr>\n",
       "    <tr>\n",
       "      <th>75%</th>\n",
       "      <td>89.025000</td>\n",
       "      <td>94.237500</td>\n",
       "    </tr>\n",
       "    <tr>\n",
       "      <th>max</th>\n",
       "      <td>118.650000</td>\n",
       "      <td>118.350000</td>\n",
       "    </tr>\n",
       "  </tbody>\n",
       "</table>\n",
       "</div>"
      ],
      "text/plain": [
       "churn           No          Yes\n",
       "count  2891.000000  1046.000000\n",
       "mean     61.218091    74.719216\n",
       "std      31.349533    24.593969\n",
       "min      18.250000    18.850000\n",
       "25%      25.000000    59.525000\n",
       "50%      64.500000    79.850000\n",
       "75%      89.025000    94.237500\n",
       "max     118.650000   118.350000"
      ]
     },
     "execution_count": 15,
     "metadata": {},
     "output_type": "execute_result"
    }
   ],
   "source": [
    "# same information numerically\n",
    "train_numerics.groupby('churn')['monthly_charges'].describe().T"
   ]
  },
  {
   "cell_type": "markdown",
   "id": "e18ed8f2",
   "metadata": {},
   "source": [
    "#### Perform hypothesis testing\n",
    "\n",
    "Consider the distribution of monthly charges.  It is roughly normally distributed.  See graph below, and that the mean and median are different by $\\approx 6$ (normally distributed $\\implies \\text{mean} = \\text{median}$).  Therefore perform a t-test on the column."
   ]
  },
  {
   "cell_type": "code",
   "execution_count": 16,
   "id": "a7dbffc4",
   "metadata": {
    "scrolled": false
   },
   "outputs": [
    {
     "data": {
      "text/plain": [
       "<AxesSubplot:>"
      ]
     },
     "execution_count": 16,
     "metadata": {},
     "output_type": "execute_result"
    },
    {
     "data": {
      "image/png": "[encoded data removed]",
      "text/plain": [
       "<Figure size 432x288 with 1 Axes>"
      ]
     },
     "metadata": {
      "needs_background": "light"
     },
     "output_type": "display_data"
    }
   ],
   "source": [
    "train.monthly_charges.hist() #histogram of the monthly charges"
   ]
  },
  {
   "cell_type": "code",
   "execution_count": 17,
   "id": "40d2911c",
   "metadata": {},
   "outputs": [
    {
     "data": {
      "text/plain": [
       "(64.80513081026147, 70.25)"
      ]
     },
     "execution_count": 17,
     "metadata": {},
     "output_type": "execute_result"
    }
   ],
   "source": [
    "train.monthly_charges.mean(), train.monthly_charges.median() #view the mean and median of the monthly_charges column"
   ]
  },
  {
   "cell_type": "markdown",
   "id": "336cb3ae",
   "metadata": {},
   "source": [
    "Perform a t-test to determine the following:\n",
    "\n",
    "$H_0$ : The mean monthly charges among churned customers is *less than or equal to* that of unchurned customers\n",
    "\n",
    "$H_a$ : The mean monthly charges among churned customers is *greater than* that of unchurned customers"
   ]
  },
  {
   "cell_type": "code",
   "execution_count": 18,
   "id": "4b0f2ba7",
   "metadata": {},
   "outputs": [
    {
     "data": {
      "text/plain": [
       "(True, 2.460130776937842e-43)"
      ]
     },
     "execution_count": 18,
     "metadata": {},
     "output_type": "execute_result"
    }
   ],
   "source": [
    "#split the data into churn and non-chun sets\n",
    "churn_series = train[train.churn == 'Yes'].monthly_charges\n",
    "nochurn_series = train[train.churn == 'No'].monthly_charges\n",
    "\n",
    "#use levene test to see if the variance are equal\n",
    "l_t, l_p = stats.levene(churn_series, nochurn_series)\n",
    "levene_bool = not l_p < alpha\n",
    "    #now do the t test\n",
    "# calculate the statistics\n",
    "t, p = stats.ttest_ind(churn_series, nochurn_series, equal_var= levene_bool)\n",
    "p/2 < alpha, p"
   ]
  },
  {
   "cell_type": "code",
   "execution_count": 19,
   "id": "6df3e29b",
   "metadata": {},
   "outputs": [
    {
     "name": "stdout",
     "output_type": "stream",
     "text": [
      "Null hypothesis is likely false\n"
     ]
    }
   ],
   "source": [
    "if p/2 < alpha:\n",
    "    print('Null hypothesis is likely false')\n",
    "else:\n",
    "    print('Null hypothesis is likely true')"
   ]
  },
  {
   "cell_type": "markdown",
   "id": "cad78a92",
   "metadata": {},
   "source": [
    "*Conclusion*: The mean monthly charges is most likely higher among customers who churn than those who do not churn.\""
   ]
  },
  {
   "cell_type": "markdown",
   "id": "b7dfbe9d",
   "metadata": {},
   "source": [
    "Key take away:\n",
    "- Churned customers are paying more per month\n",
    "    - `total_charges` can be inferred from the `monthly_charges` column.  \n",
    "    \n",
    "<a href='#contents'>To Top</a>"
   ]
  },
  {
   "cell_type": "markdown",
   "id": "284e3ed0",
   "metadata": {},
   "source": [
    "### Is churn associated with a contract type? <a name='churncontract'></a>\n",
    "\n",
    "<a href='#permonth'>Prev: Are churned customers paying more per month?</a> - <a href='#churninternettype'>Next: Is churn associated with internet service type?</a>\n",
    "\n",
    "#### Visualize"
   ]
  },
  {
   "cell_type": "markdown",
   "id": "7a70f449",
   "metadata": {},
   "source": [
    "Consider churn among different contract types.\n",
    "\n",
    "Three contract types: Month-to-Month, One Year, Two Year"
   ]
  },
  {
   "cell_type": "code",
   "execution_count": 20,
   "id": "7172e3f2",
   "metadata": {
    "scrolled": false
   },
   "outputs": [
    {
     "data": {
      "text/plain": [
       "Text(0, 0.5, 'Number of customers')"
      ]
     },
     "execution_count": 20,
     "metadata": {},
     "output_type": "execute_result"
    },
    {
     "data": {
      "image/png": "[encoded data removed]",
      "text/plain": [
       "<Figure size 720x504 with 1 Axes>"
      ]
     },
     "metadata": {
      "needs_background": "light"
     },
     "output_type": "display_data"
    }
   ],
   "source": [
    "plt.figure(figsize=(10,7)) # make figure larger\n",
    "sns.countplot(data=train, x='contract_type', hue='churn') # plot the data\n",
    "plt.title('Churn by contract type') # set title\n",
    "plt.xlabel('Contract type') #set x label\n",
    "plt.ylabel('Number of customers') # set y label"
   ]
  },
  {
   "cell_type": "markdown",
   "id": "42744f4d",
   "metadata": {},
   "source": [
    "Month-to-Month contract types disproportionately churn."
   ]
  },
  {
   "cell_type": "code",
   "execution_count": 21,
   "id": "3cda4746",
   "metadata": {},
   "outputs": [
    {
     "data": {
      "text/html": [
       "<div>\n",
       "<style scoped>\n",
       "    .dataframe tbody tr th:only-of-type {\n",
       "        vertical-align: middle;\n",
       "    }\n",
       "\n",
       "    .dataframe tbody tr th {\n",
       "        vertical-align: top;\n",
       "    }\n",
       "\n",
       "    .dataframe thead th {\n",
       "        text-align: right;\n",
       "    }\n",
       "</style>\n",
       "<table border=\"1\" class=\"dataframe\">\n",
       "  <thead>\n",
       "    <tr style=\"text-align: right;\">\n",
       "      <th></th>\n",
       "      <th></th>\n",
       "      <th>churn</th>\n",
       "    </tr>\n",
       "    <tr>\n",
       "      <th>contract_type</th>\n",
       "      <th>churn</th>\n",
       "      <th></th>\n",
       "    </tr>\n",
       "  </thead>\n",
       "  <tbody>\n",
       "    <tr>\n",
       "      <th rowspan=\"2\" valign=\"top\">Month-to-month</th>\n",
       "      <th>No</th>\n",
       "      <td>1238</td>\n",
       "    </tr>\n",
       "    <tr>\n",
       "      <th>Yes</th>\n",
       "      <td>927</td>\n",
       "    </tr>\n",
       "    <tr>\n",
       "      <th rowspan=\"2\" valign=\"top\">One year</th>\n",
       "      <th>No</th>\n",
       "      <td>726</td>\n",
       "    </tr>\n",
       "    <tr>\n",
       "      <th>Yes</th>\n",
       "      <td>89</td>\n",
       "    </tr>\n",
       "    <tr>\n",
       "      <th rowspan=\"2\" valign=\"top\">Two year</th>\n",
       "      <th>No</th>\n",
       "      <td>927</td>\n",
       "    </tr>\n",
       "    <tr>\n",
       "      <th>Yes</th>\n",
       "      <td>30</td>\n",
       "    </tr>\n",
       "  </tbody>\n",
       "</table>\n",
       "</div>"
      ],
      "text/plain": [
       "                      churn\n",
       "contract_type  churn       \n",
       "Month-to-month No      1238\n",
       "               Yes      927\n",
       "One year       No       726\n",
       "               Yes       89\n",
       "Two year       No       927\n",
       "               Yes       30"
      ]
     },
     "execution_count": 21,
     "metadata": {},
     "output_type": "execute_result"
    }
   ],
   "source": [
    "#proportion shown numerically:\n",
    "# group the data by contract type an calculate the count of rows for each one\n",
    "pd.DataFrame(train.groupby('contract_type').churn.value_counts()) "
   ]
  },
  {
   "cell_type": "code",
   "execution_count": 22,
   "id": "d27680c3",
   "metadata": {},
   "outputs": [
    {
     "data": {
      "text/html": [
       "<div>\n",
       "<style scoped>\n",
       "    .dataframe tbody tr th:only-of-type {\n",
       "        vertical-align: middle;\n",
       "    }\n",
       "\n",
       "    .dataframe tbody tr th {\n",
       "        vertical-align: top;\n",
       "    }\n",
       "\n",
       "    .dataframe thead th {\n",
       "        text-align: right;\n",
       "    }\n",
       "</style>\n",
       "<table border=\"1\" class=\"dataframe\">\n",
       "  <thead>\n",
       "    <tr style=\"text-align: right;\">\n",
       "      <th>churn</th>\n",
       "      <th>No</th>\n",
       "      <th>Yes</th>\n",
       "    </tr>\n",
       "    <tr>\n",
       "      <th>contract_type</th>\n",
       "      <th></th>\n",
       "      <th></th>\n",
       "    </tr>\n",
       "  </thead>\n",
       "  <tbody>\n",
       "    <tr>\n",
       "      <th>Month-to-month</th>\n",
       "      <td>0.571824</td>\n",
       "      <td>0.428176</td>\n",
       "    </tr>\n",
       "    <tr>\n",
       "      <th>One year</th>\n",
       "      <td>0.890798</td>\n",
       "      <td>0.109202</td>\n",
       "    </tr>\n",
       "    <tr>\n",
       "      <th>Two year</th>\n",
       "      <td>0.968652</td>\n",
       "      <td>0.031348</td>\n",
       "    </tr>\n",
       "  </tbody>\n",
       "</table>\n",
       "</div>"
      ],
      "text/plain": [
       "churn                 No       Yes\n",
       "contract_type                     \n",
       "Month-to-month  0.571824  0.428176\n",
       "One year        0.890798  0.109202\n",
       "Two year        0.968652  0.031348"
      ]
     },
     "execution_count": 22,
     "metadata": {},
     "output_type": "execute_result"
    }
   ],
   "source": [
    "#as a percentage\n",
    "pd.crosstab(train.contract_type, train.churn).apply(lambda r: r/r.sum(), axis=1)"
   ]
  },
  {
   "cell_type": "markdown",
   "id": "a1590234",
   "metadata": {},
   "source": [
    "#### Perform hypothesis testing\n",
    "\n",
    "Visually and numerically it appears that month-to-month customers. Perform hypothesis testing on the following:\n",
    "\n",
    "$H_0$ : Month to month contracts are independent of churn.\n",
    "\n",
    "$H_a$ : Month to month contracts are not independent of churn."
   ]
  },
  {
   "cell_type": "code",
   "execution_count": 23,
   "id": "04685670",
   "metadata": {},
   "outputs": [
    {
     "name": "stderr",
     "output_type": "stream",
     "text": [
      "/var/folders/lw/_43z7rb5635_x1dwsyzrnc_m0000gn/T/ipykernel_42712/977381110.py:3: SettingWithCopyWarning: \n",
      "A value is trying to be set on a copy of a slice from a DataFrame.\n",
      "Try using .loc[row_indexer,col_indexer] = value instead\n",
      "\n",
      "See the caveats in the documentation: https://pandas.pydata.org/pandas-docs/stable/user_guide/indexing.html#returning-a-view-versus-a-copy\n",
      "  contract_hypothesis['monthly_contract'] = (contract_hypothesis.contract_type == 'Month-to-month')\n"
     ]
    }
   ],
   "source": [
    "#seperate out the categories into dataframes\n",
    "contract_hypothesis = train[['churn', 'contract_type']]\n",
    "contract_hypothesis['monthly_contract'] = (contract_hypothesis.contract_type == 'Month-to-month')"
   ]
  },
  {
   "cell_type": "code",
   "execution_count": 24,
   "id": "ce6df7bf",
   "metadata": {},
   "outputs": [
    {
     "data": {
      "text/plain": [
       "(649.1331915563476, 3.4484593947893894e-143)"
      ]
     },
     "execution_count": 24,
     "metadata": {},
     "output_type": "execute_result"
    }
   ],
   "source": [
    "#make the crosstab with dataframes\n",
    "obs = pd.crosstab(contract_hypothesis.churn, contract_hypothesis.monthly_contract)\n",
    "#calculate the statistics\n",
    "chi2, p, degf, expected = stats.chi2_contingency(obs)\n",
    "chi2, p"
   ]
  },
  {
   "cell_type": "code",
   "execution_count": 25,
   "id": "03acebf6",
   "metadata": {},
   "outputs": [
    {
     "name": "stdout",
     "output_type": "stream",
     "text": [
      "Null hypothesis is likely false\n"
     ]
    }
   ],
   "source": [
    "if p < alpha:\n",
    "    print('Null hypothesis is likely false')\n",
    "else:\n",
    "    print('Null hypothesis is likely true')"
   ]
  },
  {
   "cell_type": "markdown",
   "id": "6d0d8531",
   "metadata": {},
   "source": [
    "*Conclusion*: Churn is most likely dependent on churn."
   ]
  },
  {
   "cell_type": "markdown",
   "id": "3e006cad",
   "metadata": {},
   "source": [
    "Key take away:\n",
    "- Because of the high $χ^2$  value, it is very likely that churn is not independent on Month-to-Month contract status\n",
    "\n",
    "<a href='#contents'>To Top</a>"
   ]
  },
  {
   "cell_type": "markdown",
   "id": "a829fbad",
   "metadata": {},
   "source": [
    "### Is churn associated with internet service type? <a name='churninternettype'></a>\n",
    "\n",
    "\n",
    "<a href='#churncontract'>Prev: Is churn associated with a contract type?</a> - <a href='#electroniccheck'> Next: Is churn associated with electronic check?</a>\n",
    "\n",
    "\n",
    "#### Visualize"
   ]
  },
  {
   "cell_type": "markdown",
   "id": "748974a4",
   "metadata": {},
   "source": [
    "Consider customers by their internet service type."
   ]
  },
  {
   "cell_type": "code",
   "execution_count": 26,
   "id": "6fddd90f",
   "metadata": {
    "scrolled": false
   },
   "outputs": [
    {
     "data": {
      "text/plain": [
       "Text(0, 0.5, 'Number of customers')"
      ]
     },
     "execution_count": 26,
     "metadata": {},
     "output_type": "execute_result"
    },
    {
     "data": {
      "image/png": "[encoded data removed]",
      "text/plain": [
       "<Figure size 720x504 with 1 Axes>"
      ]
     },
     "metadata": {
      "needs_background": "light"
     },
     "output_type": "display_data"
    }
   ],
   "source": [
    "plt.figure(figsize=(10,7)) # make figure larger\n",
    "sns.countplot(data=train, x='internet_service_type', hue='churn') #plot the data\n",
    "plt.title('Churn by internet service') #set the title\n",
    "plt.xlabel('Internet service') #set the xlabel\n",
    "plt.ylabel('Number of customers') #set the ylabel"
   ]
  },
  {
   "cell_type": "markdown",
   "id": "700ec0f7",
   "metadata": {},
   "source": [
    "Fiber optic internet service customers disproportionately churn"
   ]
  },
  {
   "cell_type": "code",
   "execution_count": 27,
   "id": "d788646f",
   "metadata": {},
   "outputs": [
    {
     "data": {
      "text/html": [
       "<div>\n",
       "<style scoped>\n",
       "    .dataframe tbody tr th:only-of-type {\n",
       "        vertical-align: middle;\n",
       "    }\n",
       "\n",
       "    .dataframe tbody tr th {\n",
       "        vertical-align: top;\n",
       "    }\n",
       "\n",
       "    .dataframe thead th {\n",
       "        text-align: right;\n",
       "    }\n",
       "</style>\n",
       "<table border=\"1\" class=\"dataframe\">\n",
       "  <thead>\n",
       "    <tr style=\"text-align: right;\">\n",
       "      <th></th>\n",
       "      <th></th>\n",
       "      <th>churn</th>\n",
       "    </tr>\n",
       "    <tr>\n",
       "      <th>internet_service_type</th>\n",
       "      <th>churn</th>\n",
       "      <th></th>\n",
       "    </tr>\n",
       "  </thead>\n",
       "  <tbody>\n",
       "    <tr>\n",
       "      <th rowspan=\"2\" valign=\"top\">DSL</th>\n",
       "      <th>No</th>\n",
       "      <td>1101</td>\n",
       "    </tr>\n",
       "    <tr>\n",
       "      <th>Yes</th>\n",
       "      <td>247</td>\n",
       "    </tr>\n",
       "    <tr>\n",
       "      <th rowspan=\"2\" valign=\"top\">Fiber optic</th>\n",
       "      <th>No</th>\n",
       "      <td>987</td>\n",
       "    </tr>\n",
       "    <tr>\n",
       "      <th>Yes</th>\n",
       "      <td>735</td>\n",
       "    </tr>\n",
       "    <tr>\n",
       "      <th rowspan=\"2\" valign=\"top\">None</th>\n",
       "      <th>No</th>\n",
       "      <td>803</td>\n",
       "    </tr>\n",
       "    <tr>\n",
       "      <th>Yes</th>\n",
       "      <td>64</td>\n",
       "    </tr>\n",
       "  </tbody>\n",
       "</table>\n",
       "</div>"
      ],
      "text/plain": [
       "                             churn\n",
       "internet_service_type churn       \n",
       "DSL                   No      1101\n",
       "                      Yes      247\n",
       "Fiber optic           No       987\n",
       "                      Yes      735\n",
       "None                  No       803\n",
       "                      Yes       64"
      ]
     },
     "execution_count": 27,
     "metadata": {},
     "output_type": "execute_result"
    }
   ],
   "source": [
    "#same information but numerically\n",
    "pd.DataFrame(train.groupby('internet_service_type').churn.value_counts()) "
   ]
  },
  {
   "cell_type": "code",
   "execution_count": 28,
   "id": "f4366b4f",
   "metadata": {},
   "outputs": [
    {
     "data": {
      "text/html": [
       "<div>\n",
       "<style scoped>\n",
       "    .dataframe tbody tr th:only-of-type {\n",
       "        vertical-align: middle;\n",
       "    }\n",
       "\n",
       "    .dataframe tbody tr th {\n",
       "        vertical-align: top;\n",
       "    }\n",
       "\n",
       "    .dataframe thead th {\n",
       "        text-align: right;\n",
       "    }\n",
       "</style>\n",
       "<table border=\"1\" class=\"dataframe\">\n",
       "  <thead>\n",
       "    <tr style=\"text-align: right;\">\n",
       "      <th>churn</th>\n",
       "      <th>No</th>\n",
       "      <th>Yes</th>\n",
       "    </tr>\n",
       "    <tr>\n",
       "      <th>internet_service_type</th>\n",
       "      <th></th>\n",
       "      <th></th>\n",
       "    </tr>\n",
       "  </thead>\n",
       "  <tbody>\n",
       "    <tr>\n",
       "      <th>DSL</th>\n",
       "      <td>0.816766</td>\n",
       "      <td>0.183234</td>\n",
       "    </tr>\n",
       "    <tr>\n",
       "      <th>Fiber optic</th>\n",
       "      <td>0.573171</td>\n",
       "      <td>0.426829</td>\n",
       "    </tr>\n",
       "    <tr>\n",
       "      <th>None</th>\n",
       "      <td>0.926182</td>\n",
       "      <td>0.073818</td>\n",
       "    </tr>\n",
       "  </tbody>\n",
       "</table>\n",
       "</div>"
      ],
      "text/plain": [
       "churn                        No       Yes\n",
       "internet_service_type                    \n",
       "DSL                    0.816766  0.183234\n",
       "Fiber optic            0.573171  0.426829\n",
       "None                   0.926182  0.073818"
      ]
     },
     "execution_count": 28,
     "metadata": {},
     "output_type": "execute_result"
    }
   ],
   "source": [
    "#as a percentage\n",
    "pd.crosstab(train.internet_service_type, train.churn).apply(lambda r: r/r.sum(), axis=1)"
   ]
  },
  {
   "cell_type": "markdown",
   "id": "9e0ffb81",
   "metadata": {},
   "source": [
    "#### Perform Hypothesis Testing\n",
    "\n",
    "Visually and numerically it appears that there is a higher rate of churn among fiber optic customers.  Perform hypothesis testing on the following:\n",
    "\n",
    "$H_0$ : Fiber optic contracts are independent of churn.\n",
    "\n",
    "$H_a$ : Fiber optic contract are not independent of churn."
   ]
  },
  {
   "cell_type": "code",
   "execution_count": 76,
   "id": "38186ef7",
   "metadata": {
    "scrolled": false
   },
   "outputs": [
    {
     "name": "stderr",
     "output_type": "stream",
     "text": [
      "/var/folders/lw/_43z7rb5635_x1dwsyzrnc_m0000gn/T/ipykernel_42712/821018884.py:3: SettingWithCopyWarning: \n",
      "A value is trying to be set on a copy of a slice from a DataFrame.\n",
      "Try using .loc[row_indexer,col_indexer] = value instead\n",
      "\n",
      "See the caveats in the documentation: https://pandas.pydata.org/pandas-docs/stable/user_guide/indexing.html#returning-a-view-versus-a-copy\n",
      "  contract_hypothesis['fiber_optic_service'] = (contract_hypothesis.internet_service_type == 'Fiber optic')\n"
     ]
    }
   ],
   "source": [
    "#seperate out subsets\n",
    "contract_hypothesis = train[['churn', 'internet_service_type']]\n",
    "contract_hypothesis['fiber_optic_service'] = (contract_hypothesis.internet_service_type == 'Fiber optic')"
   ]
  },
  {
   "cell_type": "code",
   "execution_count": 30,
   "id": "8eeaa5cd",
   "metadata": {},
   "outputs": [
    {
     "data": {
      "text/plain": [
       "(405.92112170517066, 2.831419548361709e-90)"
      ]
     },
     "execution_count": 30,
     "metadata": {},
     "output_type": "execute_result"
    }
   ],
   "source": [
    "#make a crosstab\n",
    "obs = pd.crosstab(contract_hypothesis.churn, contract_hypothesis.fiber_optic_service)\n",
    "#calculate stats\n",
    "chi2, p, degf, expected = stats.chi2_contingency(obs)\n",
    "chi2, p"
   ]
  },
  {
   "cell_type": "code",
   "execution_count": 31,
   "id": "7c181417",
   "metadata": {},
   "outputs": [
    {
     "name": "stdout",
     "output_type": "stream",
     "text": [
      "Null hypothesis is likely false\n"
     ]
    }
   ],
   "source": [
    "if p < alpha:\n",
    "    print('Null hypothesis is likely false')\n",
    "else:\n",
    "    print('Null hypothesis is likely true')"
   ]
  },
  {
   "cell_type": "markdown",
   "id": "3e28ce7c",
   "metadata": {},
   "source": [
    "*Conclusion* Fiber optic service is a likely driver of churn.\n",
    "\n",
    "Key take away:\n",
    "- Because of the high $χ^2$  value, it is very likely that churn is not independent on fiber optic service status.\n",
    "\n",
    "<a href='#contents'>To Top</a>"
   ]
  },
  {
   "cell_type": "markdown",
   "id": "b883a674",
   "metadata": {},
   "source": [
    "### Is churn associated with electronic check? <a name='electroniccheck'></a>\n",
    "\n",
    "<a href='#churninternettype'> Prev: Is churn associated with internet service type?</a> - <a href='#modeling'>Next: Machine Learning Model of Churn</a>\n",
    "#### Visualize"
   ]
  },
  {
   "cell_type": "code",
   "execution_count": 32,
   "id": "65eac645",
   "metadata": {
    "scrolled": false
   },
   "outputs": [
    {
     "data": {
      "text/plain": [
       "Text(0, 0.5, 'Number of customers')"
      ]
     },
     "execution_count": 32,
     "metadata": {},
     "output_type": "execute_result"
    },
    {
     "data": {
      "image/png": "[encoded data removed]",
      "text/plain": [
       "<Figure size 720x504 with 1 Axes>"
      ]
     },
     "metadata": {
      "needs_background": "light"
     },
     "output_type": "display_data"
    }
   ],
   "source": [
    "plt.figure(figsize=(10,7)) # make figure larger\n",
    "sns.countplot(data=train, x='payment_type', hue='churn') #plot the data\n",
    "plt.title('Churn by payment type') #set the title\n",
    "plt.xlabel('Payment Type') #set the x label\n",
    "plt.ylabel('Number of customers') # set the y label"
   ]
  },
  {
   "cell_type": "markdown",
   "id": "23ae3bcb",
   "metadata": {},
   "source": [
    "Electronic check payment customers disproportionately churn."
   ]
  },
  {
   "cell_type": "code",
   "execution_count": 33,
   "id": "40029622",
   "metadata": {
    "scrolled": true
   },
   "outputs": [
    {
     "data": {
      "text/html": [
       "<div>\n",
       "<style scoped>\n",
       "    .dataframe tbody tr th:only-of-type {\n",
       "        vertical-align: middle;\n",
       "    }\n",
       "\n",
       "    .dataframe tbody tr th {\n",
       "        vertical-align: top;\n",
       "    }\n",
       "\n",
       "    .dataframe thead th {\n",
       "        text-align: right;\n",
       "    }\n",
       "</style>\n",
       "<table border=\"1\" class=\"dataframe\">\n",
       "  <thead>\n",
       "    <tr style=\"text-align: right;\">\n",
       "      <th></th>\n",
       "      <th></th>\n",
       "      <th>churn</th>\n",
       "    </tr>\n",
       "    <tr>\n",
       "      <th>payment_type</th>\n",
       "      <th>churn</th>\n",
       "      <th></th>\n",
       "    </tr>\n",
       "  </thead>\n",
       "  <tbody>\n",
       "    <tr>\n",
       "      <th rowspan=\"2\" valign=\"top\">Bank transfer (automatic)</th>\n",
       "      <th>No</th>\n",
       "      <td>713</td>\n",
       "    </tr>\n",
       "    <tr>\n",
       "      <th>Yes</th>\n",
       "      <td>149</td>\n",
       "    </tr>\n",
       "    <tr>\n",
       "      <th rowspan=\"2\" valign=\"top\">Credit card (automatic)</th>\n",
       "      <th>No</th>\n",
       "      <td>750</td>\n",
       "    </tr>\n",
       "    <tr>\n",
       "      <th>Yes</th>\n",
       "      <td>145</td>\n",
       "    </tr>\n",
       "    <tr>\n",
       "      <th rowspan=\"2\" valign=\"top\">Electronic check</th>\n",
       "      <th>No</th>\n",
       "      <td>708</td>\n",
       "    </tr>\n",
       "    <tr>\n",
       "      <th>Yes</th>\n",
       "      <td>581</td>\n",
       "    </tr>\n",
       "    <tr>\n",
       "      <th rowspan=\"2\" valign=\"top\">Mailed check</th>\n",
       "      <th>No</th>\n",
       "      <td>720</td>\n",
       "    </tr>\n",
       "    <tr>\n",
       "      <th>Yes</th>\n",
       "      <td>171</td>\n",
       "    </tr>\n",
       "  </tbody>\n",
       "</table>\n",
       "</div>"
      ],
      "text/plain": [
       "                                 churn\n",
       "payment_type              churn       \n",
       "Bank transfer (automatic) No       713\n",
       "                          Yes      149\n",
       "Credit card (automatic)   No       750\n",
       "                          Yes      145\n",
       "Electronic check          No       708\n",
       "                          Yes      581\n",
       "Mailed check              No       720\n",
       "                          Yes      171"
      ]
     },
     "execution_count": 33,
     "metadata": {},
     "output_type": "execute_result"
    }
   ],
   "source": [
    "#same information but numerically\n",
    "pd.DataFrame(train.groupby('payment_type').churn.value_counts()) "
   ]
  },
  {
   "cell_type": "code",
   "execution_count": 34,
   "id": "8f637b70",
   "metadata": {},
   "outputs": [
    {
     "data": {
      "text/html": [
       "<div>\n",
       "<style scoped>\n",
       "    .dataframe tbody tr th:only-of-type {\n",
       "        vertical-align: middle;\n",
       "    }\n",
       "\n",
       "    .dataframe tbody tr th {\n",
       "        vertical-align: top;\n",
       "    }\n",
       "\n",
       "    .dataframe thead th {\n",
       "        text-align: right;\n",
       "    }\n",
       "</style>\n",
       "<table border=\"1\" class=\"dataframe\">\n",
       "  <thead>\n",
       "    <tr style=\"text-align: right;\">\n",
       "      <th>churn</th>\n",
       "      <th>No</th>\n",
       "      <th>Yes</th>\n",
       "    </tr>\n",
       "    <tr>\n",
       "      <th>payment_type</th>\n",
       "      <th></th>\n",
       "      <th></th>\n",
       "    </tr>\n",
       "  </thead>\n",
       "  <tbody>\n",
       "    <tr>\n",
       "      <th>Bank transfer (automatic)</th>\n",
       "      <td>0.827146</td>\n",
       "      <td>0.172854</td>\n",
       "    </tr>\n",
       "    <tr>\n",
       "      <th>Credit card (automatic)</th>\n",
       "      <td>0.837989</td>\n",
       "      <td>0.162011</td>\n",
       "    </tr>\n",
       "    <tr>\n",
       "      <th>Electronic check</th>\n",
       "      <td>0.549263</td>\n",
       "      <td>0.450737</td>\n",
       "    </tr>\n",
       "    <tr>\n",
       "      <th>Mailed check</th>\n",
       "      <td>0.808081</td>\n",
       "      <td>0.191919</td>\n",
       "    </tr>\n",
       "  </tbody>\n",
       "</table>\n",
       "</div>"
      ],
      "text/plain": [
       "churn                            No       Yes\n",
       "payment_type                                 \n",
       "Bank transfer (automatic)  0.827146  0.172854\n",
       "Credit card (automatic)    0.837989  0.162011\n",
       "Electronic check           0.549263  0.450737\n",
       "Mailed check               0.808081  0.191919"
      ]
     },
     "execution_count": 34,
     "metadata": {},
     "output_type": "execute_result"
    }
   ],
   "source": [
    "pd.crosstab(train.payment_type, train.churn).apply(lambda r: r/r.sum(), axis=1)"
   ]
  },
  {
   "cell_type": "markdown",
   "id": "880503f3",
   "metadata": {},
   "source": [
    "#### Perform hypothesis testing\n",
    "\n",
    "Visually and numerically it looks like electronic check payment is dependent to churn. Hypothesis test the following:\n",
    "\n",
    "$H_0$ : Electronic check payments are independent of churn.\n",
    "\n",
    "$H_a$ : Electronic check payments are not independent of churn."
   ]
  },
  {
   "cell_type": "code",
   "execution_count": 35,
   "id": "8ffe275e",
   "metadata": {},
   "outputs": [
    {
     "name": "stderr",
     "output_type": "stream",
     "text": [
      "/var/folders/lw/_43z7rb5635_x1dwsyzrnc_m0000gn/T/ipykernel_42712/3338668490.py:3: SettingWithCopyWarning: \n",
      "A value is trying to be set on a copy of a slice from a DataFrame.\n",
      "Try using .loc[row_indexer,col_indexer] = value instead\n",
      "\n",
      "See the caveats in the documentation: https://pandas.pydata.org/pandas-docs/stable/user_guide/indexing.html#returning-a-view-versus-a-copy\n",
      "  contract_hypothesis['electronic_check'] = (contract_hypothesis.payment_type == 'Electronic check')\n"
     ]
    }
   ],
   "source": [
    "#seperate out subsets\n",
    "contract_hypothesis = train[['churn', 'payment_type']]\n",
    "contract_hypothesis['electronic_check'] = (contract_hypothesis.payment_type == 'Electronic check')"
   ]
  },
  {
   "cell_type": "code",
   "execution_count": 36,
   "id": "81e1679c",
   "metadata": {},
   "outputs": [
    {
     "data": {
      "text/plain": [
       "(334.97978026680926, 7.910587922260644e-75)"
      ]
     },
     "execution_count": 36,
     "metadata": {},
     "output_type": "execute_result"
    }
   ],
   "source": [
    "# make a crosstab\n",
    "obs = pd.crosstab(contract_hypothesis.churn, contract_hypothesis.electronic_check)\n",
    "#calculate the stats\n",
    "chi2, p, degf, expected = stats.chi2_contingency(obs)\n",
    "chi2, p"
   ]
  },
  {
   "cell_type": "code",
   "execution_count": 37,
   "id": "54988967",
   "metadata": {},
   "outputs": [
    {
     "name": "stdout",
     "output_type": "stream",
     "text": [
      "Null hypothesis is likely false\n"
     ]
    }
   ],
   "source": [
    "if p < alpha:\n",
    "    print('Null hypothesis is likely false')\n",
    "else:\n",
    "    print('Null hypothesis is likely true')"
   ]
  },
  {
   "cell_type": "markdown",
   "id": "f1357b9d",
   "metadata": {},
   "source": [
    "*Conclusion* Electronic checks are a likely driver of churn.\n",
    "\n",
    "Key take away:\n",
    "- Because of the high $χ^2$  value, it is very likely that churn is not independent of electronic check payments.\n",
    "\n",
    "<a href='#contents'>To Top</a>"
   ]
  },
  {
   "cell_type": "markdown",
   "id": "a9dffe0c",
   "metadata": {},
   "source": [
    "### Exploration discussion <a name='explorediscussion'></a>\n",
    "\n",
    "As can be easily seen from the visualizations and the hypothesis testing above churned customers have a higher mean monthly charge rate, are likely to be fiber optic customers, are likely to be paying month-to-month, and are likely to be paying by electronic check.  Other factors were also tested (see <a href='#appendix'>appendices</a>) and found to be likely dependent on churn. Speculating causation, these variables indicate that a customer's willingness to pay for the service they receive is lower than their monthly payment; they are then reminded of this difference every month when they are balancing their checkbook. Any solution to the churn problem at Telco must better the product or decrease the monthly cost.\n",
    "\n",
    "\n",
    "<a href='#contents'>To Top</a>"
   ]
  },
  {
   "cell_type": "markdown",
   "id": "cf47ae14",
   "metadata": {},
   "source": [
    "## Machine Learning Model of Churn <a name='modeling'></a>\n",
    "\n",
    "Using machine learning require the following steps:\n",
    "- Encode all variables to numerics\n",
    "- Make a baseline model\n",
    "- Subset data into X and y (target variable) sets\n",
    "- Fit a model using train data\n",
    "- Use a validate subset to determine the best model out of all candidate models\n",
    "- Test accuracy of top performing model on the test subset of the data set\n",
    "\n",
    "For more information on why these four models and their hyperparameters were used, please see the <a href='#appendix'>appendices</a>.\n",
    "\n",
    "<a href='#electroniccheck'>Prev: Is churn associated with electronic check?</a> - <a href='#baseline'>Next: Baseline Model</a>"
   ]
  },
  {
   "cell_type": "code",
   "execution_count": 38,
   "id": "816a7f47",
   "metadata": {},
   "outputs": [],
   "source": [
    "compare_models = [] # this will store the metrics for each model so that they can be easily compared."
   ]
  },
  {
   "cell_type": "markdown",
   "id": "8de8c3c6",
   "metadata": {},
   "source": [
    "### Encode Variables <a name='encode'></a>\n",
    "\n",
    "A custom function in the `prepare.py` module is used to encode the non-numeric data.  It has the following function signature:\n",
    "- `telco_make_dummies(df)` : Given a dataframe object, `df`, the non-numeric data is encoded into numeric data. The returned dataframe will be the original with the encoded columns concatenated."
   ]
  },
  {
   "cell_type": "code",
   "execution_count": 39,
   "id": "5c9894be",
   "metadata": {},
   "outputs": [],
   "source": [
    "#encode the data sets\n",
    "train = prepare.telco_make_dummies(train)\n",
    "validate = prepare.telco_make_dummies(validate)\n",
    "test = prepare.telco_make_dummies(test)"
   ]
  },
  {
   "cell_type": "markdown",
   "id": "fb0ca46c",
   "metadata": {},
   "source": [
    "### Baseline Model <a name='baseline'></a>\n",
    "\n",
    "In order to ensure the quality and accuracy of the machine learning models of churn, they should be compared to a baseline model\n",
    "that predict a single outcome for all customers.  This outcome is determined by choosing the most common target outcome variable within the sample.  In this case, since $\\approx 0.27$ of customers churn, the baseline models predicts that no customers churn for an accuracy of $1 - 0.27 = 0.73$.\n",
    "\n",
    "<a href='#modeling'>Prev: Machine Learning Model of Churn</a> - <a href='#comparing'>Next: Comparing Candidate Models </a>"
   ]
  },
  {
   "cell_type": "code",
   "execution_count": 40,
   "id": "315e71db",
   "metadata": {
    "scrolled": false
   },
   "outputs": [
    {
     "data": {
      "text/html": [
       "<div>\n",
       "<style scoped>\n",
       "    .dataframe tbody tr th:only-of-type {\n",
       "        vertical-align: middle;\n",
       "    }\n",
       "\n",
       "    .dataframe tbody tr th {\n",
       "        vertical-align: top;\n",
       "    }\n",
       "\n",
       "    .dataframe thead th {\n",
       "        text-align: right;\n",
       "    }\n",
       "</style>\n",
       "<table border=\"1\" class=\"dataframe\">\n",
       "  <thead>\n",
       "    <tr style=\"text-align: right;\">\n",
       "      <th></th>\n",
       "      <th>precision</th>\n",
       "      <th>recall</th>\n",
       "      <th>f1-score</th>\n",
       "      <th>support</th>\n",
       "    </tr>\n",
       "  </thead>\n",
       "  <tbody>\n",
       "    <tr>\n",
       "      <th>0</th>\n",
       "      <td>0.734315</td>\n",
       "      <td>1.000000</td>\n",
       "      <td>0.846807</td>\n",
       "      <td>2891.000000</td>\n",
       "    </tr>\n",
       "    <tr>\n",
       "      <th>1</th>\n",
       "      <td>1.000000</td>\n",
       "      <td>0.000000</td>\n",
       "      <td>0.000000</td>\n",
       "      <td>1046.000000</td>\n",
       "    </tr>\n",
       "    <tr>\n",
       "      <th>accuracy</th>\n",
       "      <td>0.734315</td>\n",
       "      <td>0.734315</td>\n",
       "      <td>0.734315</td>\n",
       "      <td>0.734315</td>\n",
       "    </tr>\n",
       "    <tr>\n",
       "      <th>macro avg</th>\n",
       "      <td>0.867158</td>\n",
       "      <td>0.500000</td>\n",
       "      <td>0.423404</td>\n",
       "      <td>3937.000000</td>\n",
       "    </tr>\n",
       "    <tr>\n",
       "      <th>weighted avg</th>\n",
       "      <td>0.804904</td>\n",
       "      <td>0.734315</td>\n",
       "      <td>0.621824</td>\n",
       "      <td>3937.000000</td>\n",
       "    </tr>\n",
       "  </tbody>\n",
       "</table>\n",
       "</div>"
      ],
      "text/plain": [
       "              precision    recall  f1-score      support\n",
       "0              0.734315  1.000000  0.846807  2891.000000\n",
       "1              1.000000  0.000000  0.000000  1046.000000\n",
       "accuracy       0.734315  0.734315  0.734315     0.734315\n",
       "macro avg      0.867158  0.500000  0.423404  3937.000000\n",
       "weighted avg   0.804904  0.734315  0.621824  3937.000000"
      ]
     },
     "execution_count": 40,
     "metadata": {},
     "output_type": "execute_result"
    }
   ],
   "source": [
    "#make a baseline model\n",
    "#most of the customers do not churn. baseline model is no one churns\n",
    "baseline_prediction = train.churn_Yes.value_counts().idxmax() #get most common value\n",
    "baseline_model = pd.Series([baseline_prediction for x in range(train.shape[0])]) #make a dataframe with the predictions\n",
    "\n",
    "#save accuracy in a variable and product e classification report\n",
    "baseline_accuracy = metrics.classification_report(train.churn_Yes, baseline_model, labels = [0, 1], zero_division=True, output_dict=True)['accuracy']\n",
    "pd.DataFrame(metrics.classification_report(train.churn_Yes, baseline_model, labels = [0, 1], zero_division=True, output_dict=True)).T"
   ]
  },
  {
   "cell_type": "code",
   "execution_count": 41,
   "id": "ac1cde6e",
   "metadata": {},
   "outputs": [
    {
     "name": "stdout",
     "output_type": "stream",
     "text": [
      "Baseline model accuracy is 0.7343154686309372\n"
     ]
    }
   ],
   "source": [
    "print(f'Baseline model accuracy is {baseline_accuracy}')"
   ]
  },
  {
   "cell_type": "markdown",
   "id": "af61db13",
   "metadata": {},
   "source": [
    "### Make X and y sets. <a name='xysets'></a>\n",
    "\n",
    "The `X_sampleName` sets contain all the encoded data from the sample except the target variable, and the `y_sampleName` set contains the target variable data."
   ]
  },
  {
   "cell_type": "code",
   "execution_count": 42,
   "id": "2adb1b0d",
   "metadata": {},
   "outputs": [],
   "source": [
    "# make the X and y train sets\n",
    "#include all numeric columns and except the target variable\n",
    "X_train = train.select_dtypes(include=['int64', 'float64', 'uint8']).drop(columns = 'churn_Yes')\n",
    "#include only the encoded target variable\n",
    "y_train = train.churn_Yes\n",
    "\n",
    "# make the X and y validate sets\n",
    "#include all numeric columns and except the target variable\n",
    "X_validate = validate.select_dtypes(include=['int64', 'float64', 'uint8']).drop(columns = 'churn_Yes')\n",
    "#include only the encoded target variable\n",
    "y_validate = validate.churn_Yes"
   ]
  },
  {
   "cell_type": "markdown",
   "id": "4d7c7c8c",
   "metadata": {},
   "source": [
    "<a href='#contents'>To Top</a>"
   ]
  },
  {
   "cell_type": "markdown",
   "id": "b88a5de3",
   "metadata": {},
   "source": [
    "### Candidate Models <a name='models'></a>\n",
    "\n",
    "#### K Nearest Neighbors<a name='knneighbors'></a>\n",
    "\n",
    "K-nearest neighbors is a geometric classification algorithm that determines group membership by considering the $k$ nearest points' classification."
   ]
  },
  {
   "cell_type": "code",
   "execution_count": 43,
   "id": "534f695b",
   "metadata": {},
   "outputs": [
    {
     "data": {
      "text/html": [
       "<div>\n",
       "<style scoped>\n",
       "    .dataframe tbody tr th:only-of-type {\n",
       "        vertical-align: middle;\n",
       "    }\n",
       "\n",
       "    .dataframe tbody tr th {\n",
       "        vertical-align: top;\n",
       "    }\n",
       "\n",
       "    .dataframe thead th {\n",
       "        text-align: right;\n",
       "    }\n",
       "</style>\n",
       "<table border=\"1\" class=\"dataframe\">\n",
       "  <thead>\n",
       "    <tr style=\"text-align: right;\">\n",
       "      <th></th>\n",
       "      <th>precision</th>\n",
       "      <th>recall</th>\n",
       "      <th>f1-score</th>\n",
       "      <th>support</th>\n",
       "    </tr>\n",
       "  </thead>\n",
       "  <tbody>\n",
       "    <tr>\n",
       "      <th>0</th>\n",
       "      <td>0.816511</td>\n",
       "      <td>0.937392</td>\n",
       "      <td>0.872786</td>\n",
       "      <td>2891.00000</td>\n",
       "    </tr>\n",
       "    <tr>\n",
       "      <th>1</th>\n",
       "      <td>0.707120</td>\n",
       "      <td>0.417782</td>\n",
       "      <td>0.525240</td>\n",
       "      <td>1046.00000</td>\n",
       "    </tr>\n",
       "    <tr>\n",
       "      <th>accuracy</th>\n",
       "      <td>0.799340</td>\n",
       "      <td>0.799340</td>\n",
       "      <td>0.799340</td>\n",
       "      <td>0.79934</td>\n",
       "    </tr>\n",
       "    <tr>\n",
       "      <th>macro avg</th>\n",
       "      <td>0.761815</td>\n",
       "      <td>0.677587</td>\n",
       "      <td>0.699013</td>\n",
       "      <td>3937.00000</td>\n",
       "    </tr>\n",
       "    <tr>\n",
       "      <th>weighted avg</th>\n",
       "      <td>0.787447</td>\n",
       "      <td>0.799340</td>\n",
       "      <td>0.780448</td>\n",
       "      <td>3937.00000</td>\n",
       "    </tr>\n",
       "  </tbody>\n",
       "</table>\n",
       "</div>"
      ],
      "text/plain": [
       "              precision    recall  f1-score     support\n",
       "0              0.816511  0.937392  0.872786  2891.00000\n",
       "1              0.707120  0.417782  0.525240  1046.00000\n",
       "accuracy       0.799340  0.799340  0.799340     0.79934\n",
       "macro avg      0.761815  0.677587  0.699013  3937.00000\n",
       "weighted avg   0.787447  0.799340  0.780448  3937.00000"
      ]
     },
     "execution_count": 43,
     "metadata": {},
     "output_type": "execute_result"
    }
   ],
   "source": [
    "knn = KNeighborsClassifier(n_neighbors=17) #make a KNN model\n",
    "knn = knn.fit(X_train, y_train) #fit the model\n",
    "y_pred_train = knn.predict(X_train) #see predictions for train set\n",
    "metrics_dict_train = metrics.classification_report(y_train, y_pred_train, output_dict=True) #save accuracy\n",
    "pd.DataFrame(metrics_dict_train).T"
   ]
  },
  {
   "cell_type": "code",
   "execution_count": 44,
   "id": "deaa4ae3",
   "metadata": {},
   "outputs": [
    {
     "data": {
      "text/html": [
       "<div>\n",
       "<style scoped>\n",
       "    .dataframe tbody tr th:only-of-type {\n",
       "        vertical-align: middle;\n",
       "    }\n",
       "\n",
       "    .dataframe tbody tr th {\n",
       "        vertical-align: top;\n",
       "    }\n",
       "\n",
       "    .dataframe thead th {\n",
       "        text-align: right;\n",
       "    }\n",
       "</style>\n",
       "<table border=\"1\" class=\"dataframe\">\n",
       "  <thead>\n",
       "    <tr style=\"text-align: right;\">\n",
       "      <th></th>\n",
       "      <th>precision</th>\n",
       "      <th>recall</th>\n",
       "      <th>f1-score</th>\n",
       "      <th>support</th>\n",
       "    </tr>\n",
       "  </thead>\n",
       "  <tbody>\n",
       "    <tr>\n",
       "      <th>0</th>\n",
       "      <td>0.816396</td>\n",
       "      <td>0.925460</td>\n",
       "      <td>0.867514</td>\n",
       "      <td>1033.000000</td>\n",
       "    </tr>\n",
       "    <tr>\n",
       "      <th>1</th>\n",
       "      <td>0.673729</td>\n",
       "      <td>0.425134</td>\n",
       "      <td>0.521311</td>\n",
       "      <td>374.000000</td>\n",
       "    </tr>\n",
       "    <tr>\n",
       "      <th>accuracy</th>\n",
       "      <td>0.792466</td>\n",
       "      <td>0.792466</td>\n",
       "      <td>0.792466</td>\n",
       "      <td>0.792466</td>\n",
       "    </tr>\n",
       "    <tr>\n",
       "      <th>macro avg</th>\n",
       "      <td>0.745063</td>\n",
       "      <td>0.675297</td>\n",
       "      <td>0.694413</td>\n",
       "      <td>1407.000000</td>\n",
       "    </tr>\n",
       "    <tr>\n",
       "      <th>weighted avg</th>\n",
       "      <td>0.778473</td>\n",
       "      <td>0.792466</td>\n",
       "      <td>0.775488</td>\n",
       "      <td>1407.000000</td>\n",
       "    </tr>\n",
       "  </tbody>\n",
       "</table>\n",
       "</div>"
      ],
      "text/plain": [
       "              precision    recall  f1-score      support\n",
       "0              0.816396  0.925460  0.867514  1033.000000\n",
       "1              0.673729  0.425134  0.521311   374.000000\n",
       "accuracy       0.792466  0.792466  0.792466     0.792466\n",
       "macro avg      0.745063  0.675297  0.694413  1407.000000\n",
       "weighted avg   0.778473  0.792466  0.775488  1407.000000"
      ]
     },
     "execution_count": 44,
     "metadata": {},
     "output_type": "execute_result"
    }
   ],
   "source": [
    "y_pred_validate = knn.predict(X_validate) #predict for validate\n",
    "metrics_dict_validate = metrics.classification_report(y_validate, y_pred_validate, output_dict=True) #save accuracy\n",
    "pd.DataFrame(metrics_dict_validate).T"
   ]
  },
  {
   "cell_type": "code",
   "execution_count": 45,
   "id": "94838053",
   "metadata": {},
   "outputs": [],
   "source": [
    "#store a comparison dictionary for later comparison with other models\n",
    "KNN_compare = {\n",
    "    'Model':'K-nearest Neighbors',\n",
    "    'Train Accuracy' : metrics_dict_train['accuracy'],\n",
    "    'Train Sensitivity': metrics_dict_train['1']['recall'],\n",
    "    'Validate Accuracy' : metrics_dict_validate['accuracy'],\n",
    "    'Validate Sensitivity': metrics_dict_validate['1']['recall'],\n",
    "    'Better than Baseline' : metrics_dict_train['accuracy'] > baseline_accuracy and metrics_dict_validate['accuracy'] > baseline_accuracy,\n",
    "    'Accuracy Difference' : abs(metrics_dict_train['accuracy'] - metrics_dict_validate['accuracy'])\n",
    "}\n",
    "compare_models.append(KNN_compare)"
   ]
  },
  {
   "cell_type": "markdown",
   "id": "1fce693c",
   "metadata": {},
   "source": [
    "<a href='#contents'>To Top</a>\n",
    "\n",
    "\n",
    "#### Decision Tree Model <a name='decisiontree'></a>\n",
    "\n",
    "The decision tree algorithm makes a binary tree decision to predict outcome.  It is given a maximum depth variable, representing the number of nodes seperating a leaf node and the root node."
   ]
  },
  {
   "cell_type": "code",
   "execution_count": 46,
   "id": "2fa8b06b",
   "metadata": {},
   "outputs": [
    {
     "data": {
      "text/html": [
       "<div>\n",
       "<style scoped>\n",
       "    .dataframe tbody tr th:only-of-type {\n",
       "        vertical-align: middle;\n",
       "    }\n",
       "\n",
       "    .dataframe tbody tr th {\n",
       "        vertical-align: top;\n",
       "    }\n",
       "\n",
       "    .dataframe thead th {\n",
       "        text-align: right;\n",
       "    }\n",
       "</style>\n",
       "<table border=\"1\" class=\"dataframe\">\n",
       "  <thead>\n",
       "    <tr style=\"text-align: right;\">\n",
       "      <th></th>\n",
       "      <th>precision</th>\n",
       "      <th>recall</th>\n",
       "      <th>f1-score</th>\n",
       "      <th>support</th>\n",
       "    </tr>\n",
       "  </thead>\n",
       "  <tbody>\n",
       "    <tr>\n",
       "      <th>0</th>\n",
       "      <td>0.824399</td>\n",
       "      <td>0.925631</td>\n",
       "      <td>0.872087</td>\n",
       "      <td>2891.00000</td>\n",
       "    </tr>\n",
       "    <tr>\n",
       "      <th>1</th>\n",
       "      <td>0.688857</td>\n",
       "      <td>0.455067</td>\n",
       "      <td>0.548071</td>\n",
       "      <td>1046.00000</td>\n",
       "    </tr>\n",
       "    <tr>\n",
       "      <th>accuracy</th>\n",
       "      <td>0.800610</td>\n",
       "      <td>0.800610</td>\n",
       "      <td>0.800610</td>\n",
       "      <td>0.80061</td>\n",
       "    </tr>\n",
       "    <tr>\n",
       "      <th>macro avg</th>\n",
       "      <td>0.756628</td>\n",
       "      <td>0.690349</td>\n",
       "      <td>0.710079</td>\n",
       "      <td>3937.00000</td>\n",
       "    </tr>\n",
       "    <tr>\n",
       "      <th>weighted avg</th>\n",
       "      <td>0.788388</td>\n",
       "      <td>0.800610</td>\n",
       "      <td>0.786001</td>\n",
       "      <td>3937.00000</td>\n",
       "    </tr>\n",
       "  </tbody>\n",
       "</table>\n",
       "</div>"
      ],
      "text/plain": [
       "              precision    recall  f1-score     support\n",
       "0              0.824399  0.925631  0.872087  2891.00000\n",
       "1              0.688857  0.455067  0.548071  1046.00000\n",
       "accuracy       0.800610  0.800610  0.800610     0.80061\n",
       "macro avg      0.756628  0.690349  0.710079  3937.00000\n",
       "weighted avg   0.788388  0.800610  0.786001  3937.00000"
      ]
     },
     "execution_count": 46,
     "metadata": {},
     "output_type": "execute_result"
    }
   ],
   "source": [
    "dt = DecisionTreeClassifier(max_depth=4, random_state=rand_seed) #make a decision tree model with depth 4\n",
    "dt = dt.fit(X_train, y_train) #fit the train data\n",
    "y_pred_train = dt.predict(X_train) #predict the train data\n",
    "metrics_dict_train = metrics.classification_report(y_train, y_pred_train, output_dict=True) #save accuracy information\n",
    "pd.DataFrame(metrics_dict_train).T"
   ]
  },
  {
   "cell_type": "code",
   "execution_count": 47,
   "id": "52d7bf01",
   "metadata": {},
   "outputs": [
    {
     "data": {
      "text/html": [
       "<div>\n",
       "<style scoped>\n",
       "    .dataframe tbody tr th:only-of-type {\n",
       "        vertical-align: middle;\n",
       "    }\n",
       "\n",
       "    .dataframe tbody tr th {\n",
       "        vertical-align: top;\n",
       "    }\n",
       "\n",
       "    .dataframe thead th {\n",
       "        text-align: right;\n",
       "    }\n",
       "</style>\n",
       "<table border=\"1\" class=\"dataframe\">\n",
       "  <thead>\n",
       "    <tr style=\"text-align: right;\">\n",
       "      <th></th>\n",
       "      <th>precision</th>\n",
       "      <th>recall</th>\n",
       "      <th>f1-score</th>\n",
       "      <th>support</th>\n",
       "    </tr>\n",
       "  </thead>\n",
       "  <tbody>\n",
       "    <tr>\n",
       "      <th>0</th>\n",
       "      <td>0.830688</td>\n",
       "      <td>0.911907</td>\n",
       "      <td>0.869405</td>\n",
       "      <td>1033.000000</td>\n",
       "    </tr>\n",
       "    <tr>\n",
       "      <th>1</th>\n",
       "      <td>0.666667</td>\n",
       "      <td>0.486631</td>\n",
       "      <td>0.562597</td>\n",
       "      <td>374.000000</td>\n",
       "    </tr>\n",
       "    <tr>\n",
       "      <th>accuracy</th>\n",
       "      <td>0.798863</td>\n",
       "      <td>0.798863</td>\n",
       "      <td>0.798863</td>\n",
       "      <td>0.798863</td>\n",
       "    </tr>\n",
       "    <tr>\n",
       "      <th>macro avg</th>\n",
       "      <td>0.748677</td>\n",
       "      <td>0.699269</td>\n",
       "      <td>0.716001</td>\n",
       "      <td>1407.000000</td>\n",
       "    </tr>\n",
       "    <tr>\n",
       "      <th>weighted avg</th>\n",
       "      <td>0.787089</td>\n",
       "      <td>0.798863</td>\n",
       "      <td>0.787851</td>\n",
       "      <td>1407.000000</td>\n",
       "    </tr>\n",
       "  </tbody>\n",
       "</table>\n",
       "</div>"
      ],
      "text/plain": [
       "              precision    recall  f1-score      support\n",
       "0              0.830688  0.911907  0.869405  1033.000000\n",
       "1              0.666667  0.486631  0.562597   374.000000\n",
       "accuracy       0.798863  0.798863  0.798863     0.798863\n",
       "macro avg      0.748677  0.699269  0.716001  1407.000000\n",
       "weighted avg   0.787089  0.798863  0.787851  1407.000000"
      ]
     },
     "execution_count": 47,
     "metadata": {},
     "output_type": "execute_result"
    }
   ],
   "source": [
    "y_pred_validate = dt.predict(X_validate) #predict for validate\n",
    "metrics_dict_validate = metrics.classification_report(y_validate, y_pred_validate, output_dict=True) #save accuracy\n",
    "pd.DataFrame(metrics_dict_validate).T"
   ]
  },
  {
   "cell_type": "code",
   "execution_count": 48,
   "id": "723bfba0",
   "metadata": {},
   "outputs": [],
   "source": [
    "#store a comparison dictionary for later comparison with other models\n",
    "DT_compare = {\n",
    "    'Model':'Decision Tree',\n",
    "    'Train Accuracy' : metrics_dict_train['accuracy'],\n",
    "    'Train Sensitivity': metrics_dict_train['1']['recall'],\n",
    "    'Validate Accuracy' : metrics_dict_validate['accuracy'],\n",
    "    'Validate Sensitivity': metrics_dict_validate['1']['recall'],\n",
    "    'Better than Baseline' : metrics_dict_train['accuracy'] > baseline_accuracy and metrics_dict_validate['accuracy'] > baseline_accuracy,\n",
    "    'Accuracy Difference' : abs(metrics_dict_train['accuracy'] - metrics_dict_validate['accuracy'])\n",
    "}\n",
    "compare_models.append(DT_compare)"
   ]
  },
  {
   "cell_type": "markdown",
   "id": "86a2a937",
   "metadata": {},
   "source": [
    "<a href='#contents'>To Top</a>\n",
    "\n",
    "\n",
    "#### Random Forest Model <a name='randomforest'></a>\n",
    "\n",
    "A random forest model uses multiple decision trees to predict target variable outcome; this introduces some randomness into the model--therefore preventing overfitting."
   ]
  },
  {
   "cell_type": "code",
   "execution_count": 49,
   "id": "d35dc3d0",
   "metadata": {},
   "outputs": [
    {
     "data": {
      "text/html": [
       "<div>\n",
       "<style scoped>\n",
       "    .dataframe tbody tr th:only-of-type {\n",
       "        vertical-align: middle;\n",
       "    }\n",
       "\n",
       "    .dataframe tbody tr th {\n",
       "        vertical-align: top;\n",
       "    }\n",
       "\n",
       "    .dataframe thead th {\n",
       "        text-align: right;\n",
       "    }\n",
       "</style>\n",
       "<table border=\"1\" class=\"dataframe\">\n",
       "  <thead>\n",
       "    <tr style=\"text-align: right;\">\n",
       "      <th></th>\n",
       "      <th>precision</th>\n",
       "      <th>recall</th>\n",
       "      <th>f1-score</th>\n",
       "      <th>support</th>\n",
       "    </tr>\n",
       "  </thead>\n",
       "  <tbody>\n",
       "    <tr>\n",
       "      <th>0</th>\n",
       "      <td>0.848763</td>\n",
       "      <td>0.925977</td>\n",
       "      <td>0.885691</td>\n",
       "      <td>2891.000000</td>\n",
       "    </tr>\n",
       "    <tr>\n",
       "      <th>1</th>\n",
       "      <td>0.726692</td>\n",
       "      <td>0.543977</td>\n",
       "      <td>0.622198</td>\n",
       "      <td>1046.000000</td>\n",
       "    </tr>\n",
       "    <tr>\n",
       "      <th>accuracy</th>\n",
       "      <td>0.824486</td>\n",
       "      <td>0.824486</td>\n",
       "      <td>0.824486</td>\n",
       "      <td>0.824486</td>\n",
       "    </tr>\n",
       "    <tr>\n",
       "      <th>macro avg</th>\n",
       "      <td>0.787728</td>\n",
       "      <td>0.734977</td>\n",
       "      <td>0.753944</td>\n",
       "      <td>3937.000000</td>\n",
       "    </tr>\n",
       "    <tr>\n",
       "      <th>weighted avg</th>\n",
       "      <td>0.816331</td>\n",
       "      <td>0.824486</td>\n",
       "      <td>0.815685</td>\n",
       "      <td>3937.000000</td>\n",
       "    </tr>\n",
       "  </tbody>\n",
       "</table>\n",
       "</div>"
      ],
      "text/plain": [
       "              precision    recall  f1-score      support\n",
       "0              0.848763  0.925977  0.885691  2891.000000\n",
       "1              0.726692  0.543977  0.622198  1046.000000\n",
       "accuracy       0.824486  0.824486  0.824486     0.824486\n",
       "macro avg      0.787728  0.734977  0.753944  3937.000000\n",
       "weighted avg   0.816331  0.824486  0.815685  3937.000000"
      ]
     },
     "execution_count": 49,
     "metadata": {},
     "output_type": "execute_result"
    }
   ],
   "source": [
    "rf = RandomForestClassifier(min_samples_leaf = 9, max_depth = 9, random_state=rand_seed) #make a random forest model with depth 4\n",
    "rf = rf.fit(X_train, y_train) #fit the train data\n",
    "y_pred_train = rf.predict(X_train) #predict the train data\n",
    "metrics_dict_train = metrics.classification_report(y_train, y_pred_train, output_dict=True) #save accuracy information\n",
    "pd.DataFrame(metrics_dict_train).T"
   ]
  },
  {
   "cell_type": "code",
   "execution_count": 50,
   "id": "6afc2cbf",
   "metadata": {},
   "outputs": [
    {
     "data": {
      "text/html": [
       "<div>\n",
       "<style scoped>\n",
       "    .dataframe tbody tr th:only-of-type {\n",
       "        vertical-align: middle;\n",
       "    }\n",
       "\n",
       "    .dataframe tbody tr th {\n",
       "        vertical-align: top;\n",
       "    }\n",
       "\n",
       "    .dataframe thead th {\n",
       "        text-align: right;\n",
       "    }\n",
       "</style>\n",
       "<table border=\"1\" class=\"dataframe\">\n",
       "  <thead>\n",
       "    <tr style=\"text-align: right;\">\n",
       "      <th></th>\n",
       "      <th>precision</th>\n",
       "      <th>recall</th>\n",
       "      <th>f1-score</th>\n",
       "      <th>support</th>\n",
       "    </tr>\n",
       "  </thead>\n",
       "  <tbody>\n",
       "    <tr>\n",
       "      <th>0</th>\n",
       "      <td>0.846293</td>\n",
       "      <td>0.906099</td>\n",
       "      <td>0.875175</td>\n",
       "      <td>1033.000000</td>\n",
       "    </tr>\n",
       "    <tr>\n",
       "      <th>1</th>\n",
       "      <td>0.677741</td>\n",
       "      <td>0.545455</td>\n",
       "      <td>0.604444</td>\n",
       "      <td>374.000000</td>\n",
       "    </tr>\n",
       "    <tr>\n",
       "      <th>accuracy</th>\n",
       "      <td>0.810235</td>\n",
       "      <td>0.810235</td>\n",
       "      <td>0.810235</td>\n",
       "      <td>0.810235</td>\n",
       "    </tr>\n",
       "    <tr>\n",
       "      <th>macro avg</th>\n",
       "      <td>0.762017</td>\n",
       "      <td>0.725777</td>\n",
       "      <td>0.739810</td>\n",
       "      <td>1407.000000</td>\n",
       "    </tr>\n",
       "    <tr>\n",
       "      <th>weighted avg</th>\n",
       "      <td>0.801489</td>\n",
       "      <td>0.810235</td>\n",
       "      <td>0.803211</td>\n",
       "      <td>1407.000000</td>\n",
       "    </tr>\n",
       "  </tbody>\n",
       "</table>\n",
       "</div>"
      ],
      "text/plain": [
       "              precision    recall  f1-score      support\n",
       "0              0.846293  0.906099  0.875175  1033.000000\n",
       "1              0.677741  0.545455  0.604444   374.000000\n",
       "accuracy       0.810235  0.810235  0.810235     0.810235\n",
       "macro avg      0.762017  0.725777  0.739810  1407.000000\n",
       "weighted avg   0.801489  0.810235  0.803211  1407.000000"
      ]
     },
     "execution_count": 50,
     "metadata": {},
     "output_type": "execute_result"
    }
   ],
   "source": [
    "y_pred_validate = rf.predict(X_validate) #predict for validate\n",
    "metrics_dict_validate = metrics.classification_report(y_validate, y_pred_validate, output_dict=True) #save accuracy\n",
    "pd.DataFrame(metrics_dict_validate).T"
   ]
  },
  {
   "cell_type": "code",
   "execution_count": 51,
   "id": "1a2d9d28",
   "metadata": {},
   "outputs": [],
   "source": [
    "#store a comparison dictionary for later comparison with other models\n",
    "RF_compare = {\n",
    "    'Model':'Random Forest',\n",
    "    'Train Accuracy' : metrics_dict_train['accuracy'],\n",
    "    'Train Sensitivity': metrics_dict_train['1']['recall'],\n",
    "    'Validate Accuracy' : metrics_dict_validate['accuracy'],\n",
    "    'Validate Sensitivity': metrics_dict_validate['1']['recall'],\n",
    "    'Better than Baseline' : metrics_dict_train['accuracy'] > baseline_accuracy and metrics_dict_validate['accuracy'] > baseline_accuracy,\n",
    "    'Accuracy Difference' : abs(metrics_dict_train['accuracy'] - metrics_dict_validate['accuracy'])\n",
    "}\n",
    "compare_models.append(RF_compare)"
   ]
  },
  {
   "cell_type": "markdown",
   "id": "af90b2e2",
   "metadata": {},
   "source": [
    "<a href='#contents'>To Top</a>\n",
    "\n",
    "\n",
    "#### Logistic Regression Model <a name='logisticreg'></a>\n",
    "\n",
    "A logistic regression model uses a regression formula to make a binary prediction in target variable outcomes."
   ]
  },
  {
   "cell_type": "code",
   "execution_count": 52,
   "id": "fd45faab",
   "metadata": {},
   "outputs": [
    {
     "data": {
      "text/html": [
       "<div>\n",
       "<style scoped>\n",
       "    .dataframe tbody tr th:only-of-type {\n",
       "        vertical-align: middle;\n",
       "    }\n",
       "\n",
       "    .dataframe tbody tr th {\n",
       "        vertical-align: top;\n",
       "    }\n",
       "\n",
       "    .dataframe thead th {\n",
       "        text-align: right;\n",
       "    }\n",
       "</style>\n",
       "<table border=\"1\" class=\"dataframe\">\n",
       "  <thead>\n",
       "    <tr style=\"text-align: right;\">\n",
       "      <th></th>\n",
       "      <th>precision</th>\n",
       "      <th>recall</th>\n",
       "      <th>f1-score</th>\n",
       "      <th>support</th>\n",
       "    </tr>\n",
       "  </thead>\n",
       "  <tbody>\n",
       "    <tr>\n",
       "      <th>0</th>\n",
       "      <td>0.848763</td>\n",
       "      <td>0.925977</td>\n",
       "      <td>0.885691</td>\n",
       "      <td>2891.000000</td>\n",
       "    </tr>\n",
       "    <tr>\n",
       "      <th>1</th>\n",
       "      <td>0.726692</td>\n",
       "      <td>0.543977</td>\n",
       "      <td>0.622198</td>\n",
       "      <td>1046.000000</td>\n",
       "    </tr>\n",
       "    <tr>\n",
       "      <th>accuracy</th>\n",
       "      <td>0.824486</td>\n",
       "      <td>0.824486</td>\n",
       "      <td>0.824486</td>\n",
       "      <td>0.824486</td>\n",
       "    </tr>\n",
       "    <tr>\n",
       "      <th>macro avg</th>\n",
       "      <td>0.787728</td>\n",
       "      <td>0.734977</td>\n",
       "      <td>0.753944</td>\n",
       "      <td>3937.000000</td>\n",
       "    </tr>\n",
       "    <tr>\n",
       "      <th>weighted avg</th>\n",
       "      <td>0.816331</td>\n",
       "      <td>0.824486</td>\n",
       "      <td>0.815685</td>\n",
       "      <td>3937.000000</td>\n",
       "    </tr>\n",
       "  </tbody>\n",
       "</table>\n",
       "</div>"
      ],
      "text/plain": [
       "              precision    recall  f1-score      support\n",
       "0              0.848763  0.925977  0.885691  2891.000000\n",
       "1              0.726692  0.543977  0.622198  1046.000000\n",
       "accuracy       0.824486  0.824486  0.824486     0.824486\n",
       "macro avg      0.787728  0.734977  0.753944  3937.000000\n",
       "weighted avg   0.816331  0.824486  0.815685  3937.000000"
      ]
     },
     "execution_count": 52,
     "metadata": {},
     "output_type": "execute_result"
    }
   ],
   "source": [
    "lr = LogisticRegression(random_state = rand_seed, max_iter=1000,  solver='liblinear') #make a random forest model with depth 4\n",
    "lr = lr.fit(X_train, y_train) #fit the train data\n",
    "y_pred_train = rf.predict(X_train) #predict the train data\n",
    "metrics_dict_train = metrics.classification_report(y_train, y_pred_train, output_dict=True) #save accuracy information\n",
    "pd.DataFrame(metrics_dict_train).T"
   ]
  },
  {
   "cell_type": "code",
   "execution_count": 53,
   "id": "b4c47d38",
   "metadata": {},
   "outputs": [
    {
     "data": {
      "text/html": [
       "<div>\n",
       "<style scoped>\n",
       "    .dataframe tbody tr th:only-of-type {\n",
       "        vertical-align: middle;\n",
       "    }\n",
       "\n",
       "    .dataframe tbody tr th {\n",
       "        vertical-align: top;\n",
       "    }\n",
       "\n",
       "    .dataframe thead th {\n",
       "        text-align: right;\n",
       "    }\n",
       "</style>\n",
       "<table border=\"1\" class=\"dataframe\">\n",
       "  <thead>\n",
       "    <tr style=\"text-align: right;\">\n",
       "      <th></th>\n",
       "      <th>precision</th>\n",
       "      <th>recall</th>\n",
       "      <th>f1-score</th>\n",
       "      <th>support</th>\n",
       "    </tr>\n",
       "  </thead>\n",
       "  <tbody>\n",
       "    <tr>\n",
       "      <th>0</th>\n",
       "      <td>0.853186</td>\n",
       "      <td>0.894482</td>\n",
       "      <td>0.873346</td>\n",
       "      <td>1033.000000</td>\n",
       "    </tr>\n",
       "    <tr>\n",
       "      <th>1</th>\n",
       "      <td>0.663580</td>\n",
       "      <td>0.574866</td>\n",
       "      <td>0.616046</td>\n",
       "      <td>374.000000</td>\n",
       "    </tr>\n",
       "    <tr>\n",
       "      <th>accuracy</th>\n",
       "      <td>0.809524</td>\n",
       "      <td>0.809524</td>\n",
       "      <td>0.809524</td>\n",
       "      <td>0.809524</td>\n",
       "    </tr>\n",
       "    <tr>\n",
       "      <th>macro avg</th>\n",
       "      <td>0.758383</td>\n",
       "      <td>0.734674</td>\n",
       "      <td>0.744696</td>\n",
       "      <td>1407.000000</td>\n",
       "    </tr>\n",
       "    <tr>\n",
       "      <th>weighted avg</th>\n",
       "      <td>0.802786</td>\n",
       "      <td>0.809524</td>\n",
       "      <td>0.804952</td>\n",
       "      <td>1407.000000</td>\n",
       "    </tr>\n",
       "  </tbody>\n",
       "</table>\n",
       "</div>"
      ],
      "text/plain": [
       "              precision    recall  f1-score      support\n",
       "0              0.853186  0.894482  0.873346  1033.000000\n",
       "1              0.663580  0.574866  0.616046   374.000000\n",
       "accuracy       0.809524  0.809524  0.809524     0.809524\n",
       "macro avg      0.758383  0.734674  0.744696  1407.000000\n",
       "weighted avg   0.802786  0.809524  0.804952  1407.000000"
      ]
     },
     "execution_count": 53,
     "metadata": {},
     "output_type": "execute_result"
    }
   ],
   "source": [
    "y_pred_validate = lr.predict(X_validate) #predict for validate\n",
    "metrics_dict_validate = metrics.classification_report(y_validate, y_pred_validate, output_dict=True) #save accuracy\n",
    "pd.DataFrame(metrics_dict_validate).T"
   ]
  },
  {
   "cell_type": "code",
   "execution_count": 54,
   "id": "9ef64b1e",
   "metadata": {},
   "outputs": [],
   "source": [
    "#store a comparison dictionary for later comparison with other models\n",
    "LR_compare = {\n",
    "    'Model':'Logistic Regression',\n",
    "    'Train Accuracy' : metrics_dict_train['accuracy'],\n",
    "    'Train Sensitivity': metrics_dict_train['1']['recall'],\n",
    "    'Validate Accuracy' : metrics_dict_validate['accuracy'],\n",
    "    'Validate Sensitivity': metrics_dict_validate['1']['recall'],\n",
    "    'Better than Baseline' : metrics_dict_train['accuracy'] > baseline_accuracy and metrics_dict_validate['accuracy'] > baseline_accuracy,\n",
    "    'Accuracy Difference' : abs(metrics_dict_train['accuracy'] - metrics_dict_validate['accuracy'])\n",
    "}\n",
    "compare_models.append(LR_compare)"
   ]
  },
  {
   "cell_type": "markdown",
   "id": "98280c9a",
   "metadata": {},
   "source": [
    "<a href='#contents'>To Top</a>\n",
    "\n",
    "### Comparing Candidate Models <a name='comparing'></a>\n",
    "\n",
    "As the accuracy results have been saved in `compare_models` list, they can be easily comapared:\n",
    "\n",
    "<a href='#baseline'>Prev: Baseline Model</a> - <a href='#evaluation'>Next: Evaluating the model</a>\n",
    "\n",
    "<a href='#contents'>To Top</a>"
   ]
  },
  {
   "cell_type": "code",
   "execution_count": 55,
   "id": "79c1e3e0",
   "metadata": {
    "scrolled": true
   },
   "outputs": [
    {
     "data": {
      "text/html": [
       "<div>\n",
       "<style scoped>\n",
       "    .dataframe tbody tr th:only-of-type {\n",
       "        vertical-align: middle;\n",
       "    }\n",
       "\n",
       "    .dataframe tbody tr th {\n",
       "        vertical-align: top;\n",
       "    }\n",
       "\n",
       "    .dataframe thead th {\n",
       "        text-align: right;\n",
       "    }\n",
       "</style>\n",
       "<table border=\"1\" class=\"dataframe\">\n",
       "  <thead>\n",
       "    <tr style=\"text-align: right;\">\n",
       "      <th></th>\n",
       "      <th>Train Accuracy</th>\n",
       "      <th>Train Sensitivity</th>\n",
       "      <th>Validate Accuracy</th>\n",
       "      <th>Validate Sensitivity</th>\n",
       "      <th>Better than Baseline</th>\n",
       "      <th>Accuracy Difference</th>\n",
       "    </tr>\n",
       "    <tr>\n",
       "      <th>Model</th>\n",
       "      <th></th>\n",
       "      <th></th>\n",
       "      <th></th>\n",
       "      <th></th>\n",
       "      <th></th>\n",
       "      <th></th>\n",
       "    </tr>\n",
       "  </thead>\n",
       "  <tbody>\n",
       "    <tr>\n",
       "      <th>K-nearest Neighbors</th>\n",
       "      <td>0.799340</td>\n",
       "      <td>0.417782</td>\n",
       "      <td>0.792466</td>\n",
       "      <td>0.425134</td>\n",
       "      <td>True</td>\n",
       "      <td>0.006873</td>\n",
       "    </tr>\n",
       "    <tr>\n",
       "      <th>Decision Tree</th>\n",
       "      <td>0.800610</td>\n",
       "      <td>0.455067</td>\n",
       "      <td>0.798863</td>\n",
       "      <td>0.486631</td>\n",
       "      <td>True</td>\n",
       "      <td>0.001747</td>\n",
       "    </tr>\n",
       "    <tr>\n",
       "      <th>Random Forest</th>\n",
       "      <td>0.824486</td>\n",
       "      <td>0.543977</td>\n",
       "      <td>0.810235</td>\n",
       "      <td>0.545455</td>\n",
       "      <td>True</td>\n",
       "      <td>0.014251</td>\n",
       "    </tr>\n",
       "    <tr>\n",
       "      <th>Logistic Regression</th>\n",
       "      <td>0.824486</td>\n",
       "      <td>0.543977</td>\n",
       "      <td>0.809524</td>\n",
       "      <td>0.574866</td>\n",
       "      <td>True</td>\n",
       "      <td>0.014962</td>\n",
       "    </tr>\n",
       "  </tbody>\n",
       "</table>\n",
       "</div>"
      ],
      "text/plain": [
       "                     Train Accuracy  Train Sensitivity  Validate Accuracy  \\\n",
       "Model                                                                       \n",
       "K-nearest Neighbors        0.799340           0.417782           0.792466   \n",
       "Decision Tree              0.800610           0.455067           0.798863   \n",
       "Random Forest              0.824486           0.543977           0.810235   \n",
       "Logistic Regression        0.824486           0.543977           0.809524   \n",
       "\n",
       "                     Validate Sensitivity  Better than Baseline  \\\n",
       "Model                                                             \n",
       "K-nearest Neighbors              0.425134                  True   \n",
       "Decision Tree                    0.486631                  True   \n",
       "Random Forest                    0.545455                  True   \n",
       "Logistic Regression              0.574866                  True   \n",
       "\n",
       "                     Accuracy Difference  \n",
       "Model                                     \n",
       "K-nearest Neighbors             0.006873  \n",
       "Decision Tree                   0.001747  \n",
       "Random Forest                   0.014251  \n",
       "Logistic Regression             0.014962  "
      ]
     },
     "execution_count": 55,
     "metadata": {},
     "output_type": "execute_result"
    }
   ],
   "source": [
    "#make the comparison dataframe and display it\n",
    "compare_df = pd.DataFrame(compare_models)\n",
    "compare_df.set_index('Model')"
   ]
  },
  {
   "cell_type": "markdown",
   "id": "8ec17bdc",
   "metadata": {},
   "source": [
    "*Note*: `Better than Baseline` represents a logical conjunction: the model has a higher accuracy than the baseline for both the train and validate sample sets."
   ]
  },
  {
   "cell_type": "code",
   "execution_count": 56,
   "id": "d8ba8218",
   "metadata": {},
   "outputs": [
    {
     "data": {
      "text/plain": [
       "Text(0, 0.5, 'Accuracy')"
      ]
     },
     "execution_count": 56,
     "metadata": {},
     "output_type": "execute_result"
    },
    {
     "data": {
      "image/png": "[encoded data removed]",
      "text/plain": [
       "<Figure size 864x360 with 1 Axes>"
      ]
     },
     "metadata": {
      "needs_background": "light"
     },
     "output_type": "display_data"
    }
   ],
   "source": [
    "#graphically show the change in the model accuracy\n",
    "#melt the data frame\n",
    "melted_compare_df = compare_df[['Model','Train Accuracy', 'Validate Accuracy']].melt(id_vars='Model')\n",
    "melted_compare_df\n",
    "#graph the melted data frame\n",
    "plt.figure(figsize=(12,5))\n",
    "sns.lineplot(x='variable', y='value', hue='Model', data = melted_compare_df)\n",
    "#set labels\n",
    "plt.title('Change in model accuracy: flatter lines are more consistent, and higher lines are more accurate')\n",
    "plt.xlabel('Prediction Set')\n",
    "plt.ylabel('Accuracy')"
   ]
  },
  {
   "cell_type": "markdown",
   "id": "aaf9b899",
   "metadata": {},
   "source": [
    "The above graph shows the change in accuracy from the train and validate.  A flat line indicates that the model is more consistent across both data sets, and a higher line indicates a more accurate model."
   ]
  },
  {
   "cell_type": "markdown",
   "id": "c8b005d9",
   "metadata": {},
   "source": [
    "### Machine Learning Model Discussion <a name='modeldiscussion'></a>\n",
    "\n",
    "Accuracy is the primary metric used to evaluate the model because the model should capture as many of the customers who are churning.  However, sensitivity is also important because it is important to err on the side of caution and assume that a customer will churn.  If the solution to churn incurs some cost to the company, the company will not want to provide that solution to customers who are unlikely to churn; however, since the solution must cost less than the cost to acquire another customer, it is okay to have a few false positive cases (when the customer would not have churned, but was predicted to).\n",
    "\n",
    "\n",
    "All four of the models are better than the baseline model.  In addition, each model has a marginal difference between the accuracy for train and validate sets. The sensitivity across models is also marginally different. The decision tree has a high accuracy and is the most consistent; in addition, the model also has a comparable sensitivity.\n",
    "\n",
    "\n",
    "*Conclusion*: The decision tree model is the best candidate model.\n",
    "\n",
    "<a href='#contents'>To Top</a>"
   ]
  },
  {
   "cell_type": "markdown",
   "id": "e284eb2f",
   "metadata": {},
   "source": [
    "## Testing the Model and Making Predictions <a name='test'></a>\n",
    "\n",
    "Only the decision tree model is tested against the `test` data.  There may be some difference in accuracy and senstivity, but this is likely minor.\n",
    "\n",
    "Testing the model has the following steps:\n",
    "- Split the `test` sample into X and y subsets\n",
    "- Make predictions\n",
    "- Evaluate the predictions\n",
    "\n",
    "<a href='#comparing'>Prev</a>"
   ]
  },
  {
   "cell_type": "code",
   "execution_count": 57,
   "id": "11134413",
   "metadata": {},
   "outputs": [],
   "source": [
    "#make X_test and y_test\n",
    "#include all numeric columns and except the target variable\n",
    "X_test = test.select_dtypes(include=['int64', 'float64', 'uint8']).drop(columns = 'churn_Yes')\n",
    "#include only the encoded target variable\n",
    "y_test = test.churn_Yes"
   ]
  },
  {
   "cell_type": "code",
   "execution_count": 58,
   "id": "9a4ade8f",
   "metadata": {},
   "outputs": [],
   "source": [
    "#predict the outcomes\n",
    "predictions = dt.predict(X_test)\n",
    "predictions_proba = dt.predict_proba(X_test)"
   ]
  },
  {
   "cell_type": "code",
   "execution_count": 59,
   "id": "8c59cb46",
   "metadata": {},
   "outputs": [
    {
     "data": {
      "text/html": [
       "<div>\n",
       "<style scoped>\n",
       "    .dataframe tbody tr th:only-of-type {\n",
       "        vertical-align: middle;\n",
       "    }\n",
       "\n",
       "    .dataframe tbody tr th {\n",
       "        vertical-align: top;\n",
       "    }\n",
       "\n",
       "    .dataframe thead th {\n",
       "        text-align: right;\n",
       "    }\n",
       "</style>\n",
       "<table border=\"1\" class=\"dataframe\">\n",
       "  <thead>\n",
       "    <tr style=\"text-align: right;\">\n",
       "      <th></th>\n",
       "      <th>precision</th>\n",
       "      <th>recall</th>\n",
       "      <th>f1-score</th>\n",
       "      <th>support</th>\n",
       "    </tr>\n",
       "  </thead>\n",
       "  <tbody>\n",
       "    <tr>\n",
       "      <th>0</th>\n",
       "      <td>0.816252</td>\n",
       "      <td>0.899919</td>\n",
       "      <td>0.856046</td>\n",
       "      <td>1239.000000</td>\n",
       "    </tr>\n",
       "    <tr>\n",
       "      <th>1</th>\n",
       "      <td>0.614907</td>\n",
       "      <td>0.440980</td>\n",
       "      <td>0.513619</td>\n",
       "      <td>449.000000</td>\n",
       "    </tr>\n",
       "    <tr>\n",
       "      <th>accuracy</th>\n",
       "      <td>0.777844</td>\n",
       "      <td>0.777844</td>\n",
       "      <td>0.777844</td>\n",
       "      <td>0.777844</td>\n",
       "    </tr>\n",
       "    <tr>\n",
       "      <th>macro avg</th>\n",
       "      <td>0.715579</td>\n",
       "      <td>0.670450</td>\n",
       "      <td>0.684832</td>\n",
       "      <td>1688.000000</td>\n",
       "    </tr>\n",
       "    <tr>\n",
       "      <th>weighted avg</th>\n",
       "      <td>0.762695</td>\n",
       "      <td>0.777844</td>\n",
       "      <td>0.764962</td>\n",
       "      <td>1688.000000</td>\n",
       "    </tr>\n",
       "  </tbody>\n",
       "</table>\n",
       "</div>"
      ],
      "text/plain": [
       "              precision    recall  f1-score      support\n",
       "0              0.816252  0.899919  0.856046  1239.000000\n",
       "1              0.614907  0.440980  0.513619   449.000000\n",
       "accuracy       0.777844  0.777844  0.777844     0.777844\n",
       "macro avg      0.715579  0.670450  0.684832  1688.000000\n",
       "weighted avg   0.762695  0.777844  0.764962  1688.000000"
      ]
     },
     "execution_count": 59,
     "metadata": {},
     "output_type": "execute_result"
    }
   ],
   "source": [
    "#Evaluate the predictions\n",
    "test_eval = metrics.classification_report(y_test, predictions, output_dict=True)\n",
    "\n",
    "#display info for \n",
    "pd.DataFrame(metrics.classification_report(y_test, predictions, output_dict=True)).T"
   ]
  },
  {
   "cell_type": "code",
   "execution_count": 60,
   "id": "e960cc6b",
   "metadata": {},
   "outputs": [
    {
     "data": {
      "text/plain": [
       "0.0017467725056274919"
      ]
     },
     "execution_count": 60,
     "metadata": {},
     "output_type": "execute_result"
    }
   ],
   "source": [
    "#Compare against the train and validate set\n",
    "\n",
    "#remove unneeded columns\n",
    "DT_compare.pop('Better than Baseline')\n",
    "DT_compare.pop('Accuracy Difference')"
   ]
  },
  {
   "cell_type": "markdown",
   "id": "5e168c94",
   "metadata": {},
   "source": [
    "### Evaluating the model <a name='evaluation'></a>\n",
    "\n",
    "\n",
    "<a href='#comparing'>Prev: Comparing Candidate Models</a> - <a href='#recommendations'>Next: Recommendations </a>\n",
    "\n"
   ]
  },
  {
   "cell_type": "code",
   "execution_count": 61,
   "id": "2cf9ca1d",
   "metadata": {},
   "outputs": [
    {
     "data": {
      "text/html": [
       "<div>\n",
       "<style scoped>\n",
       "    .dataframe tbody tr th:only-of-type {\n",
       "        vertical-align: middle;\n",
       "    }\n",
       "\n",
       "    .dataframe tbody tr th {\n",
       "        vertical-align: top;\n",
       "    }\n",
       "\n",
       "    .dataframe thead th {\n",
       "        text-align: right;\n",
       "    }\n",
       "</style>\n",
       "<table border=\"1\" class=\"dataframe\">\n",
       "  <thead>\n",
       "    <tr style=\"text-align: right;\">\n",
       "      <th></th>\n",
       "      <th>Train Accuracy</th>\n",
       "      <th>Train Sensitivity</th>\n",
       "      <th>Validate Accuracy</th>\n",
       "      <th>Validate Sensitivity</th>\n",
       "      <th>Test Accuracy</th>\n",
       "      <th>Test Sensitivity</th>\n",
       "      <th>Change in Accuracy</th>\n",
       "      <th>Change in Sensitivity</th>\n",
       "    </tr>\n",
       "    <tr>\n",
       "      <th>Model</th>\n",
       "      <th></th>\n",
       "      <th></th>\n",
       "      <th></th>\n",
       "      <th></th>\n",
       "      <th></th>\n",
       "      <th></th>\n",
       "      <th></th>\n",
       "      <th></th>\n",
       "    </tr>\n",
       "  </thead>\n",
       "  <tbody>\n",
       "    <tr>\n",
       "      <th>Decision Tree</th>\n",
       "      <td>0.80061</td>\n",
       "      <td>0.455067</td>\n",
       "      <td>0.798863</td>\n",
       "      <td>0.486631</td>\n",
       "      <td>0.777844</td>\n",
       "      <td>0.44098</td>\n",
       "      <td>0.022766</td>\n",
       "      <td>0.014087</td>\n",
       "    </tr>\n",
       "  </tbody>\n",
       "</table>\n",
       "</div>"
      ],
      "text/plain": [
       "               Train Accuracy  Train Sensitivity  Validate Accuracy  \\\n",
       "Model                                                                 \n",
       "Decision Tree         0.80061           0.455067           0.798863   \n",
       "\n",
       "               Validate Sensitivity  Test Accuracy  Test Sensitivity  \\\n",
       "Model                                                                  \n",
       "Decision Tree              0.486631       0.777844           0.44098   \n",
       "\n",
       "               Change in Accuracy  Change in Sensitivity  \n",
       "Model                                                     \n",
       "Decision Tree            0.022766               0.014087  "
      ]
     },
     "execution_count": 61,
     "metadata": {},
     "output_type": "execute_result"
    }
   ],
   "source": [
    "#add columns with test accuracy\n",
    "DT_compare['Test Accuracy'] = test_eval['accuracy']\n",
    "DT_compare['Test Sensitivity'] = test_eval['1']['recall']\n",
    "\n",
    "#compute the fall off in accruacy and sensitivity\n",
    "DT_compare['Change in Accuracy'] = DT_compare['Train Accuracy'] - DT_compare['Test Accuracy']\n",
    "DT_compare['Change in Sensitivity'] = DT_compare['Train Sensitivity'] - DT_compare['Test Sensitivity']\n",
    "\n",
    "#display dataframe\n",
    "test_df = pd.DataFrame([DT_compare])\n",
    "test_df.set_index('Model')"
   ]
  },
  {
   "cell_type": "markdown",
   "id": "fb48e40a",
   "metadata": {},
   "source": [
    "Accuracy fell off a little more than for accuracy on validate; however, it remains higher than baseline and comparable to the results from the other models.  Sensitivity too falls off, but remains comparable to the other models."
   ]
  },
  {
   "cell_type": "code",
   "execution_count": 62,
   "id": "d8e05dcd",
   "metadata": {
    "scrolled": false
   },
   "outputs": [
    {
     "data": {
      "text/plain": [
       "Text(0, 0.5, 'Accuracy')"
      ]
     },
     "execution_count": 62,
     "metadata": {},
     "output_type": "execute_result"
    },
    {
     "data": {
      "image/png": "[encoded data removed]",
      "text/plain": [
       "<Figure size 864x360 with 1 Axes>"
      ]
     },
     "metadata": {
      "needs_background": "light"
     },
     "output_type": "display_data"
    }
   ],
   "source": [
    "#graphically show the change in the accuracy\n",
    "melted_df = test_df[['Model','Train Accuracy', 'Validate Accuracy', 'Test Accuracy']].melt(id_vars='Model')\n",
    "melted_df\n",
    "plt.figure(figsize=(12, 5))\n",
    "sns.lineplot(x='variable', y='value', data = melted_df)\n",
    "plt.title('Change in model accuracy across data sets')\n",
    "plt.xlabel('Prediction set')\n",
    "plt.ylabel('Accuracy')"
   ]
  },
  {
   "cell_type": "markdown",
   "id": "8b8a8098",
   "metadata": {},
   "source": [
    "This graph shows the change in the model accuracy for the train, validate and test data sets.  The overall fall change is $-0.02$."
   ]
  },
  {
   "cell_type": "code",
   "execution_count": 63,
   "id": "c801f267",
   "metadata": {
    "scrolled": false
   },
   "outputs": [
    {
     "data": {
      "text/plain": [
       "Text(0, 0.5, 'Sensitivity')"
      ]
     },
     "execution_count": 63,
     "metadata": {},
     "output_type": "execute_result"
    },
    {
     "data": {
      "image/png": "[encoded data removed]",
      "text/plain": [
       "<Figure size 864x360 with 1 Axes>"
      ]
     },
     "metadata": {
      "needs_background": "light"
     },
     "output_type": "display_data"
    }
   ],
   "source": [
    "# graphically show the change in sensitivity\n",
    "melted_df = test_df[['Model','Train Sensitivity', 'Validate Sensitivity', 'Test Sensitivity']].melt(id_vars='Model')\n",
    "melted_df\n",
    "plt.figure(figsize=(12, 5))\n",
    "sns.lineplot(x='variable', y='value', data = melted_df)\n",
    "plt.title('Change in model sensitivity across data sets')\n",
    "plt.xlabel('Prediction set')\n",
    "plt.ylabel('Sensitivity')"
   ]
  },
  {
   "cell_type": "markdown",
   "id": "60233e20",
   "metadata": {},
   "source": [
    "This graph shows the change in the model accuracy for the train, validate and test data sets.  The overall fall change is $-0.01$."
   ]
  },
  {
   "cell_type": "markdown",
   "id": "092a1167",
   "metadata": {},
   "source": [
    "### Testing and Prediction Discussion\n",
    "\n",
    "The decision tree model remains fairly consistent in its accuracy and sensitivity overall data sets.  With $0.77$ accuracy, the model remains significantly above a baseline model.\n",
    "\n",
    "### Makeing a `predictions.csv`\n",
    "\n",
    "In order to display the prediction of churn and its probability, the testing results are made into a dataframe object that is then saved to a `.csv` file."
   ]
  },
  {
   "cell_type": "code",
   "execution_count": 64,
   "id": "acd8daf9",
   "metadata": {},
   "outputs": [
    {
     "data": {
      "text/html": [
       "<div>\n",
       "<style scoped>\n",
       "    .dataframe tbody tr th:only-of-type {\n",
       "        vertical-align: middle;\n",
       "    }\n",
       "\n",
       "    .dataframe tbody tr th {\n",
       "        vertical-align: top;\n",
       "    }\n",
       "\n",
       "    .dataframe thead th {\n",
       "        text-align: right;\n",
       "    }\n",
       "</style>\n",
       "<table border=\"1\" class=\"dataframe\">\n",
       "  <thead>\n",
       "    <tr style=\"text-align: right;\">\n",
       "      <th></th>\n",
       "      <th>customer_id</th>\n",
       "      <th>churn_prediction</th>\n",
       "      <th>prediction_probability</th>\n",
       "    </tr>\n",
       "  </thead>\n",
       "  <tbody>\n",
       "    <tr>\n",
       "      <th>816</th>\n",
       "      <td>1194-HVAIF</td>\n",
       "      <td>0</td>\n",
       "      <td>0.452333</td>\n",
       "    </tr>\n",
       "    <tr>\n",
       "      <th>1488</th>\n",
       "      <td>2194-IIQOF</td>\n",
       "      <td>0</td>\n",
       "      <td>0.011076</td>\n",
       "    </tr>\n",
       "    <tr>\n",
       "      <th>4796</th>\n",
       "      <td>6738-ISCBM</td>\n",
       "      <td>0</td>\n",
       "      <td>0.110092</td>\n",
       "    </tr>\n",
       "    <tr>\n",
       "      <th>3213</th>\n",
       "      <td>4609-KNNWG</td>\n",
       "      <td>0</td>\n",
       "      <td>0.011076</td>\n",
       "    </tr>\n",
       "    <tr>\n",
       "      <th>5026</th>\n",
       "      <td>7064-JHXCE</td>\n",
       "      <td>0</td>\n",
       "      <td>0.011076</td>\n",
       "    </tr>\n",
       "    <tr>\n",
       "      <th>...</th>\n",
       "      <td>...</td>\n",
       "      <td>...</td>\n",
       "      <td>...</td>\n",
       "    </tr>\n",
       "    <tr>\n",
       "      <th>1234</th>\n",
       "      <td>1832-PEUTS</td>\n",
       "      <td>0</td>\n",
       "      <td>0.071111</td>\n",
       "    </tr>\n",
       "    <tr>\n",
       "      <th>1279</th>\n",
       "      <td>1899-VXWXM</td>\n",
       "      <td>0</td>\n",
       "      <td>0.211538</td>\n",
       "    </tr>\n",
       "    <tr>\n",
       "      <th>2281</th>\n",
       "      <td>3258-ZKPAI</td>\n",
       "      <td>0</td>\n",
       "      <td>0.071111</td>\n",
       "    </tr>\n",
       "    <tr>\n",
       "      <th>2536</th>\n",
       "      <td>3633-CDBUW</td>\n",
       "      <td>0</td>\n",
       "      <td>0.110092</td>\n",
       "    </tr>\n",
       "    <tr>\n",
       "      <th>3718</th>\n",
       "      <td>5229-PRWKT</td>\n",
       "      <td>1</td>\n",
       "      <td>0.691460</td>\n",
       "    </tr>\n",
       "  </tbody>\n",
       "</table>\n",
       "<p>1688 rows × 3 columns</p>\n",
       "</div>"
      ],
      "text/plain": [
       "     customer_id  churn_prediction  prediction_probability\n",
       "816   1194-HVAIF                 0                0.452333\n",
       "1488  2194-IIQOF                 0                0.011076\n",
       "4796  6738-ISCBM                 0                0.110092\n",
       "3213  4609-KNNWG                 0                0.011076\n",
       "5026  7064-JHXCE                 0                0.011076\n",
       "...          ...               ...                     ...\n",
       "1234  1832-PEUTS                 0                0.071111\n",
       "1279  1899-VXWXM                 0                0.211538\n",
       "2281  3258-ZKPAI                 0                0.071111\n",
       "2536  3633-CDBUW                 0                0.110092\n",
       "3718  5229-PRWKT                 1                0.691460\n",
       "\n",
       "[1688 rows x 3 columns]"
      ]
     },
     "execution_count": 64,
     "metadata": {},
     "output_type": "execute_result"
    }
   ],
   "source": [
    "#make an empty dataframe\n",
    "predict_df = pd.DataFrame()\n",
    "#add the data needed\n",
    "predict_df['customer_id'] = test['customer_id']\n",
    "predict_df['churn_prediction'] = predictions\n",
    "#only the prediction to churn is needed\n",
    "predict_df['prediction_probability'] = predictions_proba[:,1]\n",
    "\n",
    "#save to a .csv file\n",
    "predict_df.to_csv('predictions.csv')\n",
    "\n",
    "predict_df"
   ]
  },
  {
   "cell_type": "markdown",
   "id": "b406c221",
   "metadata": {},
   "source": [
    "<a href='#contents'>To Top</a>\n",
    "\n",
    "<a href='#evaluation'>Prev: Evaluating the model</a> - <a href='#keytakeaways'>Beginning:Key Take Aways</a>\n",
    "## Recommendations <a name='recommendations'></a>\n",
    "As stated in the discussion about <a href='#modeldiscussion'> choosing the best model</a>, customers churn because their willingness to pay for the service they have is lower than their monthly payment.  However, any solution must also cost below the cost to replace the customer.  Some of the following could possibly meet business needs:\n",
    "\n",
    "Easiest/immediate solutions:\n",
    "- Offer discounts to current customers who are likely to churn. These can be based on the following:\n",
    "    - Move to automatic billing, or a longer contract.\n",
    "    - Demographic discounts (senior discount).\n",
    "    - Loyalty discounts for x months with the company.\n",
    "Intermediate solutions:\n",
    "- Contact customers who are likely to churn and get them service that meets their need\n",
    "    - Some may only need DSL level service.\n",
    "    - Offer additional services (online backup, device protection, etc.) to customers who want to keep fiber optic.\n",
    "Long term solutions:\n",
    "- Partner with companies for a loyalty reward program.\n",
    "- Offer intermediate levels of service; for example, DSL with discounted extras (online backup, technical help, etc).\n",
    "\n",
    "In order to deploy these strategies, the model can be used in the call center to display the likelihood of a particular customer churning.  This can then empower customer service employees to tailor the services to certain customers. It could also help to determine if new customers are getting the service that they need.\n",
    "\n",
    "## Final Conclusions <a name='conclusion'></a>\n",
    "- High predictors of churn are the following:\n",
    "    - Fiber optic service\n",
    "    - Month-to-Month contracts\n",
    "    - Electronic check payments\n",
    "- Solutions:\n",
    "    - Offer discounts to likely-to-churn customers\n",
    "    - Offer additional services to customers\n",
    "    \n",
    "### Meeting the goals of the project\n",
    "- The three major predictors of churn were Month-to-Month contracts, Fiber Optic service, and electronic checks\n",
    "- The decision tree model is greater than $0.75$ accurate\n",
    "- This report communicates these findings\n",
    "    \n",
    "### For further research\n",
    "- This is a limited analysis, any future analysis should consider the relationship between additional services and churn (see appendix)\n",
    "- Are demographic correlated with churn factors? For example, what customers are likely to have dependents/partners? Are these more likely to have fiber optic?\n",
    "- See appendix for more discussion\n",
    "\n",
    "<a href='#evaluation'>Prev: Evaluating the model</a> - <a href='#keytakeaways'>Beginning:Key Take Aways</a>\n",
    "\n",
    "<a href='#contents'>To Top</a>\n",
    "\n",
    "## Appendix <a name='appendix'></a>\n",
    "\n",
    "### Proportion of customers churning in each category <a name='categoricalprops'></a>\n",
    "\n",
    "Consider the churn for each subset of the categorical data.  Then conisder the categories with churn that is at least $0.1$ more than the overall churn rate."
   ]
  },
  {
   "cell_type": "code",
   "execution_count": 65,
   "id": "49290e53",
   "metadata": {},
   "outputs": [],
   "source": [
    "#get list of categorical data\n",
    "cat_var = train.dtypes[train.dtypes == 'object'].index.to_list()\n",
    "cat_var.remove('customer_id')\n",
    "cat_var.append('senior_citizen')\n",
    "\n",
    "#now get the proportion of churn for each one\n",
    "outputs = []\n",
    "for cat in cat_var:\n",
    "    for subcat in list(train[cat].unique()):\n",
    "        prop = (train[train[cat] == subcat].churn == 'Yes').mean()  \n",
    "        sample_prop = train[train[cat] == subcat].shape[0]/train.shape[0]\n",
    "        output = {\n",
    "            'category':cat,\n",
    "            'subcategory':subcat,\n",
    "            'churn_rate':prop,\n",
    "            'prop_in_sample': sample_prop\n",
    "        }\n",
    "        outputs.append(output)\n",
    "churn_rates = pd.DataFrame(outputs)"
   ]
  },
  {
   "cell_type": "code",
   "execution_count": 66,
   "id": "45edf923",
   "metadata": {},
   "outputs": [
    {
     "data": {
      "text/html": [
       "<div>\n",
       "<style scoped>\n",
       "    .dataframe tbody tr th:only-of-type {\n",
       "        vertical-align: middle;\n",
       "    }\n",
       "\n",
       "    .dataframe tbody tr th {\n",
       "        vertical-align: top;\n",
       "    }\n",
       "\n",
       "    .dataframe thead th {\n",
       "        text-align: right;\n",
       "    }\n",
       "</style>\n",
       "<table border=\"1\" class=\"dataframe\">\n",
       "  <thead>\n",
       "    <tr style=\"text-align: right;\">\n",
       "      <th></th>\n",
       "      <th>category</th>\n",
       "      <th>subcategory</th>\n",
       "      <th>churn_rate</th>\n",
       "      <th>prop_in_sample</th>\n",
       "    </tr>\n",
       "  </thead>\n",
       "  <tbody>\n",
       "    <tr>\n",
       "      <th>8</th>\n",
       "      <td>multiple_lines</td>\n",
       "      <td>Yes</td>\n",
       "      <td>0.292990</td>\n",
       "      <td>0.423927</td>\n",
       "    </tr>\n",
       "    <tr>\n",
       "      <th>28</th>\n",
       "      <td>streaming_movies</td>\n",
       "      <td>Yes</td>\n",
       "      <td>0.293965</td>\n",
       "      <td>0.391415</td>\n",
       "    </tr>\n",
       "    <tr>\n",
       "      <th>4</th>\n",
       "      <td>dependents</td>\n",
       "      <td>No</td>\n",
       "      <td>0.313297</td>\n",
       "      <td>0.697231</td>\n",
       "    </tr>\n",
       "    <tr>\n",
       "      <th>2</th>\n",
       "      <td>partner</td>\n",
       "      <td>No</td>\n",
       "      <td>0.327084</td>\n",
       "      <td>0.514859</td>\n",
       "    </tr>\n",
       "    <tr>\n",
       "      <th>29</th>\n",
       "      <td>paperless_billing</td>\n",
       "      <td>Yes</td>\n",
       "      <td>0.335628</td>\n",
       "      <td>0.590297</td>\n",
       "    </tr>\n",
       "    <tr>\n",
       "      <th>26</th>\n",
       "      <td>streaming_movies</td>\n",
       "      <td>No</td>\n",
       "      <td>0.345978</td>\n",
       "      <td>0.388367</td>\n",
       "    </tr>\n",
       "    <tr>\n",
       "      <th>23</th>\n",
       "      <td>streaming_tv</td>\n",
       "      <td>No</td>\n",
       "      <td>0.351840</td>\n",
       "      <td>0.393447</td>\n",
       "    </tr>\n",
       "    <tr>\n",
       "      <th>18</th>\n",
       "      <td>device_protection</td>\n",
       "      <td>No</td>\n",
       "      <td>0.393385</td>\n",
       "      <td>0.430023</td>\n",
       "    </tr>\n",
       "    <tr>\n",
       "      <th>16</th>\n",
       "      <td>online_backup</td>\n",
       "      <td>No</td>\n",
       "      <td>0.397171</td>\n",
       "      <td>0.431039</td>\n",
       "    </tr>\n",
       "    <tr>\n",
       "      <th>21</th>\n",
       "      <td>tech_support</td>\n",
       "      <td>No</td>\n",
       "      <td>0.416882</td>\n",
       "      <td>0.490475</td>\n",
       "    </tr>\n",
       "    <tr>\n",
       "      <th>44</th>\n",
       "      <td>senior_citizen</td>\n",
       "      <td>1</td>\n",
       "      <td>0.426772</td>\n",
       "      <td>0.161290</td>\n",
       "    </tr>\n",
       "    <tr>\n",
       "      <th>41</th>\n",
       "      <td>internet_service_type</td>\n",
       "      <td>Fiber optic</td>\n",
       "      <td>0.426829</td>\n",
       "      <td>0.437389</td>\n",
       "    </tr>\n",
       "    <tr>\n",
       "      <th>13</th>\n",
       "      <td>online_security</td>\n",
       "      <td>No</td>\n",
       "      <td>0.427007</td>\n",
       "      <td>0.487173</td>\n",
       "    </tr>\n",
       "    <tr>\n",
       "      <th>34</th>\n",
       "      <td>contract_type</td>\n",
       "      <td>Month-to-month</td>\n",
       "      <td>0.428176</td>\n",
       "      <td>0.549911</td>\n",
       "    </tr>\n",
       "    <tr>\n",
       "      <th>37</th>\n",
       "      <td>payment_type</td>\n",
       "      <td>Electronic check</td>\n",
       "      <td>0.450737</td>\n",
       "      <td>0.327407</td>\n",
       "    </tr>\n",
       "    <tr>\n",
       "      <th>32</th>\n",
       "      <td>churn</td>\n",
       "      <td>Yes</td>\n",
       "      <td>1.000000</td>\n",
       "      <td>0.265685</td>\n",
       "    </tr>\n",
       "  </tbody>\n",
       "</table>\n",
       "</div>"
      ],
      "text/plain": [
       "                 category       subcategory  churn_rate  prop_in_sample\n",
       "8          multiple_lines               Yes    0.292990        0.423927\n",
       "28       streaming_movies               Yes    0.293965        0.391415\n",
       "4              dependents                No    0.313297        0.697231\n",
       "2                 partner                No    0.327084        0.514859\n",
       "29      paperless_billing               Yes    0.335628        0.590297\n",
       "26       streaming_movies                No    0.345978        0.388367\n",
       "23           streaming_tv                No    0.351840        0.393447\n",
       "18      device_protection                No    0.393385        0.430023\n",
       "16          online_backup                No    0.397171        0.431039\n",
       "21           tech_support                No    0.416882        0.490475\n",
       "44         senior_citizen                 1    0.426772        0.161290\n",
       "41  internet_service_type       Fiber optic    0.426829        0.437389\n",
       "13        online_security                No    0.427007        0.487173\n",
       "34          contract_type    Month-to-month    0.428176        0.549911\n",
       "37           payment_type  Electronic check    0.450737        0.327407\n",
       "32                  churn               Yes    1.000000        0.265685"
      ]
     },
     "execution_count": 66,
     "metadata": {},
     "output_type": "execute_result"
    }
   ],
   "source": [
    "#consider churn rates at least 0.1 above the general churn rate\n",
    "high_churn_cats = churn_rates[churn_rates.churn_rate > proportion_churn*1.1].sort_values('churn_rate')\n",
    "high_churn_cats"
   ]
  },
  {
   "cell_type": "markdown",
   "id": "a447d96a",
   "metadata": {},
   "source": [
    "*Discussion*\n",
    "\n",
    "The following categories: `streaming_movies`, `streaming_tv`, `device_protection`, `online_backup`, `tech_support`, and `online_security` can all be considered additional services. In 6 out of the 7, the customers do not subscribe to the service.  Adding these services might decrease churn rate among customers.\n",
    "\n",
    "Consider online security churn rate:"
   ]
  },
  {
   "cell_type": "code",
   "execution_count": 67,
   "id": "813a3378",
   "metadata": {},
   "outputs": [
    {
     "data": {
      "text/html": [
       "<div>\n",
       "<style scoped>\n",
       "    .dataframe tbody tr th:only-of-type {\n",
       "        vertical-align: middle;\n",
       "    }\n",
       "\n",
       "    .dataframe tbody tr th {\n",
       "        vertical-align: top;\n",
       "    }\n",
       "\n",
       "    .dataframe thead th {\n",
       "        text-align: right;\n",
       "    }\n",
       "</style>\n",
       "<table border=\"1\" class=\"dataframe\">\n",
       "  <thead>\n",
       "    <tr style=\"text-align: right;\">\n",
       "      <th></th>\n",
       "      <th>category</th>\n",
       "      <th>subcategory</th>\n",
       "      <th>churn_rate</th>\n",
       "      <th>prop_in_sample</th>\n",
       "    </tr>\n",
       "  </thead>\n",
       "  <tbody>\n",
       "    <tr>\n",
       "      <th>11</th>\n",
       "      <td>online_security</td>\n",
       "      <td>Yes</td>\n",
       "      <td>0.141493</td>\n",
       "      <td>0.292609</td>\n",
       "    </tr>\n",
       "    <tr>\n",
       "      <th>12</th>\n",
       "      <td>online_security</td>\n",
       "      <td>No internet service</td>\n",
       "      <td>0.073818</td>\n",
       "      <td>0.220218</td>\n",
       "    </tr>\n",
       "    <tr>\n",
       "      <th>13</th>\n",
       "      <td>online_security</td>\n",
       "      <td>No</td>\n",
       "      <td>0.427007</td>\n",
       "      <td>0.487173</td>\n",
       "    </tr>\n",
       "  </tbody>\n",
       "</table>\n",
       "</div>"
      ],
      "text/plain": [
       "           category          subcategory  churn_rate  prop_in_sample\n",
       "11  online_security                  Yes    0.141493        0.292609\n",
       "12  online_security  No internet service    0.073818        0.220218\n",
       "13  online_security                   No    0.427007        0.487173"
      ]
     },
     "execution_count": 67,
     "metadata": {},
     "output_type": "execute_result"
    }
   ],
   "source": [
    "churn_rates[churn_rates.category=='online_security']"
   ]
  },
  {
   "cell_type": "markdown",
   "id": "2a53e1ba",
   "metadata": {},
   "source": [
    "The churn rate for those with online security is significantly lower than the rate for all customers. Moreover, the majority of customers do not use the service.\n",
    "\n",
    "<a href='#contents'>To Top</a>"
   ]
  },
  {
   "cell_type": "markdown",
   "id": "8a37203d",
   "metadata": {},
   "source": [
    "### Hypothesis testing information\n",
    "\n",
    "Consider teh combinations of every categorical variable and do a $χ^2$ test."
   ]
  },
  {
   "cell_type": "code",
   "execution_count": 68,
   "id": "f37979b1",
   "metadata": {},
   "outputs": [],
   "source": [
    "# do a chi^2 for every combination of categorical variable\n",
    "outputs = []\n",
    "\n",
    "alpha = 0.05\n",
    "\n",
    "for x in itertools.combinations(cat_var, 2):\n",
    "    obs = pd.crosstab(train[x[0]], train[x[1]])\n",
    "    chi2, p, degf, expected = stats.chi2_contingency(obs)\n",
    "    output = {\n",
    "        'test_categories':f\"{x[0]} x {x[1]}\",\n",
    "        'chi2': chi2,\n",
    "        'p_val': p,\n",
    "        'reject_null':p < alpha\n",
    "    }\n",
    "    outputs.append(output)\n",
    "chi_tests = pd.DataFrame(outputs)"
   ]
  },
  {
   "cell_type": "code",
   "execution_count": 69,
   "id": "7aff3e7a",
   "metadata": {},
   "outputs": [
    {
     "data": {
      "text/html": [
       "<div>\n",
       "<style scoped>\n",
       "    .dataframe tbody tr th:only-of-type {\n",
       "        vertical-align: middle;\n",
       "    }\n",
       "\n",
       "    .dataframe tbody tr th {\n",
       "        vertical-align: top;\n",
       "    }\n",
       "\n",
       "    .dataframe thead th {\n",
       "        text-align: right;\n",
       "    }\n",
       "</style>\n",
       "<table border=\"1\" class=\"dataframe\">\n",
       "  <thead>\n",
       "    <tr style=\"text-align: right;\">\n",
       "      <th></th>\n",
       "      <th>test_categories</th>\n",
       "      <th>chi2</th>\n",
       "      <th>p_val</th>\n",
       "      <th>reject_null</th>\n",
       "    </tr>\n",
       "  </thead>\n",
       "  <tbody>\n",
       "    <tr>\n",
       "      <th>126</th>\n",
       "      <td>churn x contract_type</td>\n",
       "      <td>664.657249</td>\n",
       "      <td>4.693667e-145</td>\n",
       "      <td>True</td>\n",
       "    </tr>\n",
       "    <tr>\n",
       "      <th>76</th>\n",
       "      <td>online_security x churn</td>\n",
       "      <td>510.520615</td>\n",
       "      <td>1.386300e-111</td>\n",
       "      <td>True</td>\n",
       "    </tr>\n",
       "    <tr>\n",
       "      <th>103</th>\n",
       "      <td>tech_support x churn</td>\n",
       "      <td>460.871935</td>\n",
       "      <td>8.373959e-101</td>\n",
       "      <td>True</td>\n",
       "    </tr>\n",
       "    <tr>\n",
       "      <th>128</th>\n",
       "      <td>churn x internet_service_type</td>\n",
       "      <td>439.766148</td>\n",
       "      <td>3.206227e-96</td>\n",
       "      <td>True</td>\n",
       "    </tr>\n",
       "    <tr>\n",
       "      <th>127</th>\n",
       "      <td>churn x payment_type</td>\n",
       "      <td>338.485229</td>\n",
       "      <td>4.643588e-73</td>\n",
       "      <td>True</td>\n",
       "    </tr>\n",
       "    <tr>\n",
       "      <th>86</th>\n",
       "      <td>online_backup x churn</td>\n",
       "      <td>326.015433</td>\n",
       "      <td>1.609342e-71</td>\n",
       "      <td>True</td>\n",
       "    </tr>\n",
       "    <tr>\n",
       "      <th>95</th>\n",
       "      <td>device_protection x churn</td>\n",
       "      <td>314.354955</td>\n",
       "      <td>5.478843e-69</td>\n",
       "      <td>True</td>\n",
       "    </tr>\n",
       "    <tr>\n",
       "      <th>110</th>\n",
       "      <td>streaming_tv x churn</td>\n",
       "      <td>226.175317</td>\n",
       "      <td>7.702893e-50</td>\n",
       "      <td>True</td>\n",
       "    </tr>\n",
       "    <tr>\n",
       "      <th>116</th>\n",
       "      <td>streaming_movies x churn</td>\n",
       "      <td>220.438256</td>\n",
       "      <td>1.356566e-48</td>\n",
       "      <td>True</td>\n",
       "    </tr>\n",
       "    <tr>\n",
       "      <th>121</th>\n",
       "      <td>paperless_billing x churn</td>\n",
       "      <td>141.364215</td>\n",
       "      <td>1.339372e-32</td>\n",
       "      <td>True</td>\n",
       "    </tr>\n",
       "    <tr>\n",
       "      <th>40</th>\n",
       "      <td>dependents x churn</td>\n",
       "      <td>104.542502</td>\n",
       "      <td>1.538574e-24</td>\n",
       "      <td>True</td>\n",
       "    </tr>\n",
       "    <tr>\n",
       "      <th>129</th>\n",
       "      <td>churn x senior_citizen</td>\n",
       "      <td>99.719170</td>\n",
       "      <td>1.756132e-23</td>\n",
       "      <td>True</td>\n",
       "    </tr>\n",
       "    <tr>\n",
       "      <th>26</th>\n",
       "      <td>partner x churn</td>\n",
       "      <td>80.089329</td>\n",
       "      <td>3.578599e-19</td>\n",
       "      <td>True</td>\n",
       "    </tr>\n",
       "    <tr>\n",
       "      <th>65</th>\n",
       "      <td>multiple_lines x churn</td>\n",
       "      <td>11.077952</td>\n",
       "      <td>3.930550e-03</td>\n",
       "      <td>True</td>\n",
       "    </tr>\n",
       "  </tbody>\n",
       "</table>\n",
       "</div>"
      ],
      "text/plain": [
       "                   test_categories        chi2          p_val  reject_null\n",
       "126          churn x contract_type  664.657249  4.693667e-145         True\n",
       "76         online_security x churn  510.520615  1.386300e-111         True\n",
       "103           tech_support x churn  460.871935  8.373959e-101         True\n",
       "128  churn x internet_service_type  439.766148   3.206227e-96         True\n",
       "127           churn x payment_type  338.485229   4.643588e-73         True\n",
       "86           online_backup x churn  326.015433   1.609342e-71         True\n",
       "95       device_protection x churn  314.354955   5.478843e-69         True\n",
       "110           streaming_tv x churn  226.175317   7.702893e-50         True\n",
       "116       streaming_movies x churn  220.438256   1.356566e-48         True\n",
       "121      paperless_billing x churn  141.364215   1.339372e-32         True\n",
       "40              dependents x churn  104.542502   1.538574e-24         True\n",
       "129         churn x senior_citizen   99.719170   1.756132e-23         True\n",
       "26                 partner x churn   80.089329   3.578599e-19         True\n",
       "65          multiple_lines x churn   11.077952   3.930550e-03         True"
      ]
     },
     "execution_count": 69,
     "metadata": {},
     "output_type": "execute_result"
    }
   ],
   "source": [
    "chi_tests[(chi_tests.reject_null == True) & (chi_tests.test_categories.str.contains('churn'))].sort_values('p_val')"
   ]
  },
  {
   "cell_type": "markdown",
   "id": "9d88754f",
   "metadata": {},
   "source": [
    "This supports the conclusion in the <a href='#categoricalprops'>previous section</a> that service categories such as `online_security` are drivers of churn.\n",
    "\n",
    "<a href='#contents'>To Top</a>\n",
    "\n",
    "### Hypothesis testing for numeric columns"
   ]
  },
  {
   "cell_type": "code",
   "execution_count": 70,
   "id": "b7519ce5",
   "metadata": {},
   "outputs": [
    {
     "data": {
      "text/html": [
       "<div>\n",
       "<style scoped>\n",
       "    .dataframe tbody tr th:only-of-type {\n",
       "        vertical-align: middle;\n",
       "    }\n",
       "\n",
       "    .dataframe tbody tr th {\n",
       "        vertical-align: top;\n",
       "    }\n",
       "\n",
       "    .dataframe thead th {\n",
       "        text-align: right;\n",
       "    }\n",
       "</style>\n",
       "<table border=\"1\" class=\"dataframe\">\n",
       "  <thead>\n",
       "    <tr style=\"text-align: right;\">\n",
       "      <th></th>\n",
       "      <th>columns</th>\n",
       "      <th>reject?</th>\n",
       "      <th>p-value</th>\n",
       "    </tr>\n",
       "  </thead>\n",
       "  <tbody>\n",
       "    <tr>\n",
       "      <th>0</th>\n",
       "      <td>churn x tenure</td>\n",
       "      <td>True</td>\n",
       "      <td>1.746209e-117</td>\n",
       "    </tr>\n",
       "    <tr>\n",
       "      <th>1</th>\n",
       "      <td>churn x monthly_charges</td>\n",
       "      <td>True</td>\n",
       "      <td>4.601430e-32</td>\n",
       "    </tr>\n",
       "    <tr>\n",
       "      <th>2</th>\n",
       "      <td>churn x total_charges</td>\n",
       "      <td>True</td>\n",
       "      <td>2.346810e-46</td>\n",
       "    </tr>\n",
       "  </tbody>\n",
       "</table>\n",
       "</div>"
      ],
      "text/plain": [
       "                   columns  reject?        p-value\n",
       "0           churn x tenure     True  1.746209e-117\n",
       "1  churn x monthly_charges     True   4.601430e-32\n",
       "2    churn x total_charges     True   2.346810e-46"
      ]
     },
     "execution_count": 70,
     "metadata": {},
     "output_type": "execute_result"
    }
   ],
   "source": [
    "# compare churn and non churn for numeric data\n",
    "# tenure and total_charges are not normal, use a mann whitney\n",
    "# two sided test to see that they are different\n",
    "\n",
    "alpha = 0.05\n",
    "num_col = ['tenure', 'monthly_charges', 'total_charges']\n",
    "\n",
    "telco_churn = train[train.churn == 'Yes']\n",
    "telco_nochurn = train[train.churn == 'No']\n",
    "\n",
    "cols = []\n",
    "rej = []\n",
    "p_val = []\n",
    "\n",
    "for col in num_col:\n",
    "    cols.append(f\"churn x {col}\")\n",
    "    #compare variance\n",
    "    churn_series = telco_churn[col]\n",
    "    nochurn_series = telco_nochurn[col]\n",
    "    #now do the mw test\n",
    "    t, p = stats.mannwhitneyu(churn_series, nochurn_series, alternative= 'two-sided')\n",
    "    reject = p/2 < alpha\n",
    "    rej.append(reject)\n",
    "    p_val.append(p)\n",
    "\n",
    "mannw_test = {\n",
    "    'columns': cols,\n",
    "    'reject?': rej,\n",
    "    'p-value':p_val\n",
    "}\n",
    "mannw_test = pd.DataFrame(mannw_test)\n",
    "mannw_test#[mannw_test['reject?']==True].sort_values('p-value')"
   ]
  },
  {
   "cell_type": "code",
   "execution_count": 71,
   "id": "ffbd14b1",
   "metadata": {},
   "outputs": [
    {
     "data": {
      "text/plain": [
       "(True, 2.460130776937842e-43)"
      ]
     },
     "execution_count": 71,
     "metadata": {},
     "output_type": "execute_result"
    }
   ],
   "source": [
    "#monthly charges might be considered normal.\n",
    "churn_series = telco_churn['monthly_charges']\n",
    "nochurn_series = telco_nochurn['monthly_charges']\n",
    "l_t, l_p = stats.levene(churn_series, nochurn_series)\n",
    "levene_bool = not l_p < alpha\n",
    "    #now do the t test\n",
    "t, p = stats.ttest_ind(churn_series, nochurn_series, equal_var= levene_bool)\n",
    "p/2 < alpha, p"
   ]
  },
  {
   "cell_type": "markdown",
   "id": "5e47115e",
   "metadata": {},
   "source": [
    "<a href='#contents'>To Top</a>"
   ]
  },
  {
   "cell_type": "markdown",
   "id": "a7fc0e97",
   "metadata": {},
   "source": [
    "### Choosing model hyperparameters\n",
    "\n",
    "A series of different models were used to determine the best hyperparameters.  The best model from each algorithm was chosen for the final report."
   ]
  },
  {
   "cell_type": "code",
   "execution_count": 72,
   "id": "610cf5ba",
   "metadata": {},
   "outputs": [],
   "source": [
    "# make the models\n",
    "DT_2 = DecisionTreeClassifier(max_depth = 2, random_state = rand_seed)\n",
    "DT_3 = DecisionTreeClassifier(max_depth = 3, random_state = rand_seed)\n",
    "DT_4 = DecisionTreeClassifier(max_depth = 4, random_state = rand_seed)\n",
    "RF_5_7 = RandomForestClassifier(min_samples_leaf = 5, max_depth = 7, random_state = rand_seed)\n",
    "RF_6_6 = RandomForestClassifier(min_samples_leaf = 6, max_depth = 6, random_state = rand_seed)\n",
    "RF_9_9 = RandomForestClassifier(min_samples_leaf = 9, max_depth = 9, random_state = rand_seed)\n",
    "KNN_17 = KNeighborsClassifier(n_neighbors=17)\n",
    "KNN_19 = KNeighborsClassifier(n_neighbors=19)\n",
    "KNN_21 = KNeighborsClassifier(n_neighbors=21)\n",
    "logit_lbfgs = LogisticRegression(random_state = rand_seed, max_iter = 200, solver='lbfgs')\n",
    "logit_newton_cg = LogisticRegression(random_state = rand_seed, max_iter = 200, solver='newton-cg')\n",
    "logit_liblinear = LogisticRegression(random_state = rand_seed, max_iter = 200, solver = 'liblinear')\n",
    "\n",
    "models = [\n",
    "    {\n",
    "        'name':'Decision Tree 2',\n",
    "        'model':DT_2\n",
    "    },\n",
    "    {\n",
    "        'name': 'Decision Tree 3',\n",
    "        'model':DT_3\n",
    "    },\n",
    "    {\n",
    "        'name': 'Decision Tree 4',\n",
    "        'model':DT_4\n",
    "    },\n",
    "    {\n",
    "        'name': 'Random Forest 5 7',\n",
    "        'model':RF_5_7\n",
    "    },\n",
    "    {\n",
    "        'name':'Random Forest 6 6',\n",
    "        'model':RF_6_6\n",
    "    },\n",
    "    {\n",
    "        'name':'Random Forest 9 9',\n",
    "        'model':RF_9_9\n",
    "    },\n",
    "    {\n",
    "        'name':'KN Neighbors 17',\n",
    "        'model':KNN_17\n",
    "    },\n",
    "    {\n",
    "        'name':'KN Neighbors 19',\n",
    "        'model':KNN_19\n",
    "    },\n",
    "    {\n",
    "        'name':'KN Neighbors 21',\n",
    "        'model':KNN_21\n",
    "    },\n",
    "    {\n",
    "        'name':'Logistic Regression lbfgs',\n",
    "        'model':logit_lbfgs\n",
    "    },\n",
    "    {\n",
    "        'name':'Logistic Regression newton-cg',\n",
    "        'model':logit_newton_cg\n",
    "    },\n",
    "    {\n",
    "        'name':'Logistic Regression liblinear',\n",
    "        'model':logit_liblinear\n",
    "    }\n",
    "]"
   ]
  },
  {
   "cell_type": "code",
   "execution_count": 73,
   "id": "fed0b186",
   "metadata": {},
   "outputs": [],
   "source": [
    "#train the models and make predictions on validate\n",
    "outputs = []\n",
    "for model in models:\n",
    "    model['model'] = model['model'].fit(X_train, y_train)\n",
    "    y_pred_train = model['model'].predict(X_train)\n",
    "    metrics_dict_train = metrics.classification_report(y_train, y_pred_train, output_dict = True)\n",
    "    y_pred = model['model'].predict(X_validate)\n",
    "    metrics_dict = metrics.classification_report(y_validate, y_pred, output_dict = True)\n",
    "    output = {\n",
    "        'model': model['name'],\n",
    "        'train accuracy': metrics_dict_train['accuracy'],\n",
    "        'train recall':metrics_dict['1']['recall'],\n",
    "        'validate accuracy': metrics_dict['accuracy'],\n",
    "        'validate recall':metrics_dict['1']['recall'],\n",
    "        'better_than_baseline':metrics_dict['accuracy'] > baseline_accuracy\n",
    "    }\n",
    "    outputs.append(output)"
   ]
  },
  {
   "cell_type": "code",
   "execution_count": 74,
   "id": "6b165ae3",
   "metadata": {},
   "outputs": [
    {
     "data": {
      "text/html": [
       "<div>\n",
       "<style scoped>\n",
       "    .dataframe tbody tr th:only-of-type {\n",
       "        vertical-align: middle;\n",
       "    }\n",
       "\n",
       "    .dataframe tbody tr th {\n",
       "        vertical-align: top;\n",
       "    }\n",
       "\n",
       "    .dataframe thead th {\n",
       "        text-align: right;\n",
       "    }\n",
       "</style>\n",
       "<table border=\"1\" class=\"dataframe\">\n",
       "  <thead>\n",
       "    <tr style=\"text-align: right;\">\n",
       "      <th></th>\n",
       "      <th>train accuracy</th>\n",
       "      <th>train recall</th>\n",
       "      <th>validate accuracy</th>\n",
       "      <th>validate recall</th>\n",
       "      <th>better_than_baseline</th>\n",
       "    </tr>\n",
       "    <tr>\n",
       "      <th>model</th>\n",
       "      <th></th>\n",
       "      <th></th>\n",
       "      <th></th>\n",
       "      <th></th>\n",
       "      <th></th>\n",
       "    </tr>\n",
       "  </thead>\n",
       "  <tbody>\n",
       "    <tr>\n",
       "      <th>Decision Tree 2</th>\n",
       "      <td>0.794006</td>\n",
       "      <td>0.403743</td>\n",
       "      <td>0.796020</td>\n",
       "      <td>0.403743</td>\n",
       "      <td>True</td>\n",
       "    </tr>\n",
       "    <tr>\n",
       "      <th>Decision Tree 3</th>\n",
       "      <td>0.794006</td>\n",
       "      <td>0.403743</td>\n",
       "      <td>0.796020</td>\n",
       "      <td>0.403743</td>\n",
       "      <td>True</td>\n",
       "    </tr>\n",
       "    <tr>\n",
       "      <th>KN Neighbors 21</th>\n",
       "      <td>0.794260</td>\n",
       "      <td>0.414439</td>\n",
       "      <td>0.789623</td>\n",
       "      <td>0.414439</td>\n",
       "      <td>True</td>\n",
       "    </tr>\n",
       "    <tr>\n",
       "      <th>KN Neighbors 19</th>\n",
       "      <td>0.796800</td>\n",
       "      <td>0.409091</td>\n",
       "      <td>0.786780</td>\n",
       "      <td>0.409091</td>\n",
       "      <td>True</td>\n",
       "    </tr>\n",
       "    <tr>\n",
       "      <th>KN Neighbors 17</th>\n",
       "      <td>0.799340</td>\n",
       "      <td>0.425134</td>\n",
       "      <td>0.792466</td>\n",
       "      <td>0.425134</td>\n",
       "      <td>True</td>\n",
       "    </tr>\n",
       "    <tr>\n",
       "      <th>Decision Tree 4</th>\n",
       "      <td>0.800610</td>\n",
       "      <td>0.486631</td>\n",
       "      <td>0.798863</td>\n",
       "      <td>0.486631</td>\n",
       "      <td>True</td>\n",
       "    </tr>\n",
       "    <tr>\n",
       "      <th>Logistic Regression lbfgs</th>\n",
       "      <td>0.802896</td>\n",
       "      <td>0.585561</td>\n",
       "      <td>0.808102</td>\n",
       "      <td>0.585561</td>\n",
       "      <td>True</td>\n",
       "    </tr>\n",
       "    <tr>\n",
       "      <th>Logistic Regression liblinear</th>\n",
       "      <td>0.802896</td>\n",
       "      <td>0.574866</td>\n",
       "      <td>0.809524</td>\n",
       "      <td>0.574866</td>\n",
       "      <td>True</td>\n",
       "    </tr>\n",
       "    <tr>\n",
       "      <th>Logistic Regression newton-cg</th>\n",
       "      <td>0.803404</td>\n",
       "      <td>0.585561</td>\n",
       "      <td>0.809524</td>\n",
       "      <td>0.585561</td>\n",
       "      <td>True</td>\n",
       "    </tr>\n",
       "    <tr>\n",
       "      <th>Random Forest 6 6</th>\n",
       "      <td>0.811024</td>\n",
       "      <td>0.489305</td>\n",
       "      <td>0.803838</td>\n",
       "      <td>0.489305</td>\n",
       "      <td>True</td>\n",
       "    </tr>\n",
       "    <tr>\n",
       "      <th>Random Forest 5 7</th>\n",
       "      <td>0.819660</td>\n",
       "      <td>0.524064</td>\n",
       "      <td>0.804549</td>\n",
       "      <td>0.524064</td>\n",
       "      <td>True</td>\n",
       "    </tr>\n",
       "    <tr>\n",
       "      <th>Random Forest 9 9</th>\n",
       "      <td>0.824486</td>\n",
       "      <td>0.545455</td>\n",
       "      <td>0.810235</td>\n",
       "      <td>0.545455</td>\n",
       "      <td>True</td>\n",
       "    </tr>\n",
       "  </tbody>\n",
       "</table>\n",
       "</div>"
      ],
      "text/plain": [
       "                               train accuracy  train recall  \\\n",
       "model                                                         \n",
       "Decision Tree 2                      0.794006      0.403743   \n",
       "Decision Tree 3                      0.794006      0.403743   \n",
       "KN Neighbors 21                      0.794260      0.414439   \n",
       "KN Neighbors 19                      0.796800      0.409091   \n",
       "KN Neighbors 17                      0.799340      0.425134   \n",
       "Decision Tree 4                      0.800610      0.486631   \n",
       "Logistic Regression lbfgs            0.802896      0.585561   \n",
       "Logistic Regression liblinear        0.802896      0.574866   \n",
       "Logistic Regression newton-cg        0.803404      0.585561   \n",
       "Random Forest 6 6                    0.811024      0.489305   \n",
       "Random Forest 5 7                    0.819660      0.524064   \n",
       "Random Forest 9 9                    0.824486      0.545455   \n",
       "\n",
       "                               validate accuracy  validate recall  \\\n",
       "model                                                               \n",
       "Decision Tree 2                         0.796020         0.403743   \n",
       "Decision Tree 3                         0.796020         0.403743   \n",
       "KN Neighbors 21                         0.789623         0.414439   \n",
       "KN Neighbors 19                         0.786780         0.409091   \n",
       "KN Neighbors 17                         0.792466         0.425134   \n",
       "Decision Tree 4                         0.798863         0.486631   \n",
       "Logistic Regression lbfgs               0.808102         0.585561   \n",
       "Logistic Regression liblinear           0.809524         0.574866   \n",
       "Logistic Regression newton-cg           0.809524         0.585561   \n",
       "Random Forest 6 6                       0.803838         0.489305   \n",
       "Random Forest 5 7                       0.804549         0.524064   \n",
       "Random Forest 9 9                       0.810235         0.545455   \n",
       "\n",
       "                               better_than_baseline  \n",
       "model                                                \n",
       "Decision Tree 2                                True  \n",
       "Decision Tree 3                                True  \n",
       "KN Neighbors 21                                True  \n",
       "KN Neighbors 19                                True  \n",
       "KN Neighbors 17                                True  \n",
       "Decision Tree 4                                True  \n",
       "Logistic Regression lbfgs                      True  \n",
       "Logistic Regression liblinear                  True  \n",
       "Logistic Regression newton-cg                  True  \n",
       "Random Forest 6 6                              True  \n",
       "Random Forest 5 7                              True  \n",
       "Random Forest 9 9                              True  "
      ]
     },
     "execution_count": 74,
     "metadata": {},
     "output_type": "execute_result"
    }
   ],
   "source": [
    "pd.DataFrame(outputs).sort_values(['train accuracy', 'validate accuracy']).set_index('model')"
   ]
  },
  {
   "cell_type": "markdown",
   "id": "deab529f",
   "metadata": {},
   "source": [
    "*Note*: the differences are marginal, but they all are greater than the baseline model.\n",
    "\n",
    "<a href='#contents'>To Top</a>"
   ]
  }
 ],
 "metadata": {
  "kernelspec": {
   "display_name": "Python 3 (ipykernel)",
   "language": "python",
   "name": "python3"
  },
  "language_info": {
   "codemirror_mode": {
    "name": "ipython",
    "version": 3
   },
   "file_extension": ".py",
   "mimetype": "text/x-python",
   "name": "python",
   "nbconvert_exporter": "python",
   "pygments_lexer": "ipython3",
   "version": "3.9.7"
  }
 },
 "nbformat": 4,
 "nbformat_minor": 5
}
