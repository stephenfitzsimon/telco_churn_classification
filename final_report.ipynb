{
 "cells": [
  {
   "cell_type": "markdown",
   "id": "1505570d",
   "metadata": {},
   "source": [
    "# Telco Churn Final Report\n",
    "\n",
    "## Key Take-Aways From This Report\n",
    "- $\\approx 0.27$ of customers are churning per month\n",
    "- Customers with month-to-month, fiber optic service, and electronic check are high predictors of churn; in addition, churned customers tend to pay more per-month.\n",
    "- Recommendation: \n",
    "    1. Promote longer contracts, and services that correctly meet customer needs (perhaps through additional services). \n",
    "    2. Reduce monthly charges early on in a customer relationship by offering discounts"
   ]
  },
  {
   "cell_type": "markdown",
   "id": "33210f90",
   "metadata": {},
   "source": [
    "## Final Reports Contents <a name='contents'></a>\n",
    "\n",
    "1. <a href='#introduction'>Introduction</a>\n",
    "    1. <a href='#goals'>Goals and Deliverables</a>\n",
    "    2. <a href='#hypothesis'>Initial Hypothesis/Questions</a>\n",
    "2. <a href='#dataintro'>Introduction to the Data</a>\n",
    "3. <a href='#acquire'>Acquire Data</a>\n",
    "4. <a href='#prepare'>Prepare Data</a>\n",
    "5. <a href='#explore'>Explore Data</a>\n",
    "    1. <a href='#permonth'>Are churned customers paying more per month?</a>\n",
    "    2. <a href='#churncontract'>Is churn associated with a contract type?</a>\n",
    "    3. <a href='#churninternettype'>Is churn associated with internet service type?</a>"
   ]
  },
  {
   "cell_type": "markdown",
   "id": "9bb14287",
   "metadata": {},
   "source": [
    "The following Python modules and constants are used in this project:"
   ]
  },
  {
   "cell_type": "code",
   "execution_count": 99,
   "id": "54824ddd",
   "metadata": {},
   "outputs": [],
   "source": [
    "import pandas as pd\n",
    "import itertools\n",
    "from scipy import stats\n",
    "import matplotlib.pyplot as plt\n",
    "import seaborn as sns\n",
    "from sklearn import metrics\n",
    "\n",
    "from sklearn.tree import DecisionTreeClassifier, plot_tree\n",
    "from sklearn.ensemble import RandomForestClassifier\n",
    "from sklearn.neighbors import KNeighborsClassifier\n",
    "from sklearn.linear_model import LogisticRegression\n",
    "\n",
    "import acquire\n",
    "import prepare\n",
    "\n",
    "rand_seed = prepare.RAND_SEED #to use for the model building\n",
    "alpha = 0.05 #used for hypothesis testing"
   ]
  },
  {
   "cell_type": "markdown",
   "id": "31601c70",
   "metadata": {},
   "source": [
    "## Introduction <a name='introduction'></a>\n",
    "\n",
    "This project explores the Telco data set to determine the variables of customer churn. It includes the full data science pipline: acquiring and cleaning the data, exploring and visualizing the data, and finally using a model to predict churn.\n",
    "\n",
    "### Goals and Deliverables <a name='goals'></a>\n",
    "\n",
    "- Goals\n",
    "\t- Identify at least 3 variables that predict churn\n",
    "\t- A model that is at least 0.75 accurate\n",
    "\t- A report communicating the data science pipeline process\n",
    "- Deliverables\n",
    "\t- This readme\n",
    "\t- A final report Jupyter Notebook with clean code\n",
    "\t- Python modules automating the acquire and preparation of the data\n",
    "\t- A CSV of data predictions\n",
    "\n",
    "### Initial Hypothesis/Questions <a name='hypothesis'></a>\n",
    "\n",
    "- I expect that contract and payment types are the most important predictors of churn\n",
    "\t- People who pay more and see it every month are reminded of the money they are spending and can make a value judgement on whether or not they want to spend their money\n",
    "- Are additional services important parts of churn?\n",
    "\t- Are people more reluctant to leave the company if they have certain services?\n",
    "\n",
    "\n",
    "<a href='#contents'>To Top</a>"
   ]
  },
  {
   "cell_type": "markdown",
   "id": "3219e906",
   "metadata": {},
   "source": [
    "## Introduction to the Data <a name='dataintro'></a>\n",
    "\n",
    "Every row in the data represents an individual customer, and includes data on their relationship with the Telco company.  Each customer has a unique ID consisting of numerics and alphabetic chars.  Basic demographic information is available, consisting of gender, partner status, dependent status, and senior citizen status.  The rest of the columns contain information on the customer's relationship with the company.  \n",
    "\n",
    "#### Customer Identification and Demographic Data:\n",
    "- Customer ID (String)\n",
    "- Gender (Male/Female)\n",
    "- Partner status (Bool)\n",
    "- Dependent status (Bool)\n",
    "- Senior citizen status (Bool)\n",
    "\n",
    "#### Customer Relationship information:\n",
    "- Tenure in months (float)\n",
    "- Monthly charges (\\$USD) (float)\n",
    "- Total charges (\\$USD) (float)\n",
    "- Paperless Billing (Bool)\n",
    "- Payment type (categorical)\n",
    "- Phone Service, with service option columns:\n",
    "    - Multiple lines : One Line, Multiple Lines, No Phone Service (categorical)\n",
    "- Internet Service Type: Fiber Optic, DSL, None (categorical)\n",
    "- Internet Service Option columns (all bool):\n",
    "    - Online security\n",
    "    - Online backup\n",
    "    - Device protection\n",
    "    - Tech support\n",
    "    - Streaming TV\n",
    "    - Streaming movies\n",
    "- Churn status (bool)\n",
    "\n",
    "\n",
    "<a href='#contents'>To Top</a>"
   ]
  },
  {
   "cell_type": "markdown",
   "id": "113c37af",
   "metadata": {},
   "source": [
    "## Acquire the Data <a name='acquire'></a>\n",
    "\n",
    "A custom acquire module is used to retrieve the data from the CodeUp MySQL database.  This module includes the following function signature:\n",
    "- `get_telco_data(query_db=False)` : Queries the database, or-if a `telco.csv` is present-opens a file to retrieve the data needed for this project.  The data is then cast to a DataFrame and returned to the call location.\n",
    "    - `query_db=True` will force a database query even if a `telco.csv` file is present, and the existing `telco.csv` file will be overwritten.\n",
    "    \n",
    "The following MySQL command is used:\n",
    "\n",
    "`SELECT c.*, ct.contract_type, pt.payment_type, iso.internet_service_type\n",
    "    FROM customers AS c\n",
    "        JOIN contract_types AS ct USING (contract_type_id)\n",
    "        JOIN payment_types AS pt USING (payment_type_id)\n",
    "        JOIN internet_service_types AS iso USING (internet_service_type_id);`"
   ]
  },
  {
   "cell_type": "code",
   "execution_count": 22,
   "id": "621ced5f",
   "metadata": {},
   "outputs": [
    {
     "name": "stdout",
     "output_type": "stream",
     "text": [
      "Returning saved csv file.\n"
     ]
    },
    {
     "data": {
      "text/html": [
       "<div>\n",
       "<style scoped>\n",
       "    .dataframe tbody tr th:only-of-type {\n",
       "        vertical-align: middle;\n",
       "    }\n",
       "\n",
       "    .dataframe tbody tr th {\n",
       "        vertical-align: top;\n",
       "    }\n",
       "\n",
       "    .dataframe thead th {\n",
       "        text-align: right;\n",
       "    }\n",
       "</style>\n",
       "<table border=\"1\" class=\"dataframe\">\n",
       "  <thead>\n",
       "    <tr style=\"text-align: right;\">\n",
       "      <th></th>\n",
       "      <th>Unnamed: 0</th>\n",
       "      <th>customer_id</th>\n",
       "      <th>gender</th>\n",
       "      <th>senior_citizen</th>\n",
       "      <th>partner</th>\n",
       "      <th>dependents</th>\n",
       "      <th>tenure</th>\n",
       "      <th>phone_service</th>\n",
       "      <th>multiple_lines</th>\n",
       "      <th>internet_service_type_id</th>\n",
       "      <th>...</th>\n",
       "      <th>streaming_movies</th>\n",
       "      <th>contract_type_id</th>\n",
       "      <th>paperless_billing</th>\n",
       "      <th>payment_type_id</th>\n",
       "      <th>monthly_charges</th>\n",
       "      <th>total_charges</th>\n",
       "      <th>churn</th>\n",
       "      <th>contract_type</th>\n",
       "      <th>payment_type</th>\n",
       "      <th>internet_service_type</th>\n",
       "    </tr>\n",
       "  </thead>\n",
       "  <tbody>\n",
       "    <tr>\n",
       "      <th>0</th>\n",
       "      <td>0</td>\n",
       "      <td>0002-ORFBO</td>\n",
       "      <td>Female</td>\n",
       "      <td>0</td>\n",
       "      <td>Yes</td>\n",
       "      <td>Yes</td>\n",
       "      <td>9</td>\n",
       "      <td>Yes</td>\n",
       "      <td>No</td>\n",
       "      <td>1</td>\n",
       "      <td>...</td>\n",
       "      <td>No</td>\n",
       "      <td>2</td>\n",
       "      <td>Yes</td>\n",
       "      <td>2</td>\n",
       "      <td>65.6</td>\n",
       "      <td>593.3</td>\n",
       "      <td>No</td>\n",
       "      <td>One year</td>\n",
       "      <td>Mailed check</td>\n",
       "      <td>DSL</td>\n",
       "    </tr>\n",
       "    <tr>\n",
       "      <th>1</th>\n",
       "      <td>1</td>\n",
       "      <td>0003-MKNFE</td>\n",
       "      <td>Male</td>\n",
       "      <td>0</td>\n",
       "      <td>No</td>\n",
       "      <td>No</td>\n",
       "      <td>9</td>\n",
       "      <td>Yes</td>\n",
       "      <td>Yes</td>\n",
       "      <td>1</td>\n",
       "      <td>...</td>\n",
       "      <td>Yes</td>\n",
       "      <td>1</td>\n",
       "      <td>No</td>\n",
       "      <td>2</td>\n",
       "      <td>59.9</td>\n",
       "      <td>542.4</td>\n",
       "      <td>No</td>\n",
       "      <td>Month-to-month</td>\n",
       "      <td>Mailed check</td>\n",
       "      <td>DSL</td>\n",
       "    </tr>\n",
       "    <tr>\n",
       "      <th>2</th>\n",
       "      <td>2</td>\n",
       "      <td>0004-TLHLJ</td>\n",
       "      <td>Male</td>\n",
       "      <td>0</td>\n",
       "      <td>No</td>\n",
       "      <td>No</td>\n",
       "      <td>4</td>\n",
       "      <td>Yes</td>\n",
       "      <td>No</td>\n",
       "      <td>2</td>\n",
       "      <td>...</td>\n",
       "      <td>No</td>\n",
       "      <td>1</td>\n",
       "      <td>Yes</td>\n",
       "      <td>1</td>\n",
       "      <td>73.9</td>\n",
       "      <td>280.85</td>\n",
       "      <td>Yes</td>\n",
       "      <td>Month-to-month</td>\n",
       "      <td>Electronic check</td>\n",
       "      <td>Fiber optic</td>\n",
       "    </tr>\n",
       "  </tbody>\n",
       "</table>\n",
       "<p>3 rows × 25 columns</p>\n",
       "</div>"
      ],
      "text/plain": [
       "   Unnamed: 0 customer_id  gender  senior_citizen partner dependents  tenure  \\\n",
       "0           0  0002-ORFBO  Female               0     Yes        Yes       9   \n",
       "1           1  0003-MKNFE    Male               0      No         No       9   \n",
       "2           2  0004-TLHLJ    Male               0      No         No       4   \n",
       "\n",
       "  phone_service multiple_lines  internet_service_type_id  ...  \\\n",
       "0           Yes             No                         1  ...   \n",
       "1           Yes            Yes                         1  ...   \n",
       "2           Yes             No                         2  ...   \n",
       "\n",
       "  streaming_movies contract_type_id paperless_billing payment_type_id  \\\n",
       "0               No                2               Yes               2   \n",
       "1              Yes                1                No               2   \n",
       "2               No                1               Yes               1   \n",
       "\n",
       "  monthly_charges total_charges  churn   contract_type      payment_type  \\\n",
       "0            65.6         593.3     No        One year      Mailed check   \n",
       "1            59.9         542.4     No  Month-to-month      Mailed check   \n",
       "2            73.9        280.85    Yes  Month-to-month  Electronic check   \n",
       "\n",
       "   internet_service_type  \n",
       "0                    DSL  \n",
       "1                    DSL  \n",
       "2            Fiber optic  \n",
       "\n",
       "[3 rows x 25 columns]"
      ]
     },
     "execution_count": 22,
     "metadata": {},
     "output_type": "execute_result"
    }
   ],
   "source": [
    "df = acquire.get_telco_data() # call the custom function and store returned dataframe in the df variable\n",
    "df.head(3) # display the first three rows of the dataframe variable"
   ]
  },
  {
   "cell_type": "code",
   "execution_count": 23,
   "id": "49b62baf",
   "metadata": {
    "scrolled": false
   },
   "outputs": [
    {
     "name": "stdout",
     "output_type": "stream",
     "text": [
      "<class 'pandas.core.frame.DataFrame'>\n",
      "RangeIndex: 7043 entries, 0 to 7042\n",
      "Data columns (total 25 columns):\n",
      " #   Column                    Non-Null Count  Dtype  \n",
      "---  ------                    --------------  -----  \n",
      " 0   Unnamed: 0                7043 non-null   int64  \n",
      " 1   customer_id               7043 non-null   object \n",
      " 2   gender                    7043 non-null   object \n",
      " 3   senior_citizen            7043 non-null   int64  \n",
      " 4   partner                   7043 non-null   object \n",
      " 5   dependents                7043 non-null   object \n",
      " 6   tenure                    7043 non-null   int64  \n",
      " 7   phone_service             7043 non-null   object \n",
      " 8   multiple_lines            7043 non-null   object \n",
      " 9   internet_service_type_id  7043 non-null   int64  \n",
      " 10  online_security           7043 non-null   object \n",
      " 11  online_backup             7043 non-null   object \n",
      " 12  device_protection         7043 non-null   object \n",
      " 13  tech_support              7043 non-null   object \n",
      " 14  streaming_tv              7043 non-null   object \n",
      " 15  streaming_movies          7043 non-null   object \n",
      " 16  contract_type_id          7043 non-null   int64  \n",
      " 17  paperless_billing         7043 non-null   object \n",
      " 18  payment_type_id           7043 non-null   int64  \n",
      " 19  monthly_charges           7043 non-null   float64\n",
      " 20  total_charges             7043 non-null   object \n",
      " 21  churn                     7043 non-null   object \n",
      " 22  contract_type             7043 non-null   object \n",
      " 23  payment_type              7043 non-null   object \n",
      " 24  internet_service_type     7043 non-null   object \n",
      "dtypes: float64(1), int64(6), object(18)\n",
      "memory usage: 1.3+ MB\n"
     ]
    }
   ],
   "source": [
    "df.info()"
   ]
  },
  {
   "cell_type": "markdown",
   "id": "52f05fc5",
   "metadata": {},
   "source": [
    "Key acquire take-aways:\n",
    "- 7043 rows are retrieved and 24 columns are retrieved\n",
    "\n",
    "<a href='#contents'>To Top</a>"
   ]
  },
  {
   "cell_type": "markdown",
   "id": "0bb34c71",
   "metadata": {},
   "source": [
    "## Prepare the Data <a name='prepare'></a>\n"
   ]
  },
  {
   "cell_type": "markdown",
   "id": "389cd278",
   "metadata": {},
   "source": [
    "A custom module is used to prepare the data acquired from the database.  It contains the following relevant function signature:\n",
    "- `prep_telco(df)` : Given the acquired dataframe, this drops the foreign keys from the SQL. It also drops the rows without a `total_charges` value; `total_charges` are then cast to `float` data type. Returns a prepared dataframe object.\n",
    "    - The rows dropped in `total_charges` are rows that have `tenure=0`; a `total_charges` of $0$ could be infered--however, there are only $11$ rows where this happens and therefore it represents only $0.0016$ of the original date, i.e. not enough rows to make a difference.\n",
    "- `split_telco_data(df)` : Given a prepared dataframe, this will return train, validate and test subsets of the dataframe.\n",
    "    - The `statify` parameter is used for `sklearn.model_selection.test_train_split()` to ensure that churned customers are equally distributed over the subsets\n",
    "\n",
    "(More information on the code that these functions are made of can be seen in the `prepare.py` comments, and in the `README.md` appendices."
   ]
  },
  {
   "cell_type": "code",
   "execution_count": 24,
   "id": "866d52e9",
   "metadata": {},
   "outputs": [
    {
     "name": "stderr",
     "output_type": "stream",
     "text": [
      "/opt/homebrew/anaconda3/lib/python3.9/site-packages/pandas/core/generic.py:5516: SettingWithCopyWarning: \n",
      "A value is trying to be set on a copy of a slice from a DataFrame.\n",
      "Try using .loc[row_indexer,col_indexer] = value instead\n",
      "\n",
      "See the caveats in the documentation: https://pandas.pydata.org/pandas-docs/stable/user_guide/indexing.html#returning-a-view-versus-a-copy\n",
      "  self[name] = value\n"
     ]
    },
    {
     "data": {
      "text/html": [
       "<div>\n",
       "<style scoped>\n",
       "    .dataframe tbody tr th:only-of-type {\n",
       "        vertical-align: middle;\n",
       "    }\n",
       "\n",
       "    .dataframe tbody tr th {\n",
       "        vertical-align: top;\n",
       "    }\n",
       "\n",
       "    .dataframe thead th {\n",
       "        text-align: right;\n",
       "    }\n",
       "</style>\n",
       "<table border=\"1\" class=\"dataframe\">\n",
       "  <thead>\n",
       "    <tr style=\"text-align: right;\">\n",
       "      <th></th>\n",
       "      <th>customer_id</th>\n",
       "      <th>gender</th>\n",
       "      <th>senior_citizen</th>\n",
       "      <th>partner</th>\n",
       "      <th>dependents</th>\n",
       "      <th>tenure</th>\n",
       "      <th>phone_service</th>\n",
       "      <th>multiple_lines</th>\n",
       "      <th>online_security</th>\n",
       "      <th>online_backup</th>\n",
       "      <th>...</th>\n",
       "      <th>tech_support</th>\n",
       "      <th>streaming_tv</th>\n",
       "      <th>streaming_movies</th>\n",
       "      <th>paperless_billing</th>\n",
       "      <th>monthly_charges</th>\n",
       "      <th>total_charges</th>\n",
       "      <th>churn</th>\n",
       "      <th>contract_type</th>\n",
       "      <th>payment_type</th>\n",
       "      <th>internet_service_type</th>\n",
       "    </tr>\n",
       "  </thead>\n",
       "  <tbody>\n",
       "    <tr>\n",
       "      <th>5919</th>\n",
       "      <td>8331-ZXFOE</td>\n",
       "      <td>Female</td>\n",
       "      <td>0</td>\n",
       "      <td>No</td>\n",
       "      <td>No</td>\n",
       "      <td>58</td>\n",
       "      <td>Yes</td>\n",
       "      <td>Yes</td>\n",
       "      <td>Yes</td>\n",
       "      <td>Yes</td>\n",
       "      <td>...</td>\n",
       "      <td>Yes</td>\n",
       "      <td>No</td>\n",
       "      <td>No</td>\n",
       "      <td>Yes</td>\n",
       "      <td>71.10</td>\n",
       "      <td>4299.20</td>\n",
       "      <td>No</td>\n",
       "      <td>One year</td>\n",
       "      <td>Credit card (automatic)</td>\n",
       "      <td>DSL</td>\n",
       "    </tr>\n",
       "    <tr>\n",
       "      <th>1915</th>\n",
       "      <td>2790-XUYMV</td>\n",
       "      <td>Male</td>\n",
       "      <td>0</td>\n",
       "      <td>No</td>\n",
       "      <td>Yes</td>\n",
       "      <td>71</td>\n",
       "      <td>Yes</td>\n",
       "      <td>Yes</td>\n",
       "      <td>Yes</td>\n",
       "      <td>Yes</td>\n",
       "      <td>...</td>\n",
       "      <td>No</td>\n",
       "      <td>No</td>\n",
       "      <td>No</td>\n",
       "      <td>Yes</td>\n",
       "      <td>85.45</td>\n",
       "      <td>6028.95</td>\n",
       "      <td>No</td>\n",
       "      <td>One year</td>\n",
       "      <td>Credit card (automatic)</td>\n",
       "      <td>Fiber optic</td>\n",
       "    </tr>\n",
       "    <tr>\n",
       "      <th>5054</th>\n",
       "      <td>7107-UBYKY</td>\n",
       "      <td>Female</td>\n",
       "      <td>0</td>\n",
       "      <td>Yes</td>\n",
       "      <td>Yes</td>\n",
       "      <td>35</td>\n",
       "      <td>Yes</td>\n",
       "      <td>Yes</td>\n",
       "      <td>No internet service</td>\n",
       "      <td>No internet service</td>\n",
       "      <td>...</td>\n",
       "      <td>No internet service</td>\n",
       "      <td>No internet service</td>\n",
       "      <td>No internet service</td>\n",
       "      <td>Yes</td>\n",
       "      <td>25.75</td>\n",
       "      <td>882.55</td>\n",
       "      <td>No</td>\n",
       "      <td>Month-to-month</td>\n",
       "      <td>Electronic check</td>\n",
       "      <td>None</td>\n",
       "    </tr>\n",
       "  </tbody>\n",
       "</table>\n",
       "<p>3 rows × 21 columns</p>\n",
       "</div>"
      ],
      "text/plain": [
       "     customer_id  gender  senior_citizen partner dependents  tenure  \\\n",
       "5919  8331-ZXFOE  Female               0      No         No      58   \n",
       "1915  2790-XUYMV    Male               0      No        Yes      71   \n",
       "5054  7107-UBYKY  Female               0     Yes        Yes      35   \n",
       "\n",
       "     phone_service multiple_lines      online_security        online_backup  \\\n",
       "5919           Yes            Yes                  Yes                  Yes   \n",
       "1915           Yes            Yes                  Yes                  Yes   \n",
       "5054           Yes            Yes  No internet service  No internet service   \n",
       "\n",
       "      ...         tech_support         streaming_tv     streaming_movies  \\\n",
       "5919  ...                  Yes                   No                   No   \n",
       "1915  ...                   No                   No                   No   \n",
       "5054  ...  No internet service  No internet service  No internet service   \n",
       "\n",
       "     paperless_billing monthly_charges  total_charges  churn   contract_type  \\\n",
       "5919               Yes           71.10        4299.20     No        One year   \n",
       "1915               Yes           85.45        6028.95     No        One year   \n",
       "5054               Yes           25.75         882.55     No  Month-to-month   \n",
       "\n",
       "                 payment_type internet_service_type  \n",
       "5919  Credit card (automatic)                   DSL  \n",
       "1915  Credit card (automatic)           Fiber optic  \n",
       "5054         Electronic check                  None  \n",
       "\n",
       "[3 rows x 21 columns]"
      ]
     },
     "execution_count": 24,
     "metadata": {},
     "output_type": "execute_result"
    }
   ],
   "source": [
    "df_prep = prepare.prep_telco(df) #split the dataframe into three subsets\n",
    "train, validate, test = prepare.split_telco_data(df_prep)\n",
    "train.head(3)"
   ]
  },
  {
   "cell_type": "code",
   "execution_count": 25,
   "id": "8f45a4d8",
   "metadata": {},
   "outputs": [
    {
     "data": {
      "text/plain": [
       "(3937, 21)"
      ]
     },
     "execution_count": 25,
     "metadata": {},
     "output_type": "execute_result"
    }
   ],
   "source": [
    "train.shape #there are 3943 rows and 25 columns"
   ]
  },
  {
   "cell_type": "code",
   "execution_count": 26,
   "id": "b82e363b",
   "metadata": {},
   "outputs": [
    {
     "name": "stdout",
     "output_type": "stream",
     "text": [
      "<class 'pandas.core.frame.DataFrame'>\n",
      "Int64Index: 3937 entries, 5919 to 4192\n",
      "Data columns (total 21 columns):\n",
      " #   Column                 Non-Null Count  Dtype  \n",
      "---  ------                 --------------  -----  \n",
      " 0   customer_id            3937 non-null   object \n",
      " 1   gender                 3937 non-null   object \n",
      " 2   senior_citizen         3937 non-null   int64  \n",
      " 3   partner                3937 non-null   object \n",
      " 4   dependents             3937 non-null   object \n",
      " 5   tenure                 3937 non-null   int64  \n",
      " 6   phone_service          3937 non-null   object \n",
      " 7   multiple_lines         3937 non-null   object \n",
      " 8   online_security        3937 non-null   object \n",
      " 9   online_backup          3937 non-null   object \n",
      " 10  device_protection      3937 non-null   object \n",
      " 11  tech_support           3937 non-null   object \n",
      " 12  streaming_tv           3937 non-null   object \n",
      " 13  streaming_movies       3937 non-null   object \n",
      " 14  paperless_billing      3937 non-null   object \n",
      " 15  monthly_charges        3937 non-null   float64\n",
      " 16  total_charges          3937 non-null   float64\n",
      " 17  churn                  3937 non-null   object \n",
      " 18  contract_type          3937 non-null   object \n",
      " 19  payment_type           3937 non-null   object \n",
      " 20  internet_service_type  3937 non-null   object \n",
      "dtypes: float64(2), int64(2), object(17)\n",
      "memory usage: 676.7+ KB\n"
     ]
    }
   ],
   "source": [
    "train.info()"
   ]
  },
  {
   "cell_type": "markdown",
   "id": "f11260fe",
   "metadata": {},
   "source": [
    "Key prepare take-aways:\n",
    "- 11 rows are dropped due to lack of data in the `total_charges` column\n",
    "- Data is split into train, validate, and test subsets\n",
    "\n",
    "<a href='#contents'>To Top</a>"
   ]
  },
  {
   "cell_type": "markdown",
   "id": "6ac6ef22",
   "metadata": {},
   "source": [
    "## Exploring the Data <a name='explore'></a>"
   ]
  },
  {
   "cell_type": "markdown",
   "id": "1818f603",
   "metadata": {},
   "source": [
    "The `train` data set is used to explore the data. \n",
    "\n",
    "The first to understand is the extent of churn within the data.\n",
    "\n",
    "Key take-aways:\n",
    "- Churn rate for the overall sample is $\\approx0.27$\n",
    "- This represents $\\approx1000$ customers"
   ]
  },
  {
   "cell_type": "code",
   "execution_count": 37,
   "id": "023e2313",
   "metadata": {},
   "outputs": [
    {
     "data": {
      "text/plain": [
       "No     2891\n",
       "Yes    1046\n",
       "Name: churn, dtype: int64"
      ]
     },
     "execution_count": 37,
     "metadata": {},
     "output_type": "execute_result"
    }
   ],
   "source": [
    "train.churn.value_counts() #get the values of the churn column"
   ]
  },
  {
   "cell_type": "code",
   "execution_count": 60,
   "id": "2d7f50dc",
   "metadata": {},
   "outputs": [
    {
     "data": {
      "text/plain": [
       "0.2656845313690627"
      ]
     },
     "execution_count": 60,
     "metadata": {},
     "output_type": "execute_result"
    }
   ],
   "source": [
    "proportion_churn = (train.churn == 'Yes').mean() #get the proportion of customers who churn\n",
    "proportion_churn"
   ]
  },
  {
   "cell_type": "code",
   "execution_count": 68,
   "id": "5175dc53",
   "metadata": {},
   "outputs": [
    {
     "data": {
      "text/plain": [
       "Text(0.5, 0, 'Churn')"
      ]
     },
     "execution_count": 68,
     "metadata": {},
     "output_type": "execute_result"
    },
    {
     "data": {
      "image/png": "[encoded data removed]",
      "text/plain": [
       "<Figure size 720x504 with 1 Axes>"
      ]
     },
     "metadata": {
      "needs_background": "light"
     },
     "output_type": "display_data"
    }
   ],
   "source": [
    "# plot the churn proortions\n",
    "plt.figure(figsize=(10,7)) # make figure larger\n",
    "train.churn.value_counts().plot.bar() # make the bar plot with the data\n",
    "plt.title(f'Overall churn is {proportion_churn:.2}') # set the plot title\n",
    "plt.xlabel('Churn') # Set the x-axis label"
   ]
  },
  {
   "cell_type": "markdown",
   "id": "65f390d7",
   "metadata": {},
   "source": [
    "### Are churned customers paying more per month? <a name = 'permonth'></a>\n",
    "\n",
    "\n",
    "#### Visualize"
   ]
  },
  {
   "cell_type": "markdown",
   "id": "86359979",
   "metadata": {},
   "source": [
    "There are three columns that are numeric: `tenure`, `monthly_charges`, and `total_charges`. Each of these can be plotted to see the differences between churned and non-churned customers."
   ]
  },
  {
   "cell_type": "code",
   "execution_count": 76,
   "id": "9588b00f",
   "metadata": {},
   "outputs": [],
   "source": [
    "#make a dataframe of just the numeric columns and churn\n",
    "train_numerics = train[['tenure', 'monthly_charges', 'total_charges', 'churn']]"
   ]
  },
  {
   "cell_type": "code",
   "execution_count": 103,
   "id": "095084cf",
   "metadata": {},
   "outputs": [
    {
     "data": {
      "text/plain": [
       "Text(0.5, 0, 'Churn')"
      ]
     },
     "execution_count": 103,
     "metadata": {},
     "output_type": "execute_result"
    },
    {
     "data": {
      "image/png": "[encoded data removed]",
      "text/plain": [
       "<Figure size 720x504 with 1 Axes>"
      ]
     },
     "metadata": {
      "needs_background": "light"
     },
     "output_type": "display_data"
    }
   ],
   "source": [
    "plt.figure(figsize=(10,7)) # make figure larger\n",
    "sns.boxplot(data=train_numerics, x='churn', y='monthly_charges') #plot monthly charges\n",
    "plt.title(f'Monthly Charges: Churn vs. Not-Churn') # set the plot title\n",
    "plt.ylabel('Monthly Charges (USD)') #set ylabel\n",
    "plt.xlabel('Churn') #set x label"
   ]
  },
  {
   "cell_type": "code",
   "execution_count": 87,
   "id": "0bb3341e",
   "metadata": {
    "scrolled": true
   },
   "outputs": [
    {
     "data": {
      "text/html": [
       "<div>\n",
       "<style scoped>\n",
       "    .dataframe tbody tr th:only-of-type {\n",
       "        vertical-align: middle;\n",
       "    }\n",
       "\n",
       "    .dataframe tbody tr th {\n",
       "        vertical-align: top;\n",
       "    }\n",
       "\n",
       "    .dataframe thead th {\n",
       "        text-align: right;\n",
       "    }\n",
       "</style>\n",
       "<table border=\"1\" class=\"dataframe\">\n",
       "  <thead>\n",
       "    <tr style=\"text-align: right;\">\n",
       "      <th>churn</th>\n",
       "      <th>No</th>\n",
       "      <th>Yes</th>\n",
       "    </tr>\n",
       "  </thead>\n",
       "  <tbody>\n",
       "    <tr>\n",
       "      <th>count</th>\n",
       "      <td>2891.000000</td>\n",
       "      <td>1046.000000</td>\n",
       "    </tr>\n",
       "    <tr>\n",
       "      <th>mean</th>\n",
       "      <td>61.218091</td>\n",
       "      <td>74.719216</td>\n",
       "    </tr>\n",
       "    <tr>\n",
       "      <th>std</th>\n",
       "      <td>31.349533</td>\n",
       "      <td>24.593969</td>\n",
       "    </tr>\n",
       "    <tr>\n",
       "      <th>min</th>\n",
       "      <td>18.250000</td>\n",
       "      <td>18.850000</td>\n",
       "    </tr>\n",
       "    <tr>\n",
       "      <th>25%</th>\n",
       "      <td>25.000000</td>\n",
       "      <td>59.525000</td>\n",
       "    </tr>\n",
       "    <tr>\n",
       "      <th>50%</th>\n",
       "      <td>64.500000</td>\n",
       "      <td>79.850000</td>\n",
       "    </tr>\n",
       "    <tr>\n",
       "      <th>75%</th>\n",
       "      <td>89.025000</td>\n",
       "      <td>94.237500</td>\n",
       "    </tr>\n",
       "    <tr>\n",
       "      <th>max</th>\n",
       "      <td>118.650000</td>\n",
       "      <td>118.350000</td>\n",
       "    </tr>\n",
       "  </tbody>\n",
       "</table>\n",
       "</div>"
      ],
      "text/plain": [
       "churn           No          Yes\n",
       "count  2891.000000  1046.000000\n",
       "mean     61.218091    74.719216\n",
       "std      31.349533    24.593969\n",
       "min      18.250000    18.850000\n",
       "25%      25.000000    59.525000\n",
       "50%      64.500000    79.850000\n",
       "75%      89.025000    94.237500\n",
       "max     118.650000   118.350000"
      ]
     },
     "execution_count": 87,
     "metadata": {},
     "output_type": "execute_result"
    }
   ],
   "source": [
    "# same information numerically\n",
    "train_numerics.groupby('churn')['monthly_charges'].describe().T"
   ]
  },
  {
   "cell_type": "markdown",
   "id": "016634d3",
   "metadata": {},
   "source": [
    "#### Perform hypothesis testing\n",
    "\n",
    "Consider the distribution of monthly charges.  It is roughly normally distributed.  See graph below, and that the mean and median are different by $\\approx 6$ (normally distributed $\\implies \\text{mean} = \\text{median}$).  Therefore perform a t-test on the column."
   ]
  },
  {
   "cell_type": "code",
   "execution_count": 93,
   "id": "39699af5",
   "metadata": {
    "scrolled": false
   },
   "outputs": [
    {
     "data": {
      "text/plain": [
       "<AxesSubplot:>"
      ]
     },
     "execution_count": 93,
     "metadata": {},
     "output_type": "execute_result"
    },
    {
     "data": {
      "image/png": "[encoded data removed]",
      "text/plain": [
       "<Figure size 432x288 with 1 Axes>"
      ]
     },
     "metadata": {
      "needs_background": "light"
     },
     "output_type": "display_data"
    }
   ],
   "source": [
    "train.monthly_charges.hist()"
   ]
  },
  {
   "cell_type": "code",
   "execution_count": 92,
   "id": "3c091aca",
   "metadata": {},
   "outputs": [
    {
     "data": {
      "text/plain": [
       "(64.80513081026147, 70.25)"
      ]
     },
     "execution_count": 92,
     "metadata": {},
     "output_type": "execute_result"
    }
   ],
   "source": [
    "train.monthly_charges.mean(), train.monthly_charges.median()"
   ]
  },
  {
   "cell_type": "markdown",
   "id": "8109278c",
   "metadata": {},
   "source": [
    "Perform a t-test to determine the following:\n",
    "\n",
    "$H_0$ : The mean monthly charges among churned customers is *less than or equal to* that of unchurned customers\n",
    "\n",
    "$H_a$ : The mean monthly charges among churned customers is *greater than* that of unchurned customers"
   ]
  },
  {
   "cell_type": "code",
   "execution_count": 100,
   "id": "af0a9aa0",
   "metadata": {},
   "outputs": [
    {
     "data": {
      "text/plain": [
       "(True, 2.460130776937842e-43)"
      ]
     },
     "execution_count": 100,
     "metadata": {},
     "output_type": "execute_result"
    }
   ],
   "source": [
    "churn_series = train[train.churn == 'Yes'].monthly_charges\n",
    "nochurn_series = train[train.churn == 'No'].monthly_charges\n",
    "l_t, l_p = stats.levene(churn_series, nochurn_series)\n",
    "levene_bool = not l_p < alpha\n",
    "    #now do the t test\n",
    "t, p = stats.ttest_ind(churn_series, nochurn_series, equal_var= levene_bool)\n",
    "p/2 < alpha, p"
   ]
  },
  {
   "cell_type": "code",
   "execution_count": 101,
   "id": "3fc94b45",
   "metadata": {},
   "outputs": [
    {
     "name": "stdout",
     "output_type": "stream",
     "text": [
      "Null hypothesis is likely false\n"
     ]
    }
   ],
   "source": [
    "if p/2 < alpha:\n",
    "    print('Null hypothesis is likely false')\n",
    "else:\n",
    "    print('Null hypothesis is likely true')"
   ]
  },
  {
   "cell_type": "markdown",
   "id": "ce02db3e",
   "metadata": {},
   "source": [
    "*Conclusion*: The mean monthly charges is most likely higher among customers who churn than those who do not churn.\""
   ]
  },
  {
   "cell_type": "markdown",
   "id": "95807a53",
   "metadata": {},
   "source": [
    "Key take away:\n",
    "- Churned customers are paying more per month\n",
    "    - `total_charges` can be inferred from the `monthly_charges` column.  \n",
    "    \n",
    "<a href='#contents'>To Top</a>"
   ]
  },
  {
   "cell_type": "markdown",
   "id": "0d03d56a",
   "metadata": {},
   "source": [
    "### Is churn associated with a contract type? <a name='churncontract'></a>\n",
    "\n",
    "\n",
    "#### Visualize"
   ]
  },
  {
   "cell_type": "markdown",
   "id": "d73e675c",
   "metadata": {},
   "source": [
    "Consider churn among different contract types.\n",
    "\n",
    "Three contract types: Month-to-Month, One Year, Two Year"
   ]
  },
  {
   "cell_type": "code",
   "execution_count": 112,
   "id": "7fd1ef6c",
   "metadata": {},
   "outputs": [
    {
     "data": {
      "text/plain": [
       "Text(0, 0.5, 'Number of customers')"
      ]
     },
     "execution_count": 112,
     "metadata": {},
     "output_type": "execute_result"
    },
    {
     "data": {
      "image/png": "[encoded data removed]",
      "text/plain": [
       "<Figure size 720x504 with 1 Axes>"
      ]
     },
     "metadata": {
      "needs_background": "light"
     },
     "output_type": "display_data"
    }
   ],
   "source": [
    "plt.figure(figsize=(10,7)) # make figure larger\n",
    "sns.countplot(data=train, x='contract_type', hue='churn')\n",
    "plt.title('Churn by contract type')\n",
    "plt.xlabel('Contract type')\n",
    "plt.ylabel('Number of customers')"
   ]
  },
  {
   "cell_type": "code",
   "execution_count": 115,
   "id": "b7e38a23",
   "metadata": {},
   "outputs": [
    {
     "data": {
      "text/html": [
       "<div>\n",
       "<style scoped>\n",
       "    .dataframe tbody tr th:only-of-type {\n",
       "        vertical-align: middle;\n",
       "    }\n",
       "\n",
       "    .dataframe tbody tr th {\n",
       "        vertical-align: top;\n",
       "    }\n",
       "\n",
       "    .dataframe thead th {\n",
       "        text-align: right;\n",
       "    }\n",
       "</style>\n",
       "<table border=\"1\" class=\"dataframe\">\n",
       "  <thead>\n",
       "    <tr style=\"text-align: right;\">\n",
       "      <th></th>\n",
       "      <th></th>\n",
       "      <th>churn</th>\n",
       "    </tr>\n",
       "    <tr>\n",
       "      <th>contract_type</th>\n",
       "      <th>churn</th>\n",
       "      <th></th>\n",
       "    </tr>\n",
       "  </thead>\n",
       "  <tbody>\n",
       "    <tr>\n",
       "      <th rowspan=\"2\" valign=\"top\">Month-to-month</th>\n",
       "      <th>No</th>\n",
       "      <td>1238</td>\n",
       "    </tr>\n",
       "    <tr>\n",
       "      <th>Yes</th>\n",
       "      <td>927</td>\n",
       "    </tr>\n",
       "    <tr>\n",
       "      <th rowspan=\"2\" valign=\"top\">One year</th>\n",
       "      <th>No</th>\n",
       "      <td>726</td>\n",
       "    </tr>\n",
       "    <tr>\n",
       "      <th>Yes</th>\n",
       "      <td>89</td>\n",
       "    </tr>\n",
       "    <tr>\n",
       "      <th rowspan=\"2\" valign=\"top\">Two year</th>\n",
       "      <th>No</th>\n",
       "      <td>927</td>\n",
       "    </tr>\n",
       "    <tr>\n",
       "      <th>Yes</th>\n",
       "      <td>30</td>\n",
       "    </tr>\n",
       "  </tbody>\n",
       "</table>\n",
       "</div>"
      ],
      "text/plain": [
       "                      churn\n",
       "contract_type  churn       \n",
       "Month-to-month No      1238\n",
       "               Yes      927\n",
       "One year       No       726\n",
       "               Yes       89\n",
       "Two year       No       927\n",
       "               Yes       30"
      ]
     },
     "execution_count": 115,
     "metadata": {},
     "output_type": "execute_result"
    }
   ],
   "source": [
    "#proportion shown numerically:\n",
    "# group the data by contract type an calculate the count of rows for each one\n",
    "pd.DataFrame(train.groupby('contract_type').churn.value_counts()) "
   ]
  },
  {
   "cell_type": "code",
   "execution_count": 123,
   "id": "be4bcfab",
   "metadata": {},
   "outputs": [
    {
     "data": {
      "text/html": [
       "<div>\n",
       "<style scoped>\n",
       "    .dataframe tbody tr th:only-of-type {\n",
       "        vertical-align: middle;\n",
       "    }\n",
       "\n",
       "    .dataframe tbody tr th {\n",
       "        vertical-align: top;\n",
       "    }\n",
       "\n",
       "    .dataframe thead th {\n",
       "        text-align: right;\n",
       "    }\n",
       "</style>\n",
       "<table border=\"1\" class=\"dataframe\">\n",
       "  <thead>\n",
       "    <tr style=\"text-align: right;\">\n",
       "      <th></th>\n",
       "      <th>Category</th>\n",
       "      <th>Subcategory</th>\n",
       "      <th>Churn rate</th>\n",
       "    </tr>\n",
       "  </thead>\n",
       "  <tbody>\n",
       "    <tr>\n",
       "      <th>0</th>\n",
       "      <td>Contract type</td>\n",
       "      <td>One year</td>\n",
       "      <td>0.109202</td>\n",
       "    </tr>\n",
       "    <tr>\n",
       "      <th>1</th>\n",
       "      <td>Contract type</td>\n",
       "      <td>Month-to-month</td>\n",
       "      <td>0.428176</td>\n",
       "    </tr>\n",
       "    <tr>\n",
       "      <th>2</th>\n",
       "      <td>Contract type</td>\n",
       "      <td>Two year</td>\n",
       "      <td>0.031348</td>\n",
       "    </tr>\n",
       "  </tbody>\n",
       "</table>\n",
       "</div>"
      ],
      "text/plain": [
       "        Category     Subcategory  Churn rate\n",
       "0  Contract type        One year    0.109202\n",
       "1  Contract type  Month-to-month    0.428176\n",
       "2  Contract type        Two year    0.031348"
      ]
     },
     "execution_count": 123,
     "metadata": {},
     "output_type": "execute_result"
    }
   ],
   "source": [
    "#as a percentage\n",
    "outputs = []\n",
    "cat_var = ['contract_type']\n",
    "for cat in cat_var:\n",
    "    for subcat in list(train[cat].unique()):\n",
    "        prop = (train[train[cat] == subcat].churn == 'Yes').mean()  \n",
    "        sample_prop = train[train[cat] == subcat].shape[0]/train.shape[0]\n",
    "        output = {\n",
    "            'Category':'Contract type',\n",
    "            'Subcategory':subcat,\n",
    "            'Churn rate':prop,\n",
    "        }\n",
    "        outputs.append(output)\n",
    "pd.DataFrame(outputs)"
   ]
  },
  {
   "cell_type": "markdown",
   "id": "b8bde95c",
   "metadata": {},
   "source": [
    "#### Perform hypothesis testing\n",
    "\n",
    "Visually and numerically it appears that month-to-month customers. Perform hypothesis testing on the following:\n",
    "\n",
    "$H_0$ : Month to month contracts are independent of churn.\n",
    "\n",
    "$H_a$ : Month to month contracts are not independent of churn."
   ]
  },
  {
   "cell_type": "code",
   "execution_count": 140,
   "id": "7a64f4bf",
   "metadata": {},
   "outputs": [
    {
     "name": "stderr",
     "output_type": "stream",
     "text": [
      "/var/folders/lw/_43z7rb5635_x1dwsyzrnc_m0000gn/T/ipykernel_39565/240837508.py:3: SettingWithCopyWarning: \n",
      "A value is trying to be set on a copy of a slice from a DataFrame.\n",
      "Try using .loc[row_indexer,col_indexer] = value instead\n",
      "\n",
      "See the caveats in the documentation: https://pandas.pydata.org/pandas-docs/stable/user_guide/indexing.html#returning-a-view-versus-a-copy\n",
      "  contract_hypothesis['monthly_contract'] = (contract_hypothesis.contract_type == 'Month-to-month')\n"
     ]
    }
   ],
   "source": [
    "#seperate out \n",
    "contract_hypothesis = train[['churn', 'contract_type']]\n",
    "contract_hypothesis['monthly_contract'] = (contract_hypothesis.contract_type == 'Month-to-month')"
   ]
  },
  {
   "cell_type": "code",
   "execution_count": 145,
   "id": "94fadb1a",
   "metadata": {},
   "outputs": [
    {
     "data": {
      "text/plain": [
       "(649.1331915563476, 3.4484593947893894e-143)"
      ]
     },
     "execution_count": 145,
     "metadata": {},
     "output_type": "execute_result"
    }
   ],
   "source": [
    "obs = pd.crosstab(contract_hypothesis.churn, contract_hypothesis.monthly_contract)\n",
    "chi2, p, degf, expected = stats.chi2_contingency(obs)\n",
    "chi2, p"
   ]
  },
  {
   "cell_type": "code",
   "execution_count": 143,
   "id": "983715f3",
   "metadata": {},
   "outputs": [
    {
     "name": "stdout",
     "output_type": "stream",
     "text": [
      "Null hypothesis is likely false\n"
     ]
    }
   ],
   "source": [
    "if p < alpha:\n",
    "    print('Null hypothesis is likely false')\n",
    "else:\n",
    "    print('Null hypothesis is likely true')"
   ]
  },
  {
   "cell_type": "markdown",
   "id": "b13aa0b8",
   "metadata": {},
   "source": [
    "*Conclusion*: Churn is most likely dependent on churn."
   ]
  },
  {
   "cell_type": "markdown",
   "id": "bc424b7c",
   "metadata": {},
   "source": [
    "Key take away:\n",
    "- Because of the high $χ^2$  value, it is very likely that churn is not independent on Month-to-Month contract status\n",
    "\n",
    "<a href='#contents'>To Top</a>"
   ]
  },
  {
   "cell_type": "markdown",
   "id": "d6fcfa93",
   "metadata": {},
   "source": [
    "### Is churn associated with internet service type? <a name='churninternettype'></a>\n",
    "\n",
    "#### Visualize"
   ]
  },
  {
   "cell_type": "markdown",
   "id": "0a9e6e7a",
   "metadata": {},
   "source": [
    "Consider customers by their internet service type."
   ]
  },
  {
   "cell_type": "code",
   "execution_count": 148,
   "id": "692c40b7",
   "metadata": {},
   "outputs": [
    {
     "data": {
      "text/plain": [
       "Text(0, 0.5, 'Number of customers')"
      ]
     },
     "execution_count": 148,
     "metadata": {},
     "output_type": "execute_result"
    },
    {
     "data": {
      "image/png": "[encoded data removed]",
      "text/plain": [
       "<Figure size 720x504 with 1 Axes>"
      ]
     },
     "metadata": {
      "needs_background": "light"
     },
     "output_type": "display_data"
    }
   ],
   "source": [
    "plt.figure(figsize=(10,7)) # make figure larger\n",
    "sns.countplot(data=train, x='internet_service_type', hue='churn')\n",
    "plt.title('Churn by internet service')\n",
    "plt.xlabel('Internet service')\n",
    "plt.ylabel('Number of customers')"
   ]
  },
  {
   "cell_type": "code",
   "execution_count": null,
   "id": "43953a0f",
   "metadata": {},
   "outputs": [],
   "source": []
  }
 ],
 "metadata": {
  "kernelspec": {
   "display_name": "Python 3 (ipykernel)",
   "language": "python",
   "name": "python3"
  },
  "language_info": {
   "codemirror_mode": {
    "name": "ipython",
    "version": 3
   },
   "file_extension": ".py",
   "mimetype": "text/x-python",
   "name": "python",
   "nbconvert_exporter": "python",
   "pygments_lexer": "ipython3",
   "version": "3.9.7"
  }
 },
 "nbformat": 4,
 "nbformat_minor": 5
}
